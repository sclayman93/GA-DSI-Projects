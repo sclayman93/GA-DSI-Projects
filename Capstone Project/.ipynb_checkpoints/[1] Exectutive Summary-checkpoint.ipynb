{
 "cells": [
  {
   "cell_type": "markdown",
   "metadata": {},
   "source": [
    "# [1] Executive Summary"
   ]
  },
  {
   "cell_type": "markdown",
   "metadata": {},
   "source": [
    "---\n",
    "For my project, I was looking at loan data with the goal of building a model to predict loan defaults. I sourced my data from Lending Club, the largest peer-to-peer lending organisation in the world. I had data for nearly 1.8 million Lending Club loans covering loans from 2007 to 2017. The dataset included loans of different statuses such as currently paying, or late. However, as my target was to predict loan defaults, I only looked at loans that had come to completion. That way I could build a simple binary classification model to predict if a borrower would default on their or fully pay back the loan.\n",
    "\n",
    "Because most people do not default on their loans, one limitation I had from the start was a large class imbalance, with most records being fully paid. Resampling techniques were required to overcome this problem.\n",
    "\n",
    "The dataset contained 145 features and these appeared to be split into two groups: features about the loan; features about the borrower. The features about the loan included loan amount, interest rate, loan grade, issue date, etc. The features about the borrower included annual income, DTI (debt-to-income ratio), number of bank accounts, previous delinquencies, etc.\n",
    "\n",
    "One of the features about the borrower was zip code, i.e. where the borrower lived. I thought that it would be interesting to see if I could map macroeconomic data to my loan data based on the zip codes. I wanted to see if perhaps the affluence of the area that someone lives in could be a predictor for loan defaults, e.g. perhaps less affluent areas would see higher default rates. I was able to download data containing median household income per zip code from the US Census Bureau. However, there were some limitations with my approach. I was only able to download census data from 2011 to 2016. My loan data covered the years 2007 to 2017. This meant that I could not map the census data to loan data based on year. Therefore I had to average the median household income which generalised it. Another limitation was the fact that my loan data only contained the first three digits of the zip code which represents very large area. Therefore, I had to further average out the median household incomes for each three digit zip code which lead to more generalisation of this macroeconomic factor. In the end, the median household income data became to generalised to act as a strong predictor but I thought that it would be an interesting inclusion anyway.\n",
    "\n",
    "Due to the class imbalance of my data, I was unable to use accuracy scores as a metric to measure the performance of the machine learning models. Therefore I used AUC-ROC and also recall. I surmised that when sensibly granting loans, one would want to be conservative and not grant loans to someone with a high risk of defaulting. Therefore, I measured the performance of the models based on the reduction of false negatives (in which someone is predicted to fully pay the loan but ends up defaulting). The recall score was used to measure the false negatives.\n",
    "\n",
    "Currently, my best performing model is a downsampled logistic regression. The model still does not have great accuracy, but, in testing, acts as a conservative model with a lot more false positives than false negatives, which was my aim, and more true positives than false negatives. The models revealed several key insights in terms of what the main factors were in loan defaults. Above all, interest rate was the strongest predictor. Other strong predictors of defaults included the length of repayment (60 month term more likely to default than 36 month term), debt-to-income ratio, annual income, and home renting.\n",
    "\n",
    "The interest rate of a loan is based on an assigned loan grade. Lending Club will assign a loan grade based on the credit report of the borrower. The highest grade loans (A) have low interest rates and the lowest grade loans (G) have the highest interest rates to account for the risk involved in granting the loan. Consequently, I concluded that borrowers with a poor credit report/score who have a high debt-to-income ratio, low salary, and are renting a home (instead of owning or mortgaging), are in a weak financial situtation that becomes more challenging when they take out a very high interest loan that must be paid back over a longer period of time (5 years). The high interest rates on low grade loans are used to account for the higher risk and volatility of the loan but, ironically, my results suggest that it is in fact the high interest which increases the default risk more than anything else.\n",
    "\n",
    "---"
   ]
  }
 ],
 "metadata": {
  "kernelspec": {
   "display_name": "Python 3",
   "language": "python",
   "name": "python3"
  },
  "language_info": {
   "codemirror_mode": {
    "name": "ipython",
    "version": 3
   },
   "file_extension": ".py",
   "mimetype": "text/x-python",
   "name": "python",
   "nbconvert_exporter": "python",
   "pygments_lexer": "ipython3",
   "version": "3.6.4"
  },
  "toc": {
   "base_numbering": 1,
   "nav_menu": {},
   "number_sections": false,
   "sideBar": true,
   "skip_h1_title": false,
   "title_cell": "Table of Contents",
   "title_sidebar": "Contents",
   "toc_cell": false,
   "toc_position": {},
   "toc_section_display": true,
   "toc_window_display": false
  }
 },
 "nbformat": 4,
 "nbformat_minor": 2
}
