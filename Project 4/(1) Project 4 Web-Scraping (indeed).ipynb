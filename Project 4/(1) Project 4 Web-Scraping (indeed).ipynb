{
 "cells": [
  {
   "cell_type": "markdown",
   "metadata": {},
   "source": [
    "# (1) Project 4 - Web-Scraping"
   ]
  },
  {
   "cell_type": "markdown",
   "metadata": {},
   "source": [
    "-----\n",
    "Project 4 requires scraping job data from a a job listings website. I will be scraping the data from au.indeed.com. Once I have scraped and cleaned the data, I will then use the data to try and answer to questions. Firstly, I will make a model to predict the salary of a job. For the second part, using the same scraped data, I will attempt to make a model to predict different job titles to see what features can distinguish between a data science job and a business analyst job.\n",
    "\n",
    "---"
   ]
  },
  {
   "cell_type": "code",
   "execution_count": 1,
   "metadata": {},
   "outputs": [],
   "source": [
    "import pandas as pd\n",
    "import requests\n",
    "from bs4 import BeautifulSoup"
   ]
  },
  {
   "cell_type": "markdown",
   "metadata": {},
   "source": [
    "----\n",
    "I am going to scrape my data from au.indeed.com. I will be scraping data on several features including Job Title, Company, Location, Salary, Job Summary, and Job Description."
   ]
  },
  {
   "cell_type": "markdown",
   "metadata": {},
   "source": [
    "I will be scraping data from the 5 main cities in Australia: Sydney, Melbourne, Brisbane, Perth, and Adelaide. I will also be scraping 3 types of job: data scientist, data analyst, and business analyst.\n",
    "\n",
    "---"
   ]
  },
  {
   "cell_type": "markdown",
   "metadata": {
    "heading_collapsed": true
   },
   "source": [
    "## Scraping"
   ]
  },
  {
   "cell_type": "code",
   "execution_count": 2,
   "metadata": {
    "hidden": true
   },
   "outputs": [],
   "source": [
    "indeed_cities = ['Sydney', 'Melbourne', 'Brisbane', 'Perth', 'Adelaide']# Create a list of cities and jobs to scrape."
   ]
  },
  {
   "cell_type": "code",
   "execution_count": 3,
   "metadata": {
    "hidden": true
   },
   "outputs": [],
   "source": [
    "indeed_jobs = ['data+scientist', 'data+analyst', 'business+analyst']"
   ]
  },
  {
   "cell_type": "markdown",
   "metadata": {
    "hidden": true
   },
   "source": [
    "----\n",
    "I have created a loop using requests and BeautifulSoup to scrape the data for the different jobs and locations.\n",
    "\n",
    "---"
   ]
  },
  {
   "cell_type": "code",
   "execution_count": 4,
   "metadata": {
    "hidden": true
   },
   "outputs": [],
   "source": [
    "results = []\n",
    "desc = []\n",
    "\n",
    "for job in indeed_jobs:      # Iterate through the jobs list.\n",
    "    for city in indeed_cities:     # Iterate through the cities list.\n",
    "        for page in range(0, 1000, 10):   # Iterate through 100 indeed.com pages (page numbers are in increments of 10).\n",
    "            url = 'https://au.indeed.com/jobs?q=' + job + '&l=' + city + '&start=' + str(page)  # Allows multiple jobs, cities, and pages in the url.\n",
    "            html = requests.get(url)\n",
    "            soup = BeautifulSoup(html.text, 'lxml')\n",
    "            for result in soup.find_all('div', {'class':' row result'}):     # Get data from each job listing.\n",
    "                results.append(result)    # append results to results list.\n",
    "            for i in soup.find_all('div', {'class':' row result'}):       # Create another loop to go through the url for each job and scrape the description.\n",
    "                a = i.find('a')                                                    \n",
    "                ab = 'https://au.indeed.com/' + a.attrs['href']\n",
    "                html2 = requests.get(ab)\n",
    "                soup2 = BeautifulSoup(html2.text, 'lxml')\n",
    "                desc.append(soup2)      # append results to desc list."
   ]
  },
  {
   "cell_type": "markdown",
   "metadata": {
    "heading_collapsed": true
   },
   "source": [
    "## Functions"
   ]
  },
  {
   "cell_type": "markdown",
   "metadata": {
    "hidden": true
   },
   "source": [
    "---\n",
    "Now I need to create functions that will allow me to extract the specific data for each feature, e.g. Job Title, Salary, etc.\n",
    "\n",
    "---"
   ]
  },
  {
   "cell_type": "code",
   "execution_count": 5,
   "metadata": {
    "hidden": true
   },
   "outputs": [],
   "source": [
    "# Job Title.\n",
    "def get_job(result):   \n",
    "    try:\n",
    "        return result.find('a', {'data-tn-element':'jobTitle'}).text    # XPath of job title.\n",
    "    except:\n",
    "        return 'NA'      # Return NA if no job title found."
   ]
  },
  {
   "cell_type": "code",
   "execution_count": 6,
   "metadata": {
    "hidden": true
   },
   "outputs": [],
   "source": [
    "# Company\n",
    "def get_comp(result):\n",
    "    try:\n",
    "        return result.find('span', {'class':'company'}).text\n",
    "    except:\n",
    "        return 'NA'"
   ]
  },
  {
   "cell_type": "code",
   "execution_count": 7,
   "metadata": {
    "hidden": true
   },
   "outputs": [],
   "source": [
    "# Location.\n",
    "def get_loc(result):\n",
    "    try:\n",
    "        return result.find('span', {'class':'location'}).text\n",
    "    except:\n",
    "        return 'NA'"
   ]
  },
  {
   "cell_type": "code",
   "execution_count": 8,
   "metadata": {
    "hidden": true
   },
   "outputs": [],
   "source": [
    "# Salary.\n",
    "def get_sal(result):\n",
    "    try:\n",
    "        return result.find('span', {'class':'no-wrap'}).text\n",
    "    except:\n",
    "        return 'NA'"
   ]
  },
  {
   "cell_type": "code",
   "execution_count": 9,
   "metadata": {
    "hidden": true
   },
   "outputs": [],
   "source": [
    "# Summary.\n",
    "def get_summ(result):\n",
    "    try:\n",
    "        return result.find('span', {'class':'summary'}).text\n",
    "    except:\n",
    "        return 'NA'"
   ]
  },
  {
   "cell_type": "code",
   "execution_count": 10,
   "metadata": {
    "hidden": true
   },
   "outputs": [],
   "source": [
    "# Description.\n",
    "def get_desc(desc):\n",
    "    try:\n",
    "        return desc.find('td', {'class' : \"snip\"}).text\n",
    "    except:\n",
    "        return 'NA'"
   ]
  },
  {
   "cell_type": "markdown",
   "metadata": {
    "heading_collapsed": true
   },
   "source": [
    "## Dataframe"
   ]
  },
  {
   "cell_type": "markdown",
   "metadata": {
    "hidden": true
   },
   "source": [
    "----\n",
    "Now I will create two empty dataframes. One for the main data from the job listings (in the results list). The other will have the job description data that was obtained by going through each job listing's url and then scraping (in the desc list). I will then concatonate them.\n",
    "\n",
    "---"
   ]
  },
  {
   "cell_type": "code",
   "execution_count": 11,
   "metadata": {
    "hidden": true
   },
   "outputs": [],
   "source": [
    "jobs0 = pd.DataFrame(columns=['location', 'title', 'company', 'salary', 'summary'])"
   ]
  },
  {
   "cell_type": "code",
   "execution_count": 12,
   "metadata": {
    "hidden": true
   },
   "outputs": [],
   "source": [
    "jobs1 = pd.DataFrame(columns=['description'])"
   ]
  },
  {
   "cell_type": "markdown",
   "metadata": {
    "hidden": true
   },
   "source": [
    "----\n",
    "Now I will create 2 for loops to iterate through the scraped data in the results and desc lists and use the functions to add the data to the dataframes.\n",
    "\n",
    "---"
   ]
  },
  {
   "cell_type": "code",
   "execution_count": 13,
   "metadata": {
    "hidden": true
   },
   "outputs": [],
   "source": [
    "for entry in results:\n",
    "    location = get_loc(entry)   # use functions to get location data.\n",
    "    title = get_job(entry)\n",
    "    company = get_comp(entry)\n",
    "    salary = get_sal(entry)\n",
    "    summary = get_summ(entry)\n",
    "    jobs0.loc[len(jobs0)] = [location, title, company, salary, summary]     # add data to dataframe.\n",
    "\n",
    "for entry in desc:\n",
    "    description = get_desc(entry)\n",
    "    jobs1.loc[len(jobs1)] = [description]    "
   ]
  },
  {
   "cell_type": "code",
   "execution_count": 14,
   "metadata": {
    "hidden": true
   },
   "outputs": [],
   "source": [
    "jobs0 = jobs0.replace(r'\\n',' ', regex=True)     # Can use regular expression to remove new lines (\\n) from text in the dataframe."
   ]
  },
  {
   "cell_type": "code",
   "execution_count": 15,
   "metadata": {
    "hidden": true
   },
   "outputs": [],
   "source": [
    "jobs1 = jobs1.replace(r'\\n',' ', regex=True)"
   ]
  },
  {
   "cell_type": "code",
   "execution_count": 16,
   "metadata": {
    "hidden": true
   },
   "outputs": [
    {
     "data": {
      "text/html": [
       "<div>\n",
       "<style scoped>\n",
       "    .dataframe tbody tr th:only-of-type {\n",
       "        vertical-align: middle;\n",
       "    }\n",
       "\n",
       "    .dataframe tbody tr th {\n",
       "        vertical-align: top;\n",
       "    }\n",
       "\n",
       "    .dataframe thead th {\n",
       "        text-align: right;\n",
       "    }\n",
       "</style>\n",
       "<table border=\"1\" class=\"dataframe\">\n",
       "  <thead>\n",
       "    <tr style=\"text-align: right;\">\n",
       "      <th></th>\n",
       "      <th>location</th>\n",
       "      <th>title</th>\n",
       "      <th>company</th>\n",
       "      <th>salary</th>\n",
       "      <th>summary</th>\n",
       "    </tr>\n",
       "  </thead>\n",
       "  <tbody>\n",
       "    <tr>\n",
       "      <th>0</th>\n",
       "      <td>Sydney NSW</td>\n",
       "      <td>Junior Data Analyst/Scientist</td>\n",
       "      <td>International Institute of Data &amp; Analytics</td>\n",
       "      <td>NA</td>\n",
       "      <td>In data science and big data anal...</td>\n",
       "    </tr>\n",
       "    <tr>\n",
       "      <th>1</th>\n",
       "      <td>Sydney NSW</td>\n",
       "      <td>Senior Data Scientist</td>\n",
       "      <td>Amazon.com</td>\n",
       "      <td>NA</td>\n",
       "      <td>A Senior Data Scientist will:. Ou...</td>\n",
       "    </tr>\n",
       "    <tr>\n",
       "      <th>2</th>\n",
       "      <td>Sydney NSW</td>\n",
       "      <td>Research Scientist</td>\n",
       "      <td>Amazon.com</td>\n",
       "      <td>NA</td>\n",
       "      <td>Data drives the development of new process; D...</td>\n",
       "    </tr>\n",
       "    <tr>\n",
       "      <th>3</th>\n",
       "      <td>Macquarie University NSW</td>\n",
       "      <td>Data Science Research Engineer</td>\n",
       "      <td>Macquarie University</td>\n",
       "      <td>$100,706 - $112,058 a year</td>\n",
       "      <td>We are seeking a Data Science Res...</td>\n",
       "    </tr>\n",
       "    <tr>\n",
       "      <th>4</th>\n",
       "      <td>Sydney NSW</td>\n",
       "      <td>Data Scientist (Sydney)</td>\n",
       "      <td>C3 IoT</td>\n",
       "      <td>NA</td>\n",
       "      <td>In this capacity, you will partic...</td>\n",
       "    </tr>\n",
       "    <tr>\n",
       "      <th>5</th>\n",
       "      <td>Sydney NSW</td>\n",
       "      <td>Data Scientist</td>\n",
       "      <td>BuildingIQ</td>\n",
       "      <td>NA</td>\n",
       "      <td>We are looking for a Data Scienti...</td>\n",
       "    </tr>\n",
       "    <tr>\n",
       "      <th>6</th>\n",
       "      <td>Sydney NSW</td>\n",
       "      <td>Data Scientist</td>\n",
       "      <td>Fortune Select</td>\n",
       "      <td>NA</td>\n",
       "      <td>Experience using and maintaining ...</td>\n",
       "    </tr>\n",
       "    <tr>\n",
       "      <th>7</th>\n",
       "      <td>Alexandria NSW</td>\n",
       "      <td>Data Scientist</td>\n",
       "      <td>Black Swallow Boutique</td>\n",
       "      <td>NA</td>\n",
       "      <td>We are looking for an experienced...</td>\n",
       "    </tr>\n",
       "    <tr>\n",
       "      <th>8</th>\n",
       "      <td>Sydney NSW</td>\n",
       "      <td>Data &amp; Analytics</td>\n",
       "      <td>KPMG</td>\n",
       "      <td>NA</td>\n",
       "      <td>Using Data Science techniques and...</td>\n",
       "    </tr>\n",
       "    <tr>\n",
       "      <th>9</th>\n",
       "      <td>Sydney NSW</td>\n",
       "      <td>Data Scientist</td>\n",
       "      <td>SAI Global</td>\n",
       "      <td>NA</td>\n",
       "      <td>Proficiency with Data Visualisati...</td>\n",
       "    </tr>\n",
       "    <tr>\n",
       "      <th>10</th>\n",
       "      <td>Sydney NSW</td>\n",
       "      <td>Data Scientist, Google Technical Services</td>\n",
       "      <td>Google</td>\n",
       "      <td>NA</td>\n",
       "      <td>Engage various stakeholders, asse...</td>\n",
       "    </tr>\n",
       "    <tr>\n",
       "      <th>11</th>\n",
       "      <td>Sydney NSW</td>\n",
       "      <td>Junior Quantitative Researcher - Machine Learning</td>\n",
       "      <td>Akuna Capital</td>\n",
       "      <td>NA</td>\n",
       "      <td>Akuna Capital is a young and boom...</td>\n",
       "    </tr>\n",
       "    <tr>\n",
       "      <th>12</th>\n",
       "      <td>Sydney NSW</td>\n",
       "      <td>Google Cloud Platform Engineer - Big Data and ...</td>\n",
       "      <td>Deloitte</td>\n",
       "      <td>NA</td>\n",
       "      <td>Experience working with recommend...</td>\n",
       "    </tr>\n",
       "    <tr>\n",
       "      <th>13</th>\n",
       "      <td>Sydney NSW</td>\n",
       "      <td>Data &amp; Analytics - Leadership role</td>\n",
       "      <td>KPMG</td>\n",
       "      <td>NA</td>\n",
       "      <td>Using Data Science techniques and...</td>\n",
       "    </tr>\n",
       "    <tr>\n",
       "      <th>14</th>\n",
       "      <td>Sydney NSW</td>\n",
       "      <td>Data Scientist (Python/R)</td>\n",
       "      <td>Correlate Resources</td>\n",
       "      <td>$100,000 - $120,000 a year</td>\n",
       "      <td>Work within a team of industry le...</td>\n",
       "    </tr>\n",
       "  </tbody>\n",
       "</table>\n",
       "</div>"
      ],
      "text/plain": [
       "                    location  \\\n",
       "0                 Sydney NSW   \n",
       "1                 Sydney NSW   \n",
       "2                 Sydney NSW   \n",
       "3   Macquarie University NSW   \n",
       "4                 Sydney NSW   \n",
       "5                 Sydney NSW   \n",
       "6                 Sydney NSW   \n",
       "7             Alexandria NSW   \n",
       "8                 Sydney NSW   \n",
       "9                 Sydney NSW   \n",
       "10                Sydney NSW   \n",
       "11                Sydney NSW   \n",
       "12                Sydney NSW   \n",
       "13                Sydney NSW   \n",
       "14                Sydney NSW   \n",
       "\n",
       "                                                title  \\\n",
       "0                       Junior Data Analyst/Scientist   \n",
       "1                               Senior Data Scientist   \n",
       "2                                  Research Scientist   \n",
       "3                      Data Science Research Engineer   \n",
       "4                             Data Scientist (Sydney)   \n",
       "5                                      Data Scientist   \n",
       "6                                      Data Scientist   \n",
       "7                                      Data Scientist   \n",
       "8                                    Data & Analytics   \n",
       "9                                      Data Scientist   \n",
       "10          Data Scientist, Google Technical Services   \n",
       "11  Junior Quantitative Researcher - Machine Learning   \n",
       "12  Google Cloud Platform Engineer - Big Data and ...   \n",
       "13                 Data & Analytics - Leadership role   \n",
       "14                          Data Scientist (Python/R)   \n",
       "\n",
       "                                             company  \\\n",
       "0        International Institute of Data & Analytics   \n",
       "1                                         Amazon.com   \n",
       "2                                         Amazon.com   \n",
       "3                               Macquarie University   \n",
       "4                                             C3 IoT   \n",
       "5                                         BuildingIQ   \n",
       "6                                     Fortune Select   \n",
       "7                             Black Swallow Boutique   \n",
       "8                                               KPMG   \n",
       "9                                         SAI Global   \n",
       "10                                            Google   \n",
       "11                                     Akuna Capital   \n",
       "12                                          Deloitte   \n",
       "13                                              KPMG   \n",
       "14                               Correlate Resources   \n",
       "\n",
       "                                         salary  \\\n",
       "0                                            NA   \n",
       "1                                            NA   \n",
       "2                                            NA   \n",
       "3                    $100,706 - $112,058 a year   \n",
       "4                                            NA   \n",
       "5                                            NA   \n",
       "6                                            NA   \n",
       "7                                            NA   \n",
       "8                                            NA   \n",
       "9                                            NA   \n",
       "10                                           NA   \n",
       "11                                           NA   \n",
       "12                                           NA   \n",
       "13                                           NA   \n",
       "14                   $100,000 - $120,000 a year   \n",
       "\n",
       "                                              summary  \n",
       "0                In data science and big data anal...  \n",
       "1                A Senior Data Scientist will:. Ou...  \n",
       "2    Data drives the development of new process; D...  \n",
       "3                We are seeking a Data Science Res...  \n",
       "4                In this capacity, you will partic...  \n",
       "5                We are looking for a Data Scienti...  \n",
       "6                Experience using and maintaining ...  \n",
       "7                We are looking for an experienced...  \n",
       "8                Using Data Science techniques and...  \n",
       "9                Proficiency with Data Visualisati...  \n",
       "10               Engage various stakeholders, asse...  \n",
       "11               Akuna Capital is a young and boom...  \n",
       "12               Experience working with recommend...  \n",
       "13               Using Data Science techniques and...  \n",
       "14               Work within a team of industry le...  "
      ]
     },
     "execution_count": 16,
     "metadata": {},
     "output_type": "execute_result"
    }
   ],
   "source": [
    "jobs0.head(15)"
   ]
  },
  {
   "cell_type": "code",
   "execution_count": 17,
   "metadata": {
    "hidden": true
   },
   "outputs": [
    {
     "data": {
      "text/plain": [
       "(17710, 5)"
      ]
     },
     "execution_count": 17,
     "metadata": {},
     "output_type": "execute_result"
    }
   ],
   "source": [
    "jobs0.shape"
   ]
  },
  {
   "cell_type": "code",
   "execution_count": 18,
   "metadata": {
    "hidden": true
   },
   "outputs": [
    {
     "name": "stdout",
     "output_type": "stream",
     "text": [
      "13305\n"
     ]
    }
   ],
   "source": [
    "print(jobs0.duplicated().sum())"
   ]
  },
  {
   "cell_type": "code",
   "execution_count": 19,
   "metadata": {
    "hidden": true
   },
   "outputs": [
    {
     "name": "stdout",
     "output_type": "stream",
     "text": [
      "7609\n"
     ]
    }
   ],
   "source": [
    "print(jobs1.duplicated().sum())"
   ]
  },
  {
   "cell_type": "markdown",
   "metadata": {
    "hidden": true
   },
   "source": [
    "---\n",
    "Using df.shape shows that there are 17,710 job records in the dataframe. However, when I check the number of duplicates, there are more than 13,305 duplicates for the first dataframe and 7,609 for the description dataframe. I will need to drop these duplicates.\n",
    "\n",
    "----"
   ]
  },
  {
   "cell_type": "code",
   "execution_count": 20,
   "metadata": {
    "hidden": true
   },
   "outputs": [
    {
     "data": {
      "text/html": [
       "<div>\n",
       "<style scoped>\n",
       "    .dataframe tbody tr th:only-of-type {\n",
       "        vertical-align: middle;\n",
       "    }\n",
       "\n",
       "    .dataframe tbody tr th {\n",
       "        vertical-align: top;\n",
       "    }\n",
       "\n",
       "    .dataframe thead th {\n",
       "        text-align: right;\n",
       "    }\n",
       "</style>\n",
       "<table border=\"1\" class=\"dataframe\">\n",
       "  <thead>\n",
       "    <tr style=\"text-align: right;\">\n",
       "      <th></th>\n",
       "      <th>description</th>\n",
       "    </tr>\n",
       "  </thead>\n",
       "  <tbody>\n",
       "    <tr>\n",
       "      <th>0</th>\n",
       "      <td>The International Institute of Data &amp; Analyti...</td>\n",
       "    </tr>\n",
       "    <tr>\n",
       "      <th>1</th>\n",
       "      <td>Excited by using massive amounts of data to d...</td>\n",
       "    </tr>\n",
       "    <tr>\n",
       "      <th>2</th>\n",
       "      <td>Business today operates at the pinnacle of th...</td>\n",
       "    </tr>\n",
       "    <tr>\n",
       "      <th>3</th>\n",
       "      <td>NA</td>\n",
       "    </tr>\n",
       "    <tr>\n",
       "      <th>4</th>\n",
       "      <td>In this capacity, you will participate in the...</td>\n",
       "    </tr>\n",
       "    <tr>\n",
       "      <th>5</th>\n",
       "      <td>Job Description | Location – Sydney, Australi...</td>\n",
       "    </tr>\n",
       "    <tr>\n",
       "      <th>6</th>\n",
       "      <td>Location: Sydney  Job Type: Permanent  Skills...</td>\n",
       "    </tr>\n",
       "    <tr>\n",
       "      <th>7</th>\n",
       "      <td>We are looking for an experienced Data Scient...</td>\n",
       "    </tr>\n",
       "    <tr>\n",
       "      <th>8</th>\n",
       "      <td>Be a key part of our growth &amp; innovation stra...</td>\n",
       "    </tr>\n",
       "    <tr>\n",
       "      <th>9</th>\n",
       "      <td>At SAI Global, we make Intelligent Risk possi...</td>\n",
       "    </tr>\n",
       "    <tr>\n",
       "      <th>10</th>\n",
       "      <td>Google Technical Services: Professional Servi...</td>\n",
       "    </tr>\n",
       "    <tr>\n",
       "      <th>11</th>\n",
       "      <td>About Akuna: Akuna Capital is a young and boo...</td>\n",
       "    </tr>\n",
       "    <tr>\n",
       "      <th>12</th>\n",
       "      <td>About Deloitte:   Flexibility, opportunity an...</td>\n",
       "    </tr>\n",
       "    <tr>\n",
       "      <th>13</th>\n",
       "      <td>Leadership opportunity in consulting (Associa...</td>\n",
       "    </tr>\n",
       "    <tr>\n",
       "      <th>14</th>\n",
       "      <td>Our client is an industry pioneering Customer...</td>\n",
       "    </tr>\n",
       "    <tr>\n",
       "      <th>15</th>\n",
       "      <td>Do you want to create positive change in Aust...</td>\n",
       "    </tr>\n",
       "    <tr>\n",
       "      <th>16</th>\n",
       "      <td>The Company:  Alloc8 have been fortunate enou...</td>\n",
       "    </tr>\n",
       "    <tr>\n",
       "      <th>17</th>\n",
       "      <td>I am looking for a Data Analyst with at least...</td>\n",
       "    </tr>\n",
       "    <tr>\n",
       "      <th>18</th>\n",
       "      <td>SiteMinder is the chosen solution for over 28...</td>\n",
       "    </tr>\n",
       "    <tr>\n",
       "      <th>19</th>\n",
       "      <td>Our Business More than 700 professionals in o...</td>\n",
       "    </tr>\n",
       "    <tr>\n",
       "      <th>20</th>\n",
       "      <td>Calling all Senior Data Scientists!!!!  The t...</td>\n",
       "    </tr>\n",
       "    <tr>\n",
       "      <th>21</th>\n",
       "      <td>Our client is an industry pioneering Customer...</td>\n",
       "    </tr>\n",
       "    <tr>\n",
       "      <th>22</th>\n",
       "      <td>For over 15 years Quantium have combined the ...</td>\n",
       "    </tr>\n",
       "    <tr>\n",
       "      <th>23</th>\n",
       "      <td>About Us: BIS Oxford Economics, part of Oxfor...</td>\n",
       "    </tr>\n",
       "    <tr>\n",
       "      <th>24</th>\n",
       "      <td>Since 2011, General Assembly has transformed ...</td>\n",
       "    </tr>\n",
       "    <tr>\n",
       "      <th>25</th>\n",
       "      <td>We are looking for a Data Scientist that will...</td>\n",
       "    </tr>\n",
       "    <tr>\n",
       "      <th>26</th>\n",
       "      <td>Scientist - 00006173  Job Title: Scientist Jo...</td>\n",
       "    </tr>\n",
       "    <tr>\n",
       "      <th>27</th>\n",
       "      <td>The International Institute of Data &amp; Analyti...</td>\n",
       "    </tr>\n",
       "    <tr>\n",
       "      <th>28</th>\n",
       "      <td>The Senior Reporting &amp; Statistical Analyst ex...</td>\n",
       "    </tr>\n",
       "    <tr>\n",
       "      <th>29</th>\n",
       "      <td>Research Analyst - Australia # 107055 Austral...</td>\n",
       "    </tr>\n",
       "    <tr>\n",
       "      <th>30</th>\n",
       "      <td>Event Research Analyst - 0000650N  Ongoing, F...</td>\n",
       "    </tr>\n",
       "    <tr>\n",
       "      <th>31</th>\n",
       "      <td>Make Amazing Happen!  An outstanding opportun...</td>\n",
       "    </tr>\n",
       "    <tr>\n",
       "      <th>32</th>\n",
       "      <td>Overview Our Quantitative Research team works...</td>\n",
       "    </tr>\n",
       "    <tr>\n",
       "      <th>33</th>\n",
       "      <td>Innovative, collaborative and positive team-o...</td>\n",
       "    </tr>\n",
       "    <tr>\n",
       "      <th>34</th>\n",
       "      <td>We are looking for intellectually curious tea...</td>\n",
       "    </tr>\n",
       "    <tr>\n",
       "      <th>35</th>\n",
       "      <td>About Us: EYC3 is the data and advanced analy...</td>\n",
       "    </tr>\n",
       "    <tr>\n",
       "      <th>36</th>\n",
       "      <td>Our client is an industry pioneering Customer...</td>\n",
       "    </tr>\n",
       "    <tr>\n",
       "      <th>37</th>\n",
       "      <td>Syphen is on the mission to unlock the potent...</td>\n",
       "    </tr>\n",
       "    <tr>\n",
       "      <th>38</th>\n",
       "      <td>Expedia  Are you excited about solving real w...</td>\n",
       "    </tr>\n",
       "    <tr>\n",
       "      <th>39</th>\n",
       "      <td>We are looking for intellectually curious tea...</td>\n",
       "    </tr>\n",
       "    <tr>\n",
       "      <th>40</th>\n",
       "      <td>Research Analyst - Australia # 107055 Austral...</td>\n",
       "    </tr>\n",
       "    <tr>\n",
       "      <th>41</th>\n",
       "      <td>Work type: Permanent Full time Location: Aust...</td>\n",
       "    </tr>\n",
       "    <tr>\n",
       "      <th>42</th>\n",
       "      <td>About Akuna: Akuna Capital is a young and boo...</td>\n",
       "    </tr>\n",
       "    <tr>\n",
       "      <th>43</th>\n",
       "      <td>About Akuna: Akuna Capital is a young and boo...</td>\n",
       "    </tr>\n",
       "    <tr>\n",
       "      <th>44</th>\n",
       "      <td>Requirements:  A minimum of Bachelor's degree...</td>\n",
       "    </tr>\n",
       "    <tr>\n",
       "      <th>45</th>\n",
       "      <td>PhD Applied Mathematics Proprietary trading -...</td>\n",
       "    </tr>\n",
       "    <tr>\n",
       "      <th>46</th>\n",
       "      <td>J.P. Morgan’s Corporate &amp; Investment Bank is ...</td>\n",
       "    </tr>\n",
       "    <tr>\n",
       "      <th>47</th>\n",
       "      <td>Innovative, collaborative and positive team-o...</td>\n",
       "    </tr>\n",
       "    <tr>\n",
       "      <th>48</th>\n",
       "      <td>Here you'll get to work on cutting edge produ...</td>\n",
       "    </tr>\n",
       "    <tr>\n",
       "      <th>49</th>\n",
       "      <td>Front-End Developer - React, Angular, HTML, C...</td>\n",
       "    </tr>\n",
       "  </tbody>\n",
       "</table>\n",
       "</div>"
      ],
      "text/plain": [
       "                                          description\n",
       "0    The International Institute of Data & Analyti...\n",
       "1    Excited by using massive amounts of data to d...\n",
       "2    Business today operates at the pinnacle of th...\n",
       "3                                                  NA\n",
       "4    In this capacity, you will participate in the...\n",
       "5    Job Description | Location – Sydney, Australi...\n",
       "6    Location: Sydney  Job Type: Permanent  Skills...\n",
       "7    We are looking for an experienced Data Scient...\n",
       "8    Be a key part of our growth & innovation stra...\n",
       "9    At SAI Global, we make Intelligent Risk possi...\n",
       "10   Google Technical Services: Professional Servi...\n",
       "11   About Akuna: Akuna Capital is a young and boo...\n",
       "12   About Deloitte:   Flexibility, opportunity an...\n",
       "13   Leadership opportunity in consulting (Associa...\n",
       "14   Our client is an industry pioneering Customer...\n",
       "15   Do you want to create positive change in Aust...\n",
       "16   The Company:  Alloc8 have been fortunate enou...\n",
       "17   I am looking for a Data Analyst with at least...\n",
       "18   SiteMinder is the chosen solution for over 28...\n",
       "19   Our Business More than 700 professionals in o...\n",
       "20   Calling all Senior Data Scientists!!!!  The t...\n",
       "21   Our client is an industry pioneering Customer...\n",
       "22   For over 15 years Quantium have combined the ...\n",
       "23   About Us: BIS Oxford Economics, part of Oxfor...\n",
       "24   Since 2011, General Assembly has transformed ...\n",
       "25   We are looking for a Data Scientist that will...\n",
       "26   Scientist - 00006173  Job Title: Scientist Jo...\n",
       "27   The International Institute of Data & Analyti...\n",
       "28   The Senior Reporting & Statistical Analyst ex...\n",
       "29   Research Analyst - Australia # 107055 Austral...\n",
       "30   Event Research Analyst - 0000650N  Ongoing, F...\n",
       "31   Make Amazing Happen!  An outstanding opportun...\n",
       "32   Overview Our Quantitative Research team works...\n",
       "33   Innovative, collaborative and positive team-o...\n",
       "34   We are looking for intellectually curious tea...\n",
       "35   About Us: EYC3 is the data and advanced analy...\n",
       "36   Our client is an industry pioneering Customer...\n",
       "37   Syphen is on the mission to unlock the potent...\n",
       "38   Expedia  Are you excited about solving real w...\n",
       "39   We are looking for intellectually curious tea...\n",
       "40   Research Analyst - Australia # 107055 Austral...\n",
       "41   Work type: Permanent Full time Location: Aust...\n",
       "42   About Akuna: Akuna Capital is a young and boo...\n",
       "43   About Akuna: Akuna Capital is a young and boo...\n",
       "44   Requirements:  A minimum of Bachelor's degree...\n",
       "45   PhD Applied Mathematics Proprietary trading -...\n",
       "46   J.P. Morgan’s Corporate & Investment Bank is ...\n",
       "47   Innovative, collaborative and positive team-o...\n",
       "48   Here you'll get to work on cutting edge produ...\n",
       "49   Front-End Developer - React, Angular, HTML, C..."
      ]
     },
     "execution_count": 20,
     "metadata": {},
     "output_type": "execute_result"
    }
   ],
   "source": [
    "jobs1.head(50)"
   ]
  },
  {
   "cell_type": "code",
   "execution_count": 21,
   "metadata": {
    "hidden": true
   },
   "outputs": [
    {
     "data": {
      "text/plain": [
       "(17710, 1)"
      ]
     },
     "execution_count": 21,
     "metadata": {},
     "output_type": "execute_result"
    }
   ],
   "source": [
    "jobs1.shape"
   ]
  },
  {
   "cell_type": "markdown",
   "metadata": {
    "hidden": true
   },
   "source": [
    "---\n",
    "I will now concatonate the two dataframes into one dataframe.\n",
    "\n",
    "---"
   ]
  },
  {
   "cell_type": "code",
   "execution_count": 22,
   "metadata": {
    "hidden": true
   },
   "outputs": [],
   "source": [
    "indeed_jobs = pd.concat([jobs0, jobs1], axis=1)"
   ]
  },
  {
   "cell_type": "code",
   "execution_count": 23,
   "metadata": {
    "hidden": true
   },
   "outputs": [
    {
     "data": {
      "text/html": [
       "<div>\n",
       "<style scoped>\n",
       "    .dataframe tbody tr th:only-of-type {\n",
       "        vertical-align: middle;\n",
       "    }\n",
       "\n",
       "    .dataframe tbody tr th {\n",
       "        vertical-align: top;\n",
       "    }\n",
       "\n",
       "    .dataframe thead th {\n",
       "        text-align: right;\n",
       "    }\n",
       "</style>\n",
       "<table border=\"1\" class=\"dataframe\">\n",
       "  <thead>\n",
       "    <tr style=\"text-align: right;\">\n",
       "      <th></th>\n",
       "      <th>location</th>\n",
       "      <th>title</th>\n",
       "      <th>company</th>\n",
       "      <th>salary</th>\n",
       "      <th>summary</th>\n",
       "      <th>description</th>\n",
       "    </tr>\n",
       "  </thead>\n",
       "  <tbody>\n",
       "    <tr>\n",
       "      <th>0</th>\n",
       "      <td>Sydney NSW</td>\n",
       "      <td>Junior Data Analyst/Scientist</td>\n",
       "      <td>International Institute of Data &amp; Analytics</td>\n",
       "      <td>NA</td>\n",
       "      <td>In data science and big data anal...</td>\n",
       "      <td>The International Institute of Data &amp; Analyti...</td>\n",
       "    </tr>\n",
       "    <tr>\n",
       "      <th>1</th>\n",
       "      <td>Sydney NSW</td>\n",
       "      <td>Senior Data Scientist</td>\n",
       "      <td>Amazon.com</td>\n",
       "      <td>NA</td>\n",
       "      <td>A Senior Data Scientist will:. Ou...</td>\n",
       "      <td>Excited by using massive amounts of data to d...</td>\n",
       "    </tr>\n",
       "    <tr>\n",
       "      <th>2</th>\n",
       "      <td>Sydney NSW</td>\n",
       "      <td>Research Scientist</td>\n",
       "      <td>Amazon.com</td>\n",
       "      <td>NA</td>\n",
       "      <td>Data drives the development of new process; D...</td>\n",
       "      <td>Business today operates at the pinnacle of th...</td>\n",
       "    </tr>\n",
       "    <tr>\n",
       "      <th>3</th>\n",
       "      <td>Macquarie University NSW</td>\n",
       "      <td>Data Science Research Engineer</td>\n",
       "      <td>Macquarie University</td>\n",
       "      <td>$100,706 - $112,058 a year</td>\n",
       "      <td>We are seeking a Data Science Res...</td>\n",
       "      <td>NA</td>\n",
       "    </tr>\n",
       "    <tr>\n",
       "      <th>4</th>\n",
       "      <td>Sydney NSW</td>\n",
       "      <td>Data Scientist (Sydney)</td>\n",
       "      <td>C3 IoT</td>\n",
       "      <td>NA</td>\n",
       "      <td>In this capacity, you will partic...</td>\n",
       "      <td>In this capacity, you will participate in the...</td>\n",
       "    </tr>\n",
       "    <tr>\n",
       "      <th>5</th>\n",
       "      <td>Sydney NSW</td>\n",
       "      <td>Data Scientist</td>\n",
       "      <td>BuildingIQ</td>\n",
       "      <td>NA</td>\n",
       "      <td>We are looking for a Data Scienti...</td>\n",
       "      <td>Job Description | Location – Sydney, Australi...</td>\n",
       "    </tr>\n",
       "    <tr>\n",
       "      <th>6</th>\n",
       "      <td>Sydney NSW</td>\n",
       "      <td>Data Scientist</td>\n",
       "      <td>Fortune Select</td>\n",
       "      <td>NA</td>\n",
       "      <td>Experience using and maintaining ...</td>\n",
       "      <td>Location: Sydney  Job Type: Permanent  Skills...</td>\n",
       "    </tr>\n",
       "    <tr>\n",
       "      <th>7</th>\n",
       "      <td>Alexandria NSW</td>\n",
       "      <td>Data Scientist</td>\n",
       "      <td>Black Swallow Boutique</td>\n",
       "      <td>NA</td>\n",
       "      <td>We are looking for an experienced...</td>\n",
       "      <td>We are looking for an experienced Data Scient...</td>\n",
       "    </tr>\n",
       "    <tr>\n",
       "      <th>8</th>\n",
       "      <td>Sydney NSW</td>\n",
       "      <td>Data &amp; Analytics</td>\n",
       "      <td>KPMG</td>\n",
       "      <td>NA</td>\n",
       "      <td>Using Data Science techniques and...</td>\n",
       "      <td>Be a key part of our growth &amp; innovation stra...</td>\n",
       "    </tr>\n",
       "    <tr>\n",
       "      <th>9</th>\n",
       "      <td>Sydney NSW</td>\n",
       "      <td>Data Scientist</td>\n",
       "      <td>SAI Global</td>\n",
       "      <td>NA</td>\n",
       "      <td>Proficiency with Data Visualisati...</td>\n",
       "      <td>At SAI Global, we make Intelligent Risk possi...</td>\n",
       "    </tr>\n",
       "    <tr>\n",
       "      <th>10</th>\n",
       "      <td>Sydney NSW</td>\n",
       "      <td>Data Scientist, Google Technical Services</td>\n",
       "      <td>Google</td>\n",
       "      <td>NA</td>\n",
       "      <td>Engage various stakeholders, asse...</td>\n",
       "      <td>Google Technical Services: Professional Servi...</td>\n",
       "    </tr>\n",
       "    <tr>\n",
       "      <th>11</th>\n",
       "      <td>Sydney NSW</td>\n",
       "      <td>Junior Quantitative Researcher - Machine Learning</td>\n",
       "      <td>Akuna Capital</td>\n",
       "      <td>NA</td>\n",
       "      <td>Akuna Capital is a young and boom...</td>\n",
       "      <td>About Akuna: Akuna Capital is a young and boo...</td>\n",
       "    </tr>\n",
       "    <tr>\n",
       "      <th>12</th>\n",
       "      <td>Sydney NSW</td>\n",
       "      <td>Google Cloud Platform Engineer - Big Data and ...</td>\n",
       "      <td>Deloitte</td>\n",
       "      <td>NA</td>\n",
       "      <td>Experience working with recommend...</td>\n",
       "      <td>About Deloitte:   Flexibility, opportunity an...</td>\n",
       "    </tr>\n",
       "    <tr>\n",
       "      <th>13</th>\n",
       "      <td>Sydney NSW</td>\n",
       "      <td>Data &amp; Analytics - Leadership role</td>\n",
       "      <td>KPMG</td>\n",
       "      <td>NA</td>\n",
       "      <td>Using Data Science techniques and...</td>\n",
       "      <td>Leadership opportunity in consulting (Associa...</td>\n",
       "    </tr>\n",
       "    <tr>\n",
       "      <th>14</th>\n",
       "      <td>Sydney NSW</td>\n",
       "      <td>Data Scientist (Python/R)</td>\n",
       "      <td>Correlate Resources</td>\n",
       "      <td>$100,000 - $120,000 a year</td>\n",
       "      <td>Work within a team of industry le...</td>\n",
       "      <td>Our client is an industry pioneering Customer...</td>\n",
       "    </tr>\n",
       "  </tbody>\n",
       "</table>\n",
       "</div>"
      ],
      "text/plain": [
       "                    location  \\\n",
       "0                 Sydney NSW   \n",
       "1                 Sydney NSW   \n",
       "2                 Sydney NSW   \n",
       "3   Macquarie University NSW   \n",
       "4                 Sydney NSW   \n",
       "5                 Sydney NSW   \n",
       "6                 Sydney NSW   \n",
       "7             Alexandria NSW   \n",
       "8                 Sydney NSW   \n",
       "9                 Sydney NSW   \n",
       "10                Sydney NSW   \n",
       "11                Sydney NSW   \n",
       "12                Sydney NSW   \n",
       "13                Sydney NSW   \n",
       "14                Sydney NSW   \n",
       "\n",
       "                                                title  \\\n",
       "0                       Junior Data Analyst/Scientist   \n",
       "1                               Senior Data Scientist   \n",
       "2                                  Research Scientist   \n",
       "3                      Data Science Research Engineer   \n",
       "4                             Data Scientist (Sydney)   \n",
       "5                                      Data Scientist   \n",
       "6                                      Data Scientist   \n",
       "7                                      Data Scientist   \n",
       "8                                    Data & Analytics   \n",
       "9                                      Data Scientist   \n",
       "10          Data Scientist, Google Technical Services   \n",
       "11  Junior Quantitative Researcher - Machine Learning   \n",
       "12  Google Cloud Platform Engineer - Big Data and ...   \n",
       "13                 Data & Analytics - Leadership role   \n",
       "14                          Data Scientist (Python/R)   \n",
       "\n",
       "                                             company  \\\n",
       "0        International Institute of Data & Analytics   \n",
       "1                                         Amazon.com   \n",
       "2                                         Amazon.com   \n",
       "3                               Macquarie University   \n",
       "4                                             C3 IoT   \n",
       "5                                         BuildingIQ   \n",
       "6                                     Fortune Select   \n",
       "7                             Black Swallow Boutique   \n",
       "8                                               KPMG   \n",
       "9                                         SAI Global   \n",
       "10                                            Google   \n",
       "11                                     Akuna Capital   \n",
       "12                                          Deloitte   \n",
       "13                                              KPMG   \n",
       "14                               Correlate Resources   \n",
       "\n",
       "                                         salary  \\\n",
       "0                                            NA   \n",
       "1                                            NA   \n",
       "2                                            NA   \n",
       "3                    $100,706 - $112,058 a year   \n",
       "4                                            NA   \n",
       "5                                            NA   \n",
       "6                                            NA   \n",
       "7                                            NA   \n",
       "8                                            NA   \n",
       "9                                            NA   \n",
       "10                                           NA   \n",
       "11                                           NA   \n",
       "12                                           NA   \n",
       "13                                           NA   \n",
       "14                   $100,000 - $120,000 a year   \n",
       "\n",
       "                                              summary  \\\n",
       "0                In data science and big data anal...   \n",
       "1                A Senior Data Scientist will:. Ou...   \n",
       "2    Data drives the development of new process; D...   \n",
       "3                We are seeking a Data Science Res...   \n",
       "4                In this capacity, you will partic...   \n",
       "5                We are looking for a Data Scienti...   \n",
       "6                Experience using and maintaining ...   \n",
       "7                We are looking for an experienced...   \n",
       "8                Using Data Science techniques and...   \n",
       "9                Proficiency with Data Visualisati...   \n",
       "10               Engage various stakeholders, asse...   \n",
       "11               Akuna Capital is a young and boom...   \n",
       "12               Experience working with recommend...   \n",
       "13               Using Data Science techniques and...   \n",
       "14               Work within a team of industry le...   \n",
       "\n",
       "                                          description  \n",
       "0    The International Institute of Data & Analyti...  \n",
       "1    Excited by using massive amounts of data to d...  \n",
       "2    Business today operates at the pinnacle of th...  \n",
       "3                                                  NA  \n",
       "4    In this capacity, you will participate in the...  \n",
       "5    Job Description | Location – Sydney, Australi...  \n",
       "6    Location: Sydney  Job Type: Permanent  Skills...  \n",
       "7    We are looking for an experienced Data Scient...  \n",
       "8    Be a key part of our growth & innovation stra...  \n",
       "9    At SAI Global, we make Intelligent Risk possi...  \n",
       "10   Google Technical Services: Professional Servi...  \n",
       "11   About Akuna: Akuna Capital is a young and boo...  \n",
       "12   About Deloitte:   Flexibility, opportunity an...  \n",
       "13   Leadership opportunity in consulting (Associa...  \n",
       "14   Our client is an industry pioneering Customer...  "
      ]
     },
     "execution_count": 23,
     "metadata": {},
     "output_type": "execute_result"
    }
   ],
   "source": [
    "indeed_jobs.head(15)"
   ]
  },
  {
   "cell_type": "code",
   "execution_count": 24,
   "metadata": {
    "hidden": true
   },
   "outputs": [
    {
     "data": {
      "text/html": [
       "<div>\n",
       "<style scoped>\n",
       "    .dataframe tbody tr th:only-of-type {\n",
       "        vertical-align: middle;\n",
       "    }\n",
       "\n",
       "    .dataframe tbody tr th {\n",
       "        vertical-align: top;\n",
       "    }\n",
       "\n",
       "    .dataframe thead th {\n",
       "        text-align: right;\n",
       "    }\n",
       "</style>\n",
       "<table border=\"1\" class=\"dataframe\">\n",
       "  <thead>\n",
       "    <tr style=\"text-align: right;\">\n",
       "      <th></th>\n",
       "      <th>location</th>\n",
       "      <th>title</th>\n",
       "      <th>company</th>\n",
       "      <th>salary</th>\n",
       "      <th>summary</th>\n",
       "      <th>description</th>\n",
       "    </tr>\n",
       "  </thead>\n",
       "  <tbody>\n",
       "    <tr>\n",
       "      <th>17695</th>\n",
       "      <td>Adelaide SA</td>\n",
       "      <td>Customer Service Specialist</td>\n",
       "      <td>Talent Options</td>\n",
       "      <td>NA</td>\n",
       "      <td>Accurate data entry skills. This ...</td>\n",
       "      <td>Customer Services Specialist  Our client is s...</td>\n",
       "    </tr>\n",
       "    <tr>\n",
       "      <th>17696</th>\n",
       "      <td>Adelaide SA</td>\n",
       "      <td>Sales Agronomist (Regional)</td>\n",
       "      <td>Farmers Edge</td>\n",
       "      <td>NA</td>\n",
       "      <td>From seed selection to yield data...</td>\n",
       "      <td>Farmers Edge is a global leader in decision a...</td>\n",
       "    </tr>\n",
       "    <tr>\n",
       "      <th>17697</th>\n",
       "      <td>Adelaide SA</td>\n",
       "      <td>Animation Supervisor</td>\n",
       "      <td>Rising Sun Pictures (RSP)</td>\n",
       "      <td>NA</td>\n",
       "      <td>Please review our Privacy Policy ...</td>\n",
       "      <td>Reporting directly to CG and VFX Supervisors,...</td>\n",
       "    </tr>\n",
       "    <tr>\n",
       "      <th>17698</th>\n",
       "      <td>Adelaide SA</td>\n",
       "      <td>VFX Supervisor</td>\n",
       "      <td>Rising Sun Pictures (RSP)</td>\n",
       "      <td>NA</td>\n",
       "      <td>Please review our Privacy Policy ...</td>\n",
       "      <td>The VFX Supervisor is required to supervise, ...</td>\n",
       "    </tr>\n",
       "    <tr>\n",
       "      <th>17699</th>\n",
       "      <td>Adelaide SA</td>\n",
       "      <td>CG Supervisor</td>\n",
       "      <td>Rising Sun Pictures (RSP)</td>\n",
       "      <td>NA</td>\n",
       "      <td>Please review our Privacy Policy ...</td>\n",
       "      <td>The CG Supervisor will supervise, monitor, di...</td>\n",
       "    </tr>\n",
       "    <tr>\n",
       "      <th>17700</th>\n",
       "      <td>Adelaide SA</td>\n",
       "      <td>Management Accountant</td>\n",
       "      <td>EGM Partners</td>\n",
       "      <td>NA</td>\n",
       "      <td>Work collaboratively with the Fin...</td>\n",
       "      <td>We are resruiting a Senior/Management Account...</td>\n",
       "    </tr>\n",
       "    <tr>\n",
       "      <th>17701</th>\n",
       "      <td>Adelaide SA</td>\n",
       "      <td>Data Analyst</td>\n",
       "      <td>Piper Talent Pty Ltd</td>\n",
       "      <td>NA</td>\n",
       "      <td>Microsoft Data Insights developme...</td>\n",
       "      <td>About my client A big company with a small fe...</td>\n",
       "    </tr>\n",
       "    <tr>\n",
       "      <th>17702</th>\n",
       "      <td>Adelaide City Centre SA</td>\n",
       "      <td>Data Scientist / Data Miner</td>\n",
       "      <td>Peoplebank</td>\n",
       "      <td>NA</td>\n",
       "      <td>Experience in working in Big Data...</td>\n",
       "      <td>Peoplebank is a preferred supplier to number ...</td>\n",
       "    </tr>\n",
       "    <tr>\n",
       "      <th>17703</th>\n",
       "      <td>Adelaide SA</td>\n",
       "      <td>CG Supervisor</td>\n",
       "      <td>Rising Sun Pictures (RSP)</td>\n",
       "      <td>NA</td>\n",
       "      <td>Please review our Privacy Policy ...</td>\n",
       "      <td>The CG Supervisor will supervise, monitor, di...</td>\n",
       "    </tr>\n",
       "    <tr>\n",
       "      <th>17704</th>\n",
       "      <td>Adelaide SA</td>\n",
       "      <td>Senior Test Analyst</td>\n",
       "      <td>TicToc Home</td>\n",
       "      <td>NA</td>\n",
       "      <td>You'll have a passion for breakin...</td>\n",
       "      <td>about TicToc The World's First Instant Home L...</td>\n",
       "    </tr>\n",
       "    <tr>\n",
       "      <th>17705</th>\n",
       "      <td>Adelaide SA</td>\n",
       "      <td>VFX Supervisor</td>\n",
       "      <td>Rising Sun Pictures (RSP)</td>\n",
       "      <td>NA</td>\n",
       "      <td>Please review our Privacy Policy ...</td>\n",
       "      <td>The VFX Supervisor is required to supervise, ...</td>\n",
       "    </tr>\n",
       "    <tr>\n",
       "      <th>17706</th>\n",
       "      <td>Adelaide SA</td>\n",
       "      <td>Sales Agronomist (Regional)</td>\n",
       "      <td>Farmers Edge</td>\n",
       "      <td>NA</td>\n",
       "      <td>From seed selection to yield data...</td>\n",
       "      <td>Farmers Edge is a global leader in decision a...</td>\n",
       "    </tr>\n",
       "    <tr>\n",
       "      <th>17707</th>\n",
       "      <td>Adelaide SA</td>\n",
       "      <td>Senior Microsoft Data Insights Consultant - Ade</td>\n",
       "      <td>Empired Ltd</td>\n",
       "      <td>NA</td>\n",
       "      <td>Microsoft Data Insights developme...</td>\n",
       "      <td>About Empired: The largest Asia Pacific dedic...</td>\n",
       "    </tr>\n",
       "    <tr>\n",
       "      <th>17708</th>\n",
       "      <td>Adelaide SA</td>\n",
       "      <td>Customer Service Specialist</td>\n",
       "      <td>Talent Options</td>\n",
       "      <td>NA</td>\n",
       "      <td>Accurate data entry skills. This ...</td>\n",
       "      <td>Customer Services Specialist  Our client is s...</td>\n",
       "    </tr>\n",
       "    <tr>\n",
       "      <th>17709</th>\n",
       "      <td>Adelaide SA</td>\n",
       "      <td>Management Accountant</td>\n",
       "      <td>EGM Partners</td>\n",
       "      <td>NA</td>\n",
       "      <td>Work collaboratively with the Fin...</td>\n",
       "      <td>We are resruiting a Senior/Management Account...</td>\n",
       "    </tr>\n",
       "  </tbody>\n",
       "</table>\n",
       "</div>"
      ],
      "text/plain": [
       "                      location  \\\n",
       "17695              Adelaide SA   \n",
       "17696              Adelaide SA   \n",
       "17697              Adelaide SA   \n",
       "17698              Adelaide SA   \n",
       "17699              Adelaide SA   \n",
       "17700              Adelaide SA   \n",
       "17701              Adelaide SA   \n",
       "17702  Adelaide City Centre SA   \n",
       "17703              Adelaide SA   \n",
       "17704              Adelaide SA   \n",
       "17705              Adelaide SA   \n",
       "17706              Adelaide SA   \n",
       "17707              Adelaide SA   \n",
       "17708              Adelaide SA   \n",
       "17709              Adelaide SA   \n",
       "\n",
       "                                                 title  \\\n",
       "17695                      Customer Service Specialist   \n",
       "17696                      Sales Agronomist (Regional)   \n",
       "17697                             Animation Supervisor   \n",
       "17698                                   VFX Supervisor   \n",
       "17699                                    CG Supervisor   \n",
       "17700                            Management Accountant   \n",
       "17701                                     Data Analyst   \n",
       "17702                      Data Scientist / Data Miner   \n",
       "17703                                    CG Supervisor   \n",
       "17704                              Senior Test Analyst   \n",
       "17705                                   VFX Supervisor   \n",
       "17706                      Sales Agronomist (Regional)   \n",
       "17707  Senior Microsoft Data Insights Consultant - Ade   \n",
       "17708                      Customer Service Specialist   \n",
       "17709                            Management Accountant   \n",
       "\n",
       "                              company salary  \\\n",
       "17695                  Talent Options     NA   \n",
       "17696                    Farmers Edge     NA   \n",
       "17697       Rising Sun Pictures (RSP)     NA   \n",
       "17698       Rising Sun Pictures (RSP)     NA   \n",
       "17699       Rising Sun Pictures (RSP)     NA   \n",
       "17700                    EGM Partners     NA   \n",
       "17701            Piper Talent Pty Ltd     NA   \n",
       "17702                      Peoplebank     NA   \n",
       "17703       Rising Sun Pictures (RSP)     NA   \n",
       "17704                     TicToc Home     NA   \n",
       "17705       Rising Sun Pictures (RSP)     NA   \n",
       "17706                    Farmers Edge     NA   \n",
       "17707                     Empired Ltd     NA   \n",
       "17708                  Talent Options     NA   \n",
       "17709                    EGM Partners     NA   \n",
       "\n",
       "                                                 summary  \\\n",
       "17695               Accurate data entry skills. This ...   \n",
       "17696               From seed selection to yield data...   \n",
       "17697               Please review our Privacy Policy ...   \n",
       "17698               Please review our Privacy Policy ...   \n",
       "17699               Please review our Privacy Policy ...   \n",
       "17700               Work collaboratively with the Fin...   \n",
       "17701               Microsoft Data Insights developme...   \n",
       "17702               Experience in working in Big Data...   \n",
       "17703               Please review our Privacy Policy ...   \n",
       "17704               You'll have a passion for breakin...   \n",
       "17705               Please review our Privacy Policy ...   \n",
       "17706               From seed selection to yield data...   \n",
       "17707               Microsoft Data Insights developme...   \n",
       "17708               Accurate data entry skills. This ...   \n",
       "17709               Work collaboratively with the Fin...   \n",
       "\n",
       "                                             description  \n",
       "17695   Customer Services Specialist  Our client is s...  \n",
       "17696   Farmers Edge is a global leader in decision a...  \n",
       "17697   Reporting directly to CG and VFX Supervisors,...  \n",
       "17698   The VFX Supervisor is required to supervise, ...  \n",
       "17699   The CG Supervisor will supervise, monitor, di...  \n",
       "17700   We are resruiting a Senior/Management Account...  \n",
       "17701   About my client A big company with a small fe...  \n",
       "17702   Peoplebank is a preferred supplier to number ...  \n",
       "17703   The CG Supervisor will supervise, monitor, di...  \n",
       "17704   about TicToc The World's First Instant Home L...  \n",
       "17705   The VFX Supervisor is required to supervise, ...  \n",
       "17706   Farmers Edge is a global leader in decision a...  \n",
       "17707   About Empired: The largest Asia Pacific dedic...  \n",
       "17708   Customer Services Specialist  Our client is s...  \n",
       "17709   We are resruiting a Senior/Management Account...  "
      ]
     },
     "execution_count": 24,
     "metadata": {},
     "output_type": "execute_result"
    }
   ],
   "source": [
    "indeed_jobs.tail(15)"
   ]
  },
  {
   "cell_type": "code",
   "execution_count": 25,
   "metadata": {
    "hidden": true
   },
   "outputs": [
    {
     "data": {
      "text/plain": [
       "(17710, 6)"
      ]
     },
     "execution_count": 25,
     "metadata": {},
     "output_type": "execute_result"
    }
   ],
   "source": [
    "indeed_jobs.shape"
   ]
  },
  {
   "cell_type": "markdown",
   "metadata": {
    "hidden": true
   },
   "source": [
    "---\n",
    "I will now drop the duplicates. As the jobs0 dataframe has a lot more duplicates than jobs1, I will drop the duplicates that are found in the jobs0 dataframe to make sure all duplicates are removed.\n",
    "\n",
    "---"
   ]
  },
  {
   "cell_type": "code",
   "execution_count": 26,
   "metadata": {
    "hidden": true
   },
   "outputs": [],
   "source": [
    "indeed_jobs.drop_duplicates(['location', 'title', 'company', 'salary', 'summary'], inplace=True)"
   ]
  },
  {
   "cell_type": "code",
   "execution_count": 27,
   "metadata": {
    "hidden": true,
    "scrolled": true
   },
   "outputs": [
    {
     "data": {
      "text/plain": [
       "(4405, 6)"
      ]
     },
     "execution_count": 27,
     "metadata": {},
     "output_type": "execute_result"
    }
   ],
   "source": [
    "indeed_jobs.shape"
   ]
  },
  {
   "cell_type": "markdown",
   "metadata": {
    "hidden": true
   },
   "source": [
    "---\n",
    "Having removed the duplicates, there are 4,405 unique records remaining.\n",
    "\n",
    "---"
   ]
  },
  {
   "cell_type": "markdown",
   "metadata": {
    "hidden": true
   },
   "source": [
    "I have now finished the scrape and dropped the duplicates. I can save the data in csv format for future EDA.\n",
    "\n",
    "---"
   ]
  },
  {
   "cell_type": "code",
   "execution_count": 29,
   "metadata": {
    "hidden": true
   },
   "outputs": [],
   "source": [
    "indeed_jobs.to_csv('indeed_jobs.csv', index=False)"
   ]
  },
  {
   "cell_type": "markdown",
   "metadata": {
    "hidden": true
   },
   "source": [
    "---\n",
    "[End of Scraping (1). See file(2) for EDA]"
   ]
  }
 ],
 "metadata": {
  "kernelspec": {
   "display_name": "Python 3",
   "language": "python",
   "name": "python3"
  },
  "language_info": {
   "codemirror_mode": {
    "name": "ipython",
    "version": 3
   },
   "file_extension": ".py",
   "mimetype": "text/x-python",
   "name": "python",
   "nbconvert_exporter": "python",
   "pygments_lexer": "ipython3",
   "version": "3.6.4"
  }
 },
 "nbformat": 4,
 "nbformat_minor": 2
}
