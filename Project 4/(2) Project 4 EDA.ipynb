{
 "cells": [
  {
   "cell_type": "markdown",
   "metadata": {},
   "source": [
    "# (2) Project 4 - EDA"
   ]
  },
  {
   "cell_type": "markdown",
   "metadata": {},
   "source": [
    "---\n",
    "I have previously scraped job listings data from au.indeed.com. I will now do EDA to clean, plot, and analyse the data.\n",
    "\n",
    "---"
   ]
  },
  {
   "cell_type": "code",
   "execution_count": 1,
   "metadata": {},
   "outputs": [],
   "source": [
    "import pandas as pd\n",
    "import numpy as np\n",
    "import re\n",
    "import matplotlib as mpl\n",
    "import matplotlib.pyplot as plt\n",
    "import seaborn as sns\n",
    "\n",
    "%matplotlib inline\n",
    "%config InlineBackend.figure_format = 'retina'"
   ]
  },
  {
   "cell_type": "code",
   "execution_count": 2,
   "metadata": {},
   "outputs": [],
   "source": [
    "df = pd.read_csv('indeed_jobs.csv')"
   ]
  },
  {
   "cell_type": "code",
   "execution_count": 3,
   "metadata": {},
   "outputs": [
    {
     "data": {
      "text/html": [
       "<div>\n",
       "<style scoped>\n",
       "    .dataframe tbody tr th:only-of-type {\n",
       "        vertical-align: middle;\n",
       "    }\n",
       "\n",
       "    .dataframe tbody tr th {\n",
       "        vertical-align: top;\n",
       "    }\n",
       "\n",
       "    .dataframe thead th {\n",
       "        text-align: right;\n",
       "    }\n",
       "</style>\n",
       "<table border=\"1\" class=\"dataframe\">\n",
       "  <thead>\n",
       "    <tr style=\"text-align: right;\">\n",
       "      <th></th>\n",
       "      <th>location</th>\n",
       "      <th>title</th>\n",
       "      <th>company</th>\n",
       "      <th>salary</th>\n",
       "      <th>summary</th>\n",
       "      <th>description</th>\n",
       "    </tr>\n",
       "  </thead>\n",
       "  <tbody>\n",
       "    <tr>\n",
       "      <th>0</th>\n",
       "      <td>Sydney NSW</td>\n",
       "      <td>Junior Data Analyst/Scientist</td>\n",
       "      <td>International Institute of Data &amp; Analytics</td>\n",
       "      <td>NaN</td>\n",
       "      <td>In data science and big data anal...</td>\n",
       "      <td>The International Institute of Data &amp; Analyti...</td>\n",
       "    </tr>\n",
       "    <tr>\n",
       "      <th>1</th>\n",
       "      <td>Sydney NSW</td>\n",
       "      <td>Senior Data Scientist</td>\n",
       "      <td>Amazon.com</td>\n",
       "      <td>NaN</td>\n",
       "      <td>A Senior Data Scientist will:. Ou...</td>\n",
       "      <td>Excited by using massive amounts of data to d...</td>\n",
       "    </tr>\n",
       "    <tr>\n",
       "      <th>2</th>\n",
       "      <td>Sydney NSW</td>\n",
       "      <td>Research Scientist</td>\n",
       "      <td>Amazon.com</td>\n",
       "      <td>NaN</td>\n",
       "      <td>Data drives the development of new process; D...</td>\n",
       "      <td>Business today operates at the pinnacle of th...</td>\n",
       "    </tr>\n",
       "    <tr>\n",
       "      <th>3</th>\n",
       "      <td>Macquarie University NSW</td>\n",
       "      <td>Data Science Research Engineer</td>\n",
       "      <td>Macquarie University</td>\n",
       "      <td>$100,706 - $112,058 a year</td>\n",
       "      <td>We are seeking a Data Science Res...</td>\n",
       "      <td>NaN</td>\n",
       "    </tr>\n",
       "    <tr>\n",
       "      <th>4</th>\n",
       "      <td>Sydney NSW</td>\n",
       "      <td>Data Scientist (Sydney)</td>\n",
       "      <td>C3 IoT</td>\n",
       "      <td>NaN</td>\n",
       "      <td>In this capacity, you will partic...</td>\n",
       "      <td>In this capacity, you will participate in the...</td>\n",
       "    </tr>\n",
       "  </tbody>\n",
       "</table>\n",
       "</div>"
      ],
      "text/plain": [
       "                   location                           title  \\\n",
       "0                Sydney NSW   Junior Data Analyst/Scientist   \n",
       "1                Sydney NSW           Senior Data Scientist   \n",
       "2                Sydney NSW              Research Scientist   \n",
       "3  Macquarie University NSW  Data Science Research Engineer   \n",
       "4                Sydney NSW         Data Scientist (Sydney)   \n",
       "\n",
       "                                            company  \\\n",
       "0       International Institute of Data & Analytics   \n",
       "1                                        Amazon.com   \n",
       "2                                        Amazon.com   \n",
       "3                              Macquarie University   \n",
       "4                                            C3 IoT   \n",
       "\n",
       "                                        salary  \\\n",
       "0                                          NaN   \n",
       "1                                          NaN   \n",
       "2                                          NaN   \n",
       "3                   $100,706 - $112,058 a year   \n",
       "4                                          NaN   \n",
       "\n",
       "                                             summary  \\\n",
       "0               In data science and big data anal...   \n",
       "1               A Senior Data Scientist will:. Ou...   \n",
       "2   Data drives the development of new process; D...   \n",
       "3               We are seeking a Data Science Res...   \n",
       "4               In this capacity, you will partic...   \n",
       "\n",
       "                                         description  \n",
       "0   The International Institute of Data & Analyti...  \n",
       "1   Excited by using massive amounts of data to d...  \n",
       "2   Business today operates at the pinnacle of th...  \n",
       "3                                                NaN  \n",
       "4   In this capacity, you will participate in the...  "
      ]
     },
     "execution_count": 3,
     "metadata": {},
     "output_type": "execute_result"
    }
   ],
   "source": [
    "df.head()"
   ]
  },
  {
   "cell_type": "code",
   "execution_count": 4,
   "metadata": {},
   "outputs": [
    {
     "data": {
      "text/plain": [
       "(4405, 6)"
      ]
     },
     "execution_count": 4,
     "metadata": {},
     "output_type": "execute_result"
    }
   ],
   "source": [
    "df.shape"
   ]
  },
  {
   "cell_type": "markdown",
   "metadata": {},
   "source": [
    "---\n",
    "I will start by cleaning the data.\n",
    "\n",
    "---"
   ]
  },
  {
   "cell_type": "markdown",
   "metadata": {
    "heading_collapsed": true
   },
   "source": [
    "## Cleaning"
   ]
  },
  {
   "cell_type": "code",
   "execution_count": 5,
   "metadata": {
    "hidden": true
   },
   "outputs": [
    {
     "data": {
      "text/plain": [
       "location          0\n",
       "title             0\n",
       "company           3\n",
       "salary         3560\n",
       "summary           0\n",
       "description      30\n",
       "dtype: int64"
      ]
     },
     "execution_count": 5,
     "metadata": {},
     "output_type": "execute_result"
    }
   ],
   "source": [
    "df.isnull().sum()"
   ]
  },
  {
   "cell_type": "markdown",
   "metadata": {
    "hidden": true
   },
   "source": [
    "---\n",
    "I first checked how many null values are in each column. Most of the salary records are NaN. However, I will leave these in place for now as I will be making a model to predict and impute these values based on the salaries that are in the data.\n",
    "<br>The company and description columns have a few NaNs so I will remove these rows.\n",
    "\n",
    "---"
   ]
  },
  {
   "cell_type": "code",
   "execution_count": 6,
   "metadata": {
    "hidden": true
   },
   "outputs": [],
   "source": [
    "df.dropna(subset=['location', 'title', 'company', 'summary', 'description'], axis=0, inplace=True)\n",
    "# drop NaNs from all columns except salary."
   ]
  },
  {
   "cell_type": "code",
   "execution_count": 7,
   "metadata": {
    "hidden": true
   },
   "outputs": [
    {
     "data": {
      "text/html": [
       "<div>\n",
       "<style scoped>\n",
       "    .dataframe tbody tr th:only-of-type {\n",
       "        vertical-align: middle;\n",
       "    }\n",
       "\n",
       "    .dataframe tbody tr th {\n",
       "        vertical-align: top;\n",
       "    }\n",
       "\n",
       "    .dataframe thead th {\n",
       "        text-align: right;\n",
       "    }\n",
       "</style>\n",
       "<table border=\"1\" class=\"dataframe\">\n",
       "  <thead>\n",
       "    <tr style=\"text-align: right;\">\n",
       "      <th></th>\n",
       "      <th>location</th>\n",
       "      <th>title</th>\n",
       "      <th>company</th>\n",
       "      <th>salary</th>\n",
       "      <th>summary</th>\n",
       "      <th>description</th>\n",
       "    </tr>\n",
       "  </thead>\n",
       "  <tbody>\n",
       "    <tr>\n",
       "      <th>0</th>\n",
       "      <td>Sydney NSW</td>\n",
       "      <td>Junior Data Analyst/Scientist</td>\n",
       "      <td>International Institute of Data &amp; Analytics</td>\n",
       "      <td>NaN</td>\n",
       "      <td>In data science and big data anal...</td>\n",
       "      <td>The International Institute of Data &amp; Analyti...</td>\n",
       "    </tr>\n",
       "    <tr>\n",
       "      <th>1</th>\n",
       "      <td>Sydney NSW</td>\n",
       "      <td>Senior Data Scientist</td>\n",
       "      <td>Amazon.com</td>\n",
       "      <td>NaN</td>\n",
       "      <td>A Senior Data Scientist will:. Ou...</td>\n",
       "      <td>Excited by using massive amounts of data to d...</td>\n",
       "    </tr>\n",
       "    <tr>\n",
       "      <th>2</th>\n",
       "      <td>Sydney NSW</td>\n",
       "      <td>Research Scientist</td>\n",
       "      <td>Amazon.com</td>\n",
       "      <td>NaN</td>\n",
       "      <td>Data drives the development of new process; D...</td>\n",
       "      <td>Business today operates at the pinnacle of th...</td>\n",
       "    </tr>\n",
       "    <tr>\n",
       "      <th>4</th>\n",
       "      <td>Sydney NSW</td>\n",
       "      <td>Data Scientist (Sydney)</td>\n",
       "      <td>C3 IoT</td>\n",
       "      <td>NaN</td>\n",
       "      <td>In this capacity, you will partic...</td>\n",
       "      <td>In this capacity, you will participate in the...</td>\n",
       "    </tr>\n",
       "    <tr>\n",
       "      <th>5</th>\n",
       "      <td>Sydney NSW</td>\n",
       "      <td>Data Scientist</td>\n",
       "      <td>BuildingIQ</td>\n",
       "      <td>NaN</td>\n",
       "      <td>We are looking for a Data Scienti...</td>\n",
       "      <td>Job Description | Location – Sydney, Australi...</td>\n",
       "    </tr>\n",
       "  </tbody>\n",
       "</table>\n",
       "</div>"
      ],
      "text/plain": [
       "     location                          title  \\\n",
       "0  Sydney NSW  Junior Data Analyst/Scientist   \n",
       "1  Sydney NSW          Senior Data Scientist   \n",
       "2  Sydney NSW             Research Scientist   \n",
       "4  Sydney NSW        Data Scientist (Sydney)   \n",
       "5  Sydney NSW                 Data Scientist   \n",
       "\n",
       "                                            company salary  \\\n",
       "0       International Institute of Data & Analytics    NaN   \n",
       "1                                        Amazon.com    NaN   \n",
       "2                                        Amazon.com    NaN   \n",
       "4                                            C3 IoT    NaN   \n",
       "5                                        BuildingIQ    NaN   \n",
       "\n",
       "                                             summary  \\\n",
       "0               In data science and big data anal...   \n",
       "1               A Senior Data Scientist will:. Ou...   \n",
       "2   Data drives the development of new process; D...   \n",
       "4               In this capacity, you will partic...   \n",
       "5               We are looking for a Data Scienti...   \n",
       "\n",
       "                                         description  \n",
       "0   The International Institute of Data & Analyti...  \n",
       "1   Excited by using massive amounts of data to d...  \n",
       "2   Business today operates at the pinnacle of th...  \n",
       "4   In this capacity, you will participate in the...  \n",
       "5   Job Description | Location – Sydney, Australi...  "
      ]
     },
     "execution_count": 7,
     "metadata": {},
     "output_type": "execute_result"
    }
   ],
   "source": [
    "df.head()"
   ]
  },
  {
   "cell_type": "code",
   "execution_count": 8,
   "metadata": {
    "hidden": true
   },
   "outputs": [
    {
     "data": {
      "text/plain": [
       "(4372, 6)"
      ]
     },
     "execution_count": 8,
     "metadata": {},
     "output_type": "execute_result"
    }
   ],
   "source": [
    "df.shape"
   ]
  },
  {
   "cell_type": "code",
   "execution_count": 9,
   "metadata": {
    "hidden": true
   },
   "outputs": [
    {
     "data": {
      "text/plain": [
       "location          0\n",
       "title             0\n",
       "company           0\n",
       "salary         3534\n",
       "summary           0\n",
       "description       0\n",
       "dtype: int64"
      ]
     },
     "execution_count": 9,
     "metadata": {},
     "output_type": "execute_result"
    }
   ],
   "source": [
    "df.isnull().sum()"
   ]
  },
  {
   "cell_type": "markdown",
   "metadata": {
    "hidden": true
   },
   "source": [
    "---\n",
    "Having previously checked the csv file in excel, I have noticed that a number of the records appear to have white space at the beginning so I will use .strip to remove it. There are also a variety of symbols in the text in the columns that will need to be removed to clean the data.\n",
    "\n",
    "---"
   ]
  },
  {
   "cell_type": "code",
   "execution_count": 10,
   "metadata": {
    "hidden": true
   },
   "outputs": [],
   "source": [
    "df[\"summary\"] = df[\"summary\"].map(str.strip)   # Remove white space from the beginning of rows.\n",
    "df[\"location\"] = df[\"location\"].map(str.strip)\n",
    "df[\"title\"] = df[\"title\"].map(str.strip)\n",
    "df[\"company\"] = df[\"company\"].map(str.strip)\n",
    "df[\"description\"] = df[\"description\"].map(str.strip)"
   ]
  },
  {
   "cell_type": "code",
   "execution_count": 11,
   "metadata": {
    "hidden": true
   },
   "outputs": [
    {
     "data": {
      "text/html": [
       "<div>\n",
       "<style scoped>\n",
       "    .dataframe tbody tr th:only-of-type {\n",
       "        vertical-align: middle;\n",
       "    }\n",
       "\n",
       "    .dataframe tbody tr th {\n",
       "        vertical-align: top;\n",
       "    }\n",
       "\n",
       "    .dataframe thead th {\n",
       "        text-align: right;\n",
       "    }\n",
       "</style>\n",
       "<table border=\"1\" class=\"dataframe\">\n",
       "  <thead>\n",
       "    <tr style=\"text-align: right;\">\n",
       "      <th></th>\n",
       "      <th>location</th>\n",
       "      <th>title</th>\n",
       "      <th>company</th>\n",
       "      <th>salary</th>\n",
       "      <th>summary</th>\n",
       "      <th>description</th>\n",
       "    </tr>\n",
       "  </thead>\n",
       "  <tbody>\n",
       "    <tr>\n",
       "      <th>0</th>\n",
       "      <td>Sydney NSW</td>\n",
       "      <td>Junior Data Analyst/Scientist</td>\n",
       "      <td>International Institute of Data &amp; Analytics</td>\n",
       "      <td>NaN</td>\n",
       "      <td>In data science and big data analytics, the ID...</td>\n",
       "      <td>The International Institute of Data &amp; Analytic...</td>\n",
       "    </tr>\n",
       "    <tr>\n",
       "      <th>1</th>\n",
       "      <td>Sydney NSW</td>\n",
       "      <td>Senior Data Scientist</td>\n",
       "      <td>Amazon.com</td>\n",
       "      <td>NaN</td>\n",
       "      <td>A Senior Data Scientist will:. Our Data Scient...</td>\n",
       "      <td>Excited by using massive amounts of data to de...</td>\n",
       "    </tr>\n",
       "    <tr>\n",
       "      <th>2</th>\n",
       "      <td>Sydney NSW</td>\n",
       "      <td>Research Scientist</td>\n",
       "      <td>Amazon.com</td>\n",
       "      <td>NaN</td>\n",
       "      <td>Data drives the development of new process; Da...</td>\n",
       "      <td>Business today operates at the pinnacle of the...</td>\n",
       "    </tr>\n",
       "    <tr>\n",
       "      <th>4</th>\n",
       "      <td>Sydney NSW</td>\n",
       "      <td>Data Scientist (Sydney)</td>\n",
       "      <td>C3 IoT</td>\n",
       "      <td>NaN</td>\n",
       "      <td>In this capacity, you will participate in the ...</td>\n",
       "      <td>In this capacity, you will participate in the ...</td>\n",
       "    </tr>\n",
       "    <tr>\n",
       "      <th>5</th>\n",
       "      <td>Sydney NSW</td>\n",
       "      <td>Data Scientist</td>\n",
       "      <td>BuildingIQ</td>\n",
       "      <td>NaN</td>\n",
       "      <td>We are looking for a Data Scientist to be a pa...</td>\n",
       "      <td>Job Description | Location – Sydney, Australia...</td>\n",
       "    </tr>\n",
       "  </tbody>\n",
       "</table>\n",
       "</div>"
      ],
      "text/plain": [
       "     location                          title  \\\n",
       "0  Sydney NSW  Junior Data Analyst/Scientist   \n",
       "1  Sydney NSW          Senior Data Scientist   \n",
       "2  Sydney NSW             Research Scientist   \n",
       "4  Sydney NSW        Data Scientist (Sydney)   \n",
       "5  Sydney NSW                 Data Scientist   \n",
       "\n",
       "                                       company salary  \\\n",
       "0  International Institute of Data & Analytics    NaN   \n",
       "1                                   Amazon.com    NaN   \n",
       "2                                   Amazon.com    NaN   \n",
       "4                                       C3 IoT    NaN   \n",
       "5                                   BuildingIQ    NaN   \n",
       "\n",
       "                                             summary  \\\n",
       "0  In data science and big data analytics, the ID...   \n",
       "1  A Senior Data Scientist will:. Our Data Scient...   \n",
       "2  Data drives the development of new process; Da...   \n",
       "4  In this capacity, you will participate in the ...   \n",
       "5  We are looking for a Data Scientist to be a pa...   \n",
       "\n",
       "                                         description  \n",
       "0  The International Institute of Data & Analytic...  \n",
       "1  Excited by using massive amounts of data to de...  \n",
       "2  Business today operates at the pinnacle of the...  \n",
       "4  In this capacity, you will participate in the ...  \n",
       "5  Job Description | Location – Sydney, Australia...  "
      ]
     },
     "execution_count": 11,
     "metadata": {},
     "output_type": "execute_result"
    }
   ],
   "source": [
    "df.head()"
   ]
  },
  {
   "cell_type": "markdown",
   "metadata": {
    "hidden": true
   },
   "source": [
    "---\n",
    "The following function will clean the data for a column by removing a number of symbols that I have noticed were in the data.\n",
    "\n",
    "---"
   ]
  },
  {
   "cell_type": "code",
   "execution_count": 12,
   "metadata": {
    "hidden": true
   },
   "outputs": [],
   "source": [
    "def clean_data(df, column):\n",
    "    cleaning_list = ['+', '$', '/', ',', '?', '.', ';', '-', '@', '!', '&', '%', '^', '*', ')', '(', '|', '<', '>',\n",
    "                     '\"', ':', '‚', 'Ä', 'ô', 'ì']  # List of symbols to be removed.\n",
    "    for item in cleaning_list:\n",
    "        df[column] = df[column].str.replace(item, ' ')  # replace any symbol found in a column with a space.\n",
    "        df[column] = df[column].map(str.lower)    # make the text in columns lowercase."
   ]
  },
  {
   "cell_type": "code",
   "execution_count": 13,
   "metadata": {
    "hidden": true
   },
   "outputs": [],
   "source": [
    "clean_data(df, 'location')   # Call clean_data function for all columns except salary which will be cleaned separately.\n",
    "clean_data(df, 'title')\n",
    "clean_data(df, 'company')\n",
    "clean_data(df, 'summary')\n",
    "clean_data(df, 'description')"
   ]
  },
  {
   "cell_type": "code",
   "execution_count": 14,
   "metadata": {
    "hidden": true
   },
   "outputs": [
    {
     "data": {
      "text/html": [
       "<div>\n",
       "<style scoped>\n",
       "    .dataframe tbody tr th:only-of-type {\n",
       "        vertical-align: middle;\n",
       "    }\n",
       "\n",
       "    .dataframe tbody tr th {\n",
       "        vertical-align: top;\n",
       "    }\n",
       "\n",
       "    .dataframe thead th {\n",
       "        text-align: right;\n",
       "    }\n",
       "</style>\n",
       "<table border=\"1\" class=\"dataframe\">\n",
       "  <thead>\n",
       "    <tr style=\"text-align: right;\">\n",
       "      <th></th>\n",
       "      <th>location</th>\n",
       "      <th>title</th>\n",
       "      <th>company</th>\n",
       "      <th>salary</th>\n",
       "      <th>summary</th>\n",
       "      <th>description</th>\n",
       "    </tr>\n",
       "  </thead>\n",
       "  <tbody>\n",
       "    <tr>\n",
       "      <th>0</th>\n",
       "      <td>sydney nsw</td>\n",
       "      <td>junior data analyst scientist</td>\n",
       "      <td>international institute of data   analytics</td>\n",
       "      <td>NaN</td>\n",
       "      <td>in data science and big data analytics  the id...</td>\n",
       "      <td>the international institute of data   analytic...</td>\n",
       "    </tr>\n",
       "    <tr>\n",
       "      <th>1</th>\n",
       "      <td>sydney nsw</td>\n",
       "      <td>senior data scientist</td>\n",
       "      <td>amazon com</td>\n",
       "      <td>NaN</td>\n",
       "      <td>a senior data scientist will   our data scient...</td>\n",
       "      <td>excited by using massive amounts of data to de...</td>\n",
       "    </tr>\n",
       "    <tr>\n",
       "      <th>2</th>\n",
       "      <td>sydney nsw</td>\n",
       "      <td>research scientist</td>\n",
       "      <td>amazon com</td>\n",
       "      <td>NaN</td>\n",
       "      <td>data drives the development of new process  da...</td>\n",
       "      <td>business today operates at the pinnacle of the...</td>\n",
       "    </tr>\n",
       "    <tr>\n",
       "      <th>4</th>\n",
       "      <td>sydney nsw</td>\n",
       "      <td>data scientist  sydney</td>\n",
       "      <td>c3 iot</td>\n",
       "      <td>NaN</td>\n",
       "      <td>in this capacity  you will participate in the ...</td>\n",
       "      <td>in this capacity  you will participate in the ...</td>\n",
       "    </tr>\n",
       "    <tr>\n",
       "      <th>5</th>\n",
       "      <td>sydney nsw</td>\n",
       "      <td>data scientist</td>\n",
       "      <td>buildingiq</td>\n",
       "      <td>NaN</td>\n",
       "      <td>we are looking for a data scientist to be a pa...</td>\n",
       "      <td>job description   location – sydney  australia...</td>\n",
       "    </tr>\n",
       "  </tbody>\n",
       "</table>\n",
       "</div>"
      ],
      "text/plain": [
       "     location                          title  \\\n",
       "0  sydney nsw  junior data analyst scientist   \n",
       "1  sydney nsw          senior data scientist   \n",
       "2  sydney nsw             research scientist   \n",
       "4  sydney nsw        data scientist  sydney    \n",
       "5  sydney nsw                 data scientist   \n",
       "\n",
       "                                       company salary  \\\n",
       "0  international institute of data   analytics    NaN   \n",
       "1                                   amazon com    NaN   \n",
       "2                                   amazon com    NaN   \n",
       "4                                       c3 iot    NaN   \n",
       "5                                   buildingiq    NaN   \n",
       "\n",
       "                                             summary  \\\n",
       "0  in data science and big data analytics  the id...   \n",
       "1  a senior data scientist will   our data scient...   \n",
       "2  data drives the development of new process  da...   \n",
       "4  in this capacity  you will participate in the ...   \n",
       "5  we are looking for a data scientist to be a pa...   \n",
       "\n",
       "                                         description  \n",
       "0  the international institute of data   analytic...  \n",
       "1  excited by using massive amounts of data to de...  \n",
       "2  business today operates at the pinnacle of the...  \n",
       "4  in this capacity  you will participate in the ...  \n",
       "5  job description   location – sydney  australia...  "
      ]
     },
     "execution_count": 14,
     "metadata": {},
     "output_type": "execute_result"
    }
   ],
   "source": [
    "df.head()"
   ]
  },
  {
   "cell_type": "markdown",
   "metadata": {
    "heading_collapsed": true,
    "hidden": true
   },
   "source": [
    "### Salary"
   ]
  },
  {
   "cell_type": "markdown",
   "metadata": {
    "hidden": true
   },
   "source": [
    "---\n",
    "The salary data needs cleaning.\n",
    "\n",
    "---"
   ]
  },
  {
   "cell_type": "code",
   "execution_count": 15,
   "metadata": {
    "hidden": true
   },
   "outputs": [
    {
     "data": {
      "text/plain": [
       "                 $120,000 a year               25\n",
       "                 $100,000 - $120,000 a year    23\n",
       "                 $110,000 a year               17\n",
       "                 $100,000 a year               17\n",
       "                 $140,000 a year               14\n",
       "                 $90,000 a year                12\n",
       "                 $60,000 - $70,000 a year      10\n",
       "                 $80,000 - $100,000 a year     10\n",
       "                 $110,000 - $120,000 a year    10\n",
       "                 $130,000 a year               10\n",
       "                 $70,000 - $80,000 a year      10\n",
       "                 $120,000 - $140,000 a year    10\n",
       "                 $80,000 - $85,000 a year       9\n",
       "                 $120,000 - $130,000 a year     9\n",
       "                 $75,000 a year                 9\n",
       "                 $85,000 a year                 9\n",
       "                 $80,000 - $90,000 a year       9\n",
       "                 $90,000 - $100,000 a year      9\n",
       "                 $93,867 - $113,572 a year      9\n",
       "                 $150,000 a year                8\n",
       "                 $80,000 - $110,000 a year      7\n",
       "                 $110,000 - $130,000 a year     7\n",
       "                 $80,000 a year                 7\n",
       "                 $100,000 - $110,000 a year     7\n",
       "                 $125,000 a year                6\n",
       "                 $75,000 - $85,000 a year       6\n",
       "                 $50,000 - $60,000 a year       6\n",
       "                 $800 a day                     6\n",
       "                 $180,000 a year                6\n",
       "                 $130,000 - $150,000 a year     6\n",
       "                                               ..\n",
       "                 $450 - $540 a day              1\n",
       "                 $300 a day                     1\n",
       "                 $91,750 - $99,300 a year       1\n",
       "                 $590 a week                    1\n",
       "                 $650 - $700 a week             1\n",
       "                 $91,743 - $98,127 a year       1\n",
       "                 $62,000 - $92,000 a year       1\n",
       "                 $120 an hour                   1\n",
       "                 $97 an hour                    1\n",
       "                 $126,194 - $141,336 a year     1\n",
       "                 $165,000 - $180,000 a year     1\n",
       "                 $23 - $25 an hour              1\n",
       "                 $65 - $80 an hour              1\n",
       "                 $192,000 a year                1\n",
       "                 $58,000 - $61,000 a year       1\n",
       "                 $75,000 - $110,000 a year      1\n",
       "                 $220,000 - $300,000 a year     1\n",
       "                 $90,000 - $126,000 a year      1\n",
       "                 $30 an hour                    1\n",
       "                 $500 - $650 a day              1\n",
       "                 $108,792 a year                1\n",
       "                 $55 an hour                    1\n",
       "                 $500 - $850 a day              1\n",
       "                 $70 - $79 an hour              1\n",
       "                 $800 - $900 a day              1\n",
       "                 $600 - $700 a day              1\n",
       "                 $26 an hour                    1\n",
       "                 $32 - $36 an hour              1\n",
       "                 $156,384 - $212,685 a year     1\n",
       "                 $120,000 - $135,000 a year     1\n",
       "Name: salary, Length: 326, dtype: int64"
      ]
     },
     "execution_count": 15,
     "metadata": {},
     "output_type": "execute_result"
    }
   ],
   "source": [
    "df.salary.value_counts()"
   ]
  },
  {
   "cell_type": "markdown",
   "metadata": {
    "hidden": true
   },
   "source": [
    "---\n",
    "Checking the value_counts, there are dollar signs ($) and commas (,) that need to be removed. The salary data is also split into different periods, such as per year, per week, and per hour. This will also need to cleaned. I will then scale non-annual salaries to an annual pay scale.\n",
    "\n",
    "---"
   ]
  },
  {
   "cell_type": "code",
   "execution_count": 16,
   "metadata": {
    "hidden": true
   },
   "outputs": [],
   "source": [
    "df['salary'] = df['salary'].str.replace(',', '')   # Remove ',' and '$' from salary data.\n",
    "df['salary'] = df['salary'].str.replace('$', '')"
   ]
  },
  {
   "cell_type": "markdown",
   "metadata": {
    "hidden": true
   },
   "source": [
    "---\n",
    "I will create another column, salary_type, to record whether the listed salary is yearly, hourly, etc. This will allow me to scale all salaries to an annual rate and see the distributions of the salary records for each salary type.\n",
    "\n",
    "---"
   ]
  },
  {
   "cell_type": "code",
   "execution_count": 17,
   "metadata": {
    "hidden": true
   },
   "outputs": [],
   "source": [
    "df['salary'] = df['salary'].map(lambda x: str(x))   # Make salary column string type so I can use string lambda functions."
   ]
  },
  {
   "cell_type": "code",
   "execution_count": 18,
   "metadata": {
    "hidden": true
   },
   "outputs": [
    {
     "data": {
      "text/plain": [
       "0"
      ]
     },
     "execution_count": 18,
     "metadata": {},
     "output_type": "execute_result"
    }
   ],
   "source": [
    "df.salary.isnull().sum()"
   ]
  },
  {
   "cell_type": "code",
   "execution_count": 19,
   "metadata": {
    "hidden": true
   },
   "outputs": [],
   "source": [
    "df['salary_type'] = df['salary']   # Create salary_type column from salary column."
   ]
  },
  {
   "cell_type": "code",
   "execution_count": 20,
   "metadata": {
    "hidden": true
   },
   "outputs": [],
   "source": [
    "# Change records in salary_type column to match the salary type, e.g. make record 'year' if 'year' is in the record.\n",
    "df['salary_type'] = df['salary_type'].map(lambda x: 'year' if 'year' in x else x)\n",
    "df['salary_type'] = df['salary_type'].map(lambda x: 'month' if 'month' in x else x)\n",
    "df['salary_type'] = df['salary_type'].map(lambda x: 'week' if 'week' in x else x)\n",
    "df['salary_type'] = df['salary_type'].map(lambda x: 'day' if 'day' in x else x)\n",
    "df['salary_type'] = df['salary_type'].map(lambda x: 'hour' if 'hour' in x else x)"
   ]
  },
  {
   "cell_type": "code",
   "execution_count": 21,
   "metadata": {
    "hidden": true
   },
   "outputs": [
    {
     "data": {
      "text/html": [
       "<div>\n",
       "<style scoped>\n",
       "    .dataframe tbody tr th:only-of-type {\n",
       "        vertical-align: middle;\n",
       "    }\n",
       "\n",
       "    .dataframe tbody tr th {\n",
       "        vertical-align: top;\n",
       "    }\n",
       "\n",
       "    .dataframe thead th {\n",
       "        text-align: right;\n",
       "    }\n",
       "</style>\n",
       "<table border=\"1\" class=\"dataframe\">\n",
       "  <thead>\n",
       "    <tr style=\"text-align: right;\">\n",
       "      <th></th>\n",
       "      <th>location</th>\n",
       "      <th>title</th>\n",
       "      <th>company</th>\n",
       "      <th>salary</th>\n",
       "      <th>summary</th>\n",
       "      <th>description</th>\n",
       "      <th>salary_type</th>\n",
       "    </tr>\n",
       "  </thead>\n",
       "  <tbody>\n",
       "    <tr>\n",
       "      <th>0</th>\n",
       "      <td>sydney nsw</td>\n",
       "      <td>junior data analyst scientist</td>\n",
       "      <td>international institute of data   analytics</td>\n",
       "      <td>nan</td>\n",
       "      <td>in data science and big data analytics  the id...</td>\n",
       "      <td>the international institute of data   analytic...</td>\n",
       "      <td>nan</td>\n",
       "    </tr>\n",
       "    <tr>\n",
       "      <th>1</th>\n",
       "      <td>sydney nsw</td>\n",
       "      <td>senior data scientist</td>\n",
       "      <td>amazon com</td>\n",
       "      <td>nan</td>\n",
       "      <td>a senior data scientist will   our data scient...</td>\n",
       "      <td>excited by using massive amounts of data to de...</td>\n",
       "      <td>nan</td>\n",
       "    </tr>\n",
       "    <tr>\n",
       "      <th>2</th>\n",
       "      <td>sydney nsw</td>\n",
       "      <td>research scientist</td>\n",
       "      <td>amazon com</td>\n",
       "      <td>nan</td>\n",
       "      <td>data drives the development of new process  da...</td>\n",
       "      <td>business today operates at the pinnacle of the...</td>\n",
       "      <td>nan</td>\n",
       "    </tr>\n",
       "    <tr>\n",
       "      <th>4</th>\n",
       "      <td>sydney nsw</td>\n",
       "      <td>data scientist  sydney</td>\n",
       "      <td>c3 iot</td>\n",
       "      <td>nan</td>\n",
       "      <td>in this capacity  you will participate in the ...</td>\n",
       "      <td>in this capacity  you will participate in the ...</td>\n",
       "      <td>nan</td>\n",
       "    </tr>\n",
       "    <tr>\n",
       "      <th>5</th>\n",
       "      <td>sydney nsw</td>\n",
       "      <td>data scientist</td>\n",
       "      <td>buildingiq</td>\n",
       "      <td>nan</td>\n",
       "      <td>we are looking for a data scientist to be a pa...</td>\n",
       "      <td>job description   location – sydney  australia...</td>\n",
       "      <td>nan</td>\n",
       "    </tr>\n",
       "  </tbody>\n",
       "</table>\n",
       "</div>"
      ],
      "text/plain": [
       "     location                          title  \\\n",
       "0  sydney nsw  junior data analyst scientist   \n",
       "1  sydney nsw          senior data scientist   \n",
       "2  sydney nsw             research scientist   \n",
       "4  sydney nsw        data scientist  sydney    \n",
       "5  sydney nsw                 data scientist   \n",
       "\n",
       "                                       company salary  \\\n",
       "0  international institute of data   analytics    nan   \n",
       "1                                   amazon com    nan   \n",
       "2                                   amazon com    nan   \n",
       "4                                       c3 iot    nan   \n",
       "5                                   buildingiq    nan   \n",
       "\n",
       "                                             summary  \\\n",
       "0  in data science and big data analytics  the id...   \n",
       "1  a senior data scientist will   our data scient...   \n",
       "2  data drives the development of new process  da...   \n",
       "4  in this capacity  you will participate in the ...   \n",
       "5  we are looking for a data scientist to be a pa...   \n",
       "\n",
       "                                         description salary_type  \n",
       "0  the international institute of data   analytic...         nan  \n",
       "1  excited by using massive amounts of data to de...         nan  \n",
       "2  business today operates at the pinnacle of the...         nan  \n",
       "4  in this capacity  you will participate in the ...         nan  \n",
       "5  job description   location – sydney  australia...         nan  "
      ]
     },
     "execution_count": 21,
     "metadata": {},
     "output_type": "execute_result"
    }
   ],
   "source": [
    "df.head()"
   ]
  },
  {
   "cell_type": "markdown",
   "metadata": {
    "hidden": true
   },
   "source": [
    "---\n",
    "I will now create separate dataframes for the different salary periods (including one for the NaNs). This will allow me to separately scale the different periods to an annual salary and then concatonate the scaled dataframes.\n",
    "\n",
    "---"
   ]
  },
  {
   "cell_type": "code",
   "execution_count": 22,
   "metadata": {
    "hidden": true
   },
   "outputs": [],
   "source": [
    "year_salaries = df[df['salary'].str.contains('year')]   # Yearly salary datframe for records with an annual salary.\n",
    "month_salaries = df[df['salary'].str.contains('month')]\n",
    "week_salaries = df[df['salary'].str.contains('week')]\n",
    "day_salaries = df[df['salary'].str.contains('day')]\n",
    "hour_salaries = df[df['salary'].str.contains('hour')]\n",
    "nan_salaries = df[df['salary'].str.contains('nan')]   # Create NaN dataframe to later concatonate with other dataframes containing salaries."
   ]
  },
  {
   "cell_type": "markdown",
   "metadata": {
    "hidden": true
   },
   "source": [
    "---\n",
    "Now that the different salary types are in separate dataframes, I can individually clean each one.\n",
    "\n",
    "---"
   ]
  },
  {
   "cell_type": "code",
   "execution_count": 23,
   "metadata": {
    "hidden": true
   },
   "outputs": [
    {
     "name": "stderr",
     "output_type": "stream",
     "text": [
      "/Applications/anaconda2/envs/py36/lib/python3.6/site-packages/ipykernel_launcher.py:2: SettingWithCopyWarning: \n",
      "A value is trying to be set on a copy of a slice from a DataFrame.\n",
      "Try using .loc[row_indexer,col_indexer] = value instead\n",
      "\n",
      "See the caveats in the documentation: http://pandas.pydata.org/pandas-docs/stable/indexing.html#indexing-view-versus-copy\n",
      "  \n",
      "/Applications/anaconda2/envs/py36/lib/python3.6/site-packages/ipykernel_launcher.py:4: SettingWithCopyWarning: \n",
      "A value is trying to be set on a copy of a slice from a DataFrame.\n",
      "Try using .loc[row_indexer,col_indexer] = value instead\n",
      "\n",
      "See the caveats in the documentation: http://pandas.pydata.org/pandas-docs/stable/indexing.html#indexing-view-versus-copy\n",
      "  after removing the cwd from sys.path.\n",
      "/Applications/anaconda2/envs/py36/lib/python3.6/site-packages/ipykernel_launcher.py:5: SettingWithCopyWarning: \n",
      "A value is trying to be set on a copy of a slice from a DataFrame.\n",
      "Try using .loc[row_indexer,col_indexer] = value instead\n",
      "\n",
      "See the caveats in the documentation: http://pandas.pydata.org/pandas-docs/stable/indexing.html#indexing-view-versus-copy\n",
      "  \"\"\"\n",
      "/Applications/anaconda2/envs/py36/lib/python3.6/site-packages/ipykernel_launcher.py:6: SettingWithCopyWarning: \n",
      "A value is trying to be set on a copy of a slice from a DataFrame.\n",
      "Try using .loc[row_indexer,col_indexer] = value instead\n",
      "\n",
      "See the caveats in the documentation: http://pandas.pydata.org/pandas-docs/stable/indexing.html#indexing-view-versus-copy\n",
      "  \n"
     ]
    }
   ],
   "source": [
    "# Remove the type (e.g. ' a year') from the data.\n",
    "year_salaries['salary'] = year_salaries['salary'].str.replace(' a year', '')\n",
    "month_salaries['salary'] = month_salaries['salary'].str.replace(' a month', '')\n",
    "week_salaries['salary'] = week_salaries['salary'].str.replace(' a week', '')\n",
    "day_salaries['salary'] = day_salaries['salary'].str.replace(' a day', '')\n",
    "hour_salaries['salary'] = hour_salaries['salary'].str.replace(' an hour', '')"
   ]
  },
  {
   "cell_type": "markdown",
   "metadata": {
    "hidden": true
   },
   "source": [
    "---\n",
    "The text is now removed from the dataframes. Many of the salaries list a range for the job's salary (e.g. 130000 - 150000). I will create a function to take a mean average of salaries listed as a range.\n",
    "\n",
    "---"
   ]
  },
  {
   "cell_type": "code",
   "execution_count": 24,
   "metadata": {
    "hidden": true
   },
   "outputs": [],
   "source": [
    "def avg_salary(x):\n",
    "    try:\n",
    "        splitter = x.split(' - ', 1)      # Separate the range salaries by the ' - ' (creates a list).\n",
    "        value_one = float(splitter[0])    # Create float variables from the 2 values in the list.\n",
    "        value_two = float(splitter[1])\n",
    "        return (value_one + value_two) / 2        # Take mean of 2 values.\n",
    "    except:\n",
    "        return float(x)            # Make other records float."
   ]
  },
  {
   "cell_type": "markdown",
   "metadata": {
    "hidden": true
   },
   "source": [
    "---\n",
    "Now I will apply the functions to the salary columns in the dataframes to remove hyphens (-) and take an average of the ranged salaries. For the non-annual salaries, I will scale the salary to an annual salary. I will make the assumption that those on a non-annual salary will take 4 weeks holiday. Therefore, I will multipy the monthly salaries by 11 months, the weekly salaries by 48 weeks, the daily salaries by 240 days, and the hourly salaries by 1920 hours.\n",
    "\n",
    "---"
   ]
  },
  {
   "cell_type": "code",
   "execution_count": 25,
   "metadata": {
    "hidden": true
   },
   "outputs": [
    {
     "name": "stderr",
     "output_type": "stream",
     "text": [
      "/Applications/anaconda2/envs/py36/lib/python3.6/site-packages/ipykernel_launcher.py:1: SettingWithCopyWarning: \n",
      "A value is trying to be set on a copy of a slice from a DataFrame.\n",
      "Try using .loc[row_indexer,col_indexer] = value instead\n",
      "\n",
      "See the caveats in the documentation: http://pandas.pydata.org/pandas-docs/stable/indexing.html#indexing-view-versus-copy\n",
      "  \"\"\"Entry point for launching an IPython kernel.\n",
      "/Applications/anaconda2/envs/py36/lib/python3.6/site-packages/ipykernel_launcher.py:4: SettingWithCopyWarning: \n",
      "A value is trying to be set on a copy of a slice from a DataFrame.\n",
      "Try using .loc[row_indexer,col_indexer] = value instead\n",
      "\n",
      "See the caveats in the documentation: http://pandas.pydata.org/pandas-docs/stable/indexing.html#indexing-view-versus-copy\n",
      "  after removing the cwd from sys.path.\n",
      "/Applications/anaconda2/envs/py36/lib/python3.6/site-packages/ipykernel_launcher.py:5: SettingWithCopyWarning: \n",
      "A value is trying to be set on a copy of a slice from a DataFrame.\n",
      "Try using .loc[row_indexer,col_indexer] = value instead\n",
      "\n",
      "See the caveats in the documentation: http://pandas.pydata.org/pandas-docs/stable/indexing.html#indexing-view-versus-copy\n",
      "  \"\"\"\n",
      "/Applications/anaconda2/envs/py36/lib/python3.6/site-packages/ipykernel_launcher.py:6: SettingWithCopyWarning: \n",
      "A value is trying to be set on a copy of a slice from a DataFrame.\n",
      "Try using .loc[row_indexer,col_indexer] = value instead\n",
      "\n",
      "See the caveats in the documentation: http://pandas.pydata.org/pandas-docs/stable/indexing.html#indexing-view-versus-copy\n",
      "  \n",
      "/Applications/anaconda2/envs/py36/lib/python3.6/site-packages/ipykernel_launcher.py:7: SettingWithCopyWarning: \n",
      "A value is trying to be set on a copy of a slice from a DataFrame.\n",
      "Try using .loc[row_indexer,col_indexer] = value instead\n",
      "\n",
      "See the caveats in the documentation: http://pandas.pydata.org/pandas-docs/stable/indexing.html#indexing-view-versus-copy\n",
      "  import sys\n",
      "/Applications/anaconda2/envs/py36/lib/python3.6/site-packages/ipykernel_launcher.py:8: SettingWithCopyWarning: \n",
      "A value is trying to be set on a copy of a slice from a DataFrame.\n",
      "Try using .loc[row_indexer,col_indexer] = value instead\n",
      "\n",
      "See the caveats in the documentation: http://pandas.pydata.org/pandas-docs/stable/indexing.html#indexing-view-versus-copy\n",
      "  \n",
      "/Applications/anaconda2/envs/py36/lib/python3.6/site-packages/ipykernel_launcher.py:9: SettingWithCopyWarning: \n",
      "A value is trying to be set on a copy of a slice from a DataFrame.\n",
      "Try using .loc[row_indexer,col_indexer] = value instead\n",
      "\n",
      "See the caveats in the documentation: http://pandas.pydata.org/pandas-docs/stable/indexing.html#indexing-view-versus-copy\n",
      "  if __name__ == '__main__':\n"
     ]
    }
   ],
   "source": [
    "year_salaries['salary'] = year_salaries['salary'].apply(avg_salary)    # Apply function to salary column.\n",
    "month_salaries['salary'] = month_salaries['salary'].apply(avg_salary)\n",
    "month_salaries['salary'] = month_salaries['salary'] * 11             # Scale monthly salary to annual by multiplying by 11 months (to take into account of assumed 4 week holiday).\n",
    "week_salaries['salary'] = week_salaries['salary'].apply(avg_salary)\n",
    "week_salaries['salary'] = week_salaries['salary'] * 48\n",
    "day_salaries['salary'] = day_salaries['salary'].apply(avg_salary)\n",
    "day_salaries['salary'] = day_salaries['salary'] * 240\n",
    "hour_salaries['salary'] = hour_salaries['salary'].apply(avg_salary)\n",
    "hour_salaries['salary'] = hour_salaries['salary'] * 1920"
   ]
  },
  {
   "cell_type": "markdown",
   "metadata": {
    "hidden": true
   },
   "source": [
    "---\n",
    "The salaries have all been scaled. Now I will concatonate the separate dataframes back into one dataframe (including the NaN salaries dataframe).\n",
    "\n",
    "---"
   ]
  },
  {
   "cell_type": "code",
   "execution_count": 26,
   "metadata": {
    "hidden": true
   },
   "outputs": [
    {
     "data": {
      "text/html": [
       "<div>\n",
       "<style scoped>\n",
       "    .dataframe tbody tr th:only-of-type {\n",
       "        vertical-align: middle;\n",
       "    }\n",
       "\n",
       "    .dataframe tbody tr th {\n",
       "        vertical-align: top;\n",
       "    }\n",
       "\n",
       "    .dataframe thead th {\n",
       "        text-align: right;\n",
       "    }\n",
       "</style>\n",
       "<table border=\"1\" class=\"dataframe\">\n",
       "  <thead>\n",
       "    <tr style=\"text-align: right;\">\n",
       "      <th></th>\n",
       "      <th>location</th>\n",
       "      <th>title</th>\n",
       "      <th>company</th>\n",
       "      <th>salary</th>\n",
       "      <th>summary</th>\n",
       "      <th>description</th>\n",
       "      <th>salary_type</th>\n",
       "    </tr>\n",
       "  </thead>\n",
       "  <tbody>\n",
       "    <tr>\n",
       "      <th>14</th>\n",
       "      <td>sydney nsw</td>\n",
       "      <td>data scientist  python r</td>\n",
       "      <td>correlate resources</td>\n",
       "      <td>110000</td>\n",
       "      <td>work within a team of industry leading data sc...</td>\n",
       "      <td>our client is an industry pioneering customer ...</td>\n",
       "      <td>year</td>\n",
       "    </tr>\n",
       "    <tr>\n",
       "      <th>16</th>\n",
       "      <td>sydney nsw</td>\n",
       "      <td>data scientists x 2</td>\n",
       "      <td>alloc8 recruitment solutions pty ltd</td>\n",
       "      <td>150000</td>\n",
       "      <td>the need for 2 data scientist is paramount and...</td>\n",
       "      <td>the company   alloc8 have been fortunate enoug...</td>\n",
       "      <td>year</td>\n",
       "    </tr>\n",
       "    <tr>\n",
       "      <th>17</th>\n",
       "      <td>sydney nsw</td>\n",
       "      <td>data analyst   perm role   sydney</td>\n",
       "      <td>infopeople</td>\n",
       "      <td>92500</td>\n",
       "      <td>i am looking for a data analyst with at least ...</td>\n",
       "      <td>i am looking for a data analyst with at least ...</td>\n",
       "      <td>year</td>\n",
       "    </tr>\n",
       "    <tr>\n",
       "      <th>20</th>\n",
       "      <td>sydney central business district nsw</td>\n",
       "      <td>senior data scientist   leadership position</td>\n",
       "      <td>morgan mckinley</td>\n",
       "      <td>170000</td>\n",
       "      <td>the time has come to step up and be counted as...</td>\n",
       "      <td>calling all senior data scientists      the ti...</td>\n",
       "      <td>year</td>\n",
       "    </tr>\n",
       "    <tr>\n",
       "      <th>21</th>\n",
       "      <td>sydney nsw</td>\n",
       "      <td>junior data scientist</td>\n",
       "      <td>correlate resources</td>\n",
       "      <td>75000</td>\n",
       "      <td>as a junior data scientist the responsibilitie...</td>\n",
       "      <td>our client is an industry pioneering customer ...</td>\n",
       "      <td>year</td>\n",
       "    </tr>\n",
       "  </tbody>\n",
       "</table>\n",
       "</div>"
      ],
      "text/plain": [
       "                                location  \\\n",
       "14                            sydney nsw   \n",
       "16                            sydney nsw   \n",
       "17                            sydney nsw   \n",
       "20  sydney central business district nsw   \n",
       "21                            sydney nsw   \n",
       "\n",
       "                                          title  \\\n",
       "14                    data scientist  python r    \n",
       "16                          data scientists x 2   \n",
       "17            data analyst   perm role   sydney   \n",
       "20  senior data scientist   leadership position   \n",
       "21                        junior data scientist   \n",
       "\n",
       "                                 company  salary  \\\n",
       "14                   correlate resources  110000   \n",
       "16  alloc8 recruitment solutions pty ltd  150000   \n",
       "17                            infopeople   92500   \n",
       "20                       morgan mckinley  170000   \n",
       "21                   correlate resources   75000   \n",
       "\n",
       "                                              summary  \\\n",
       "14  work within a team of industry leading data sc...   \n",
       "16  the need for 2 data scientist is paramount and...   \n",
       "17  i am looking for a data analyst with at least ...   \n",
       "20  the time has come to step up and be counted as...   \n",
       "21  as a junior data scientist the responsibilitie...   \n",
       "\n",
       "                                          description salary_type  \n",
       "14  our client is an industry pioneering customer ...        year  \n",
       "16  the company   alloc8 have been fortunate enoug...        year  \n",
       "17  i am looking for a data analyst with at least ...        year  \n",
       "20  calling all senior data scientists      the ti...        year  \n",
       "21  our client is an industry pioneering customer ...        year  "
      ]
     },
     "execution_count": 26,
     "metadata": {},
     "output_type": "execute_result"
    }
   ],
   "source": [
    "combined_salaries = pd.concat([year_salaries, month_salaries, week_salaries, day_salaries, hour_salaries, nan_salaries], axis=0)\n",
    "combined_salaries.head()"
   ]
  },
  {
   "cell_type": "code",
   "execution_count": 27,
   "metadata": {
    "hidden": true
   },
   "outputs": [
    {
     "data": {
      "text/html": [
       "<div>\n",
       "<style scoped>\n",
       "    .dataframe tbody tr th:only-of-type {\n",
       "        vertical-align: middle;\n",
       "    }\n",
       "\n",
       "    .dataframe tbody tr th {\n",
       "        vertical-align: top;\n",
       "    }\n",
       "\n",
       "    .dataframe thead th {\n",
       "        text-align: right;\n",
       "    }\n",
       "</style>\n",
       "<table border=\"1\" class=\"dataframe\">\n",
       "  <thead>\n",
       "    <tr style=\"text-align: right;\">\n",
       "      <th></th>\n",
       "      <th>location</th>\n",
       "      <th>title</th>\n",
       "      <th>company</th>\n",
       "      <th>salary</th>\n",
       "      <th>salary_type</th>\n",
       "      <th>summary</th>\n",
       "      <th>description</th>\n",
       "    </tr>\n",
       "  </thead>\n",
       "  <tbody>\n",
       "    <tr>\n",
       "      <th>14</th>\n",
       "      <td>sydney nsw</td>\n",
       "      <td>data scientist  python r</td>\n",
       "      <td>correlate resources</td>\n",
       "      <td>110000</td>\n",
       "      <td>year</td>\n",
       "      <td>work within a team of industry leading data sc...</td>\n",
       "      <td>our client is an industry pioneering customer ...</td>\n",
       "    </tr>\n",
       "    <tr>\n",
       "      <th>16</th>\n",
       "      <td>sydney nsw</td>\n",
       "      <td>data scientists x 2</td>\n",
       "      <td>alloc8 recruitment solutions pty ltd</td>\n",
       "      <td>150000</td>\n",
       "      <td>year</td>\n",
       "      <td>the need for 2 data scientist is paramount and...</td>\n",
       "      <td>the company   alloc8 have been fortunate enoug...</td>\n",
       "    </tr>\n",
       "    <tr>\n",
       "      <th>17</th>\n",
       "      <td>sydney nsw</td>\n",
       "      <td>data analyst   perm role   sydney</td>\n",
       "      <td>infopeople</td>\n",
       "      <td>92500</td>\n",
       "      <td>year</td>\n",
       "      <td>i am looking for a data analyst with at least ...</td>\n",
       "      <td>i am looking for a data analyst with at least ...</td>\n",
       "    </tr>\n",
       "    <tr>\n",
       "      <th>20</th>\n",
       "      <td>sydney central business district nsw</td>\n",
       "      <td>senior data scientist   leadership position</td>\n",
       "      <td>morgan mckinley</td>\n",
       "      <td>170000</td>\n",
       "      <td>year</td>\n",
       "      <td>the time has come to step up and be counted as...</td>\n",
       "      <td>calling all senior data scientists      the ti...</td>\n",
       "    </tr>\n",
       "    <tr>\n",
       "      <th>21</th>\n",
       "      <td>sydney nsw</td>\n",
       "      <td>junior data scientist</td>\n",
       "      <td>correlate resources</td>\n",
       "      <td>75000</td>\n",
       "      <td>year</td>\n",
       "      <td>as a junior data scientist the responsibilitie...</td>\n",
       "      <td>our client is an industry pioneering customer ...</td>\n",
       "    </tr>\n",
       "  </tbody>\n",
       "</table>\n",
       "</div>"
      ],
      "text/plain": [
       "                                location  \\\n",
       "14                            sydney nsw   \n",
       "16                            sydney nsw   \n",
       "17                            sydney nsw   \n",
       "20  sydney central business district nsw   \n",
       "21                            sydney nsw   \n",
       "\n",
       "                                          title  \\\n",
       "14                    data scientist  python r    \n",
       "16                          data scientists x 2   \n",
       "17            data analyst   perm role   sydney   \n",
       "20  senior data scientist   leadership position   \n",
       "21                        junior data scientist   \n",
       "\n",
       "                                 company  salary salary_type  \\\n",
       "14                   correlate resources  110000        year   \n",
       "16  alloc8 recruitment solutions pty ltd  150000        year   \n",
       "17                            infopeople   92500        year   \n",
       "20                       morgan mckinley  170000        year   \n",
       "21                   correlate resources   75000        year   \n",
       "\n",
       "                                              summary  \\\n",
       "14  work within a team of industry leading data sc...   \n",
       "16  the need for 2 data scientist is paramount and...   \n",
       "17  i am looking for a data analyst with at least ...   \n",
       "20  the time has come to step up and be counted as...   \n",
       "21  as a junior data scientist the responsibilitie...   \n",
       "\n",
       "                                          description  \n",
       "14  our client is an industry pioneering customer ...  \n",
       "16  the company   alloc8 have been fortunate enoug...  \n",
       "17  i am looking for a data analyst with at least ...  \n",
       "20  calling all senior data scientists      the ti...  \n",
       "21  our client is an industry pioneering customer ...  "
      ]
     },
     "execution_count": 27,
     "metadata": {},
     "output_type": "execute_result"
    }
   ],
   "source": [
    "# Reorder column names.\n",
    "jobs = combined_salaries[['location', 'title', 'company', 'salary', 'salary_type', 'summary', 'description']]\n",
    "jobs.head()"
   ]
  },
  {
   "cell_type": "code",
   "execution_count": 28,
   "metadata": {
    "hidden": true
   },
   "outputs": [
    {
     "data": {
      "text/plain": [
       "(4372, 7)"
      ]
     },
     "execution_count": 28,
     "metadata": {},
     "output_type": "execute_result"
    }
   ],
   "source": [
    "jobs.shape    # Confirm that I have the same number of rows and columns as before."
   ]
  },
  {
   "cell_type": "markdown",
   "metadata": {
    "heading_collapsed": true,
    "hidden": true
   },
   "source": [
    "### Location"
   ]
  },
  {
   "cell_type": "markdown",
   "metadata": {
    "hidden": true
   },
   "source": [
    "---\n",
    "Now I will clean the location data.\n",
    "\n",
    "---"
   ]
  },
  {
   "cell_type": "code",
   "execution_count": 29,
   "metadata": {
    "hidden": true
   },
   "outputs": [
    {
     "data": {
      "text/plain": [
       "array(['sydney nsw', 'sydney central business district nsw',\n",
       "       'kensington nsw', 'randwick nsw', 'inner west nsw',\n",
       "       'melbourne vic', 'melbourne city centre vic', 'parkville vic',\n",
       "       'brisbane qld', 'perth wa', 'edinburgh sa', 'horsley park nsw',\n",
       "       'penrith nsw', 'sydney inner suburbs nsw',\n",
       "       'sydney western suburbs nsw', 'north strathfield nsw',\n",
       "       'macquarie park nsw', 'yagoona nsw', 'wetherill park nsw',\n",
       "       'chatswood nsw', 'north sydney nsw', 'hills district nsw',\n",
       "       'melbourne eastern suburbs vic', 'west footscray vic',\n",
       "       'city of boroondara vic', 'epping vic', 'mulgrave vic',\n",
       "       'macleod vic', 'clayton vic', 'kelvin grove qld', 'jandakot wa',\n",
       "       'parkside sa', 'pyrmont nsw', 'rhodes nsw', 'bella vista nsw',\n",
       "       'greystanes nsw', 'docklands vic', 'west melbourne vic',\n",
       "       'st lucia qld', 'brisbane central business district qld',\n",
       "       'perth central business district wa', 'adelaide sa',\n",
       "       'macquarie university nsw', 'leichhardt nsw',\n",
       "       'northern beaches nsw', 'auburn nsw', 'marrickville nsw',\n",
       "       'newport nsw', 'north shore nsw', 'darlinghurst nsw',\n",
       "       'richmond vic', 'mosman park wa', 'north ryde nsw',\n",
       "       'parramatta nsw', 'ultimo nsw', 'redfern nsw', 'barangaroo nsw',\n",
       "       'logan central qld', 'murdoch wa', 'stirling sa', 'mascot nsw',\n",
       "       'crows nest nsw', 'alexandria nsw', 'rydalmere nsw',\n",
       "       'lucas heights nsw', 'westmead nsw', 'bondi junction nsw',\n",
       "       'mount waverley vic', 'malvern vic', 'burwood east vic',\n",
       "       'south melbourne vic', 'port melbourne vic',\n",
       "       'adelaide city centre sa', 'surry hills nsw', 'st leonards nsw',\n",
       "       'baulkham hills nsw', 'artarmon nsw', 'chullora nsw',\n",
       "       'eastern creek nsw', 'seven hills nsw', 'granville nsw',\n",
       "       'botany nsw', 'ashfield nsw', 'gladesville nsw', 'eveleigh nsw',\n",
       "       'liverpool nsw', 'sydney eastern suburbs nsw', 'scoresby vic',\n",
       "       'burwood vic', 'fitzroy vic', 'glen waverley vic',\n",
       "       'abbotsford vic', 'hawthorn east vic', 'east melbourne vic',\n",
       "       'hawthorn vic', 'dandenong vic', 'northcote vic', 'southbank vic',\n",
       "       'frankston vic', 'campbellfield vic', 'albion vic',\n",
       "       'moonee ponds vic', 'ringwood vic', 'eight mile plains qld',\n",
       "       'south brisbane qld', 'newstead qld', 'fortitude valley qld',\n",
       "       'carseldine qld', 'ipswich qld', 'brendale qld',\n",
       "       'perth airport wa', 'success wa', 'keswick sa', 'rosebery nsw',\n",
       "       'sydney olympic park nsw', 'rozelle nsw', 'lidcombe nsw',\n",
       "       'pymble nsw', 'norwest business park nsw', 'girraween nsw',\n",
       "       'turramurra nsw', 'balwyn north vic', 'cheltenham vic',\n",
       "       'dallas vic', 'thomastown vic', 'carlton vic', 'doncaster vic',\n",
       "       'saint kilda vic', 'melbourne northern suburbs vic',\n",
       "       'sunshine vic', 'essendon vic', 'woolloongabba qld', 'hendra qld',\n",
       "       'cannington wa', 'henderson wa', 'west perth wa', 'east perth wa',\n",
       "       'davoren park sa', 'bedford park sa', 'glenside sa',\n",
       "       'stanmore nsw', 'yennora nsw', 'sydney domestic airport nsw',\n",
       "       'glendenning nsw', 'burwood nsw', 'moore park nsw',\n",
       "       'campbelltown nsw', 'south melbourne dc vic', 'kew vic',\n",
       "       'bayswater vic', 'syndal vic', 'forest hill vic', 'truganina vic',\n",
       "       'cannon hill qld'], dtype=object)"
      ]
     },
     "execution_count": 29,
     "metadata": {},
     "output_type": "execute_result"
    }
   ],
   "source": [
    "jobs.location.unique()"
   ]
  },
  {
   "cell_type": "markdown",
   "metadata": {
    "hidden": true
   },
   "source": [
    "---\n",
    "I scraped job data for the five major cities in Australia: Sydney, Melbourne, Brisbane, Perth, and Adelaide. The location data lists many suburbs in place of the city names. However, all listings contain the state. Therefore, I will rename all locations to just the major city that the job is located in by using the state to classify the city. All five cities are in different states so I will be able to classify all suburbs as a city based on the state listed in the record.\n",
    "\n",
    "---"
   ]
  },
  {
   "cell_type": "code",
   "execution_count": 30,
   "metadata": {
    "hidden": true
   },
   "outputs": [],
   "source": [
    "jobs.location = jobs.location.map(lambda x: 'sydney' if 'nsw' in x else x)     # Change record to sydney if nsw (New South Wales) is in the record.\n",
    "jobs.location = jobs.location.map(lambda x: 'melbourne' if 'vic' in x else x)  # Change record to melbourne if vic (Victoria) is in the record.\n",
    "jobs.location = jobs.location.map(lambda x: 'brisbane' if 'qld' in x else x)   # Change record to brisbane if qld (Queensland) is in the record.\n",
    "jobs.location = jobs.location.map(lambda x: 'perth' if 'wa' in x else x)       # Change record to perth if wa (Western Australia) is in the record.\n",
    "jobs.location = jobs.location.map(lambda x: 'adelaide' if 'sa' in x else x)    # Change record to adelaide if sa (South Australia) is in the record."
   ]
  },
  {
   "cell_type": "code",
   "execution_count": 31,
   "metadata": {
    "hidden": true
   },
   "outputs": [
    {
     "data": {
      "text/html": [
       "<div>\n",
       "<style scoped>\n",
       "    .dataframe tbody tr th:only-of-type {\n",
       "        vertical-align: middle;\n",
       "    }\n",
       "\n",
       "    .dataframe tbody tr th {\n",
       "        vertical-align: top;\n",
       "    }\n",
       "\n",
       "    .dataframe thead th {\n",
       "        text-align: right;\n",
       "    }\n",
       "</style>\n",
       "<table border=\"1\" class=\"dataframe\">\n",
       "  <thead>\n",
       "    <tr style=\"text-align: right;\">\n",
       "      <th></th>\n",
       "      <th>location</th>\n",
       "      <th>title</th>\n",
       "      <th>company</th>\n",
       "      <th>salary</th>\n",
       "      <th>salary_type</th>\n",
       "      <th>summary</th>\n",
       "      <th>description</th>\n",
       "    </tr>\n",
       "  </thead>\n",
       "  <tbody>\n",
       "    <tr>\n",
       "      <th>14</th>\n",
       "      <td>sydney</td>\n",
       "      <td>data scientist  python r</td>\n",
       "      <td>correlate resources</td>\n",
       "      <td>110000</td>\n",
       "      <td>year</td>\n",
       "      <td>work within a team of industry leading data sc...</td>\n",
       "      <td>our client is an industry pioneering customer ...</td>\n",
       "    </tr>\n",
       "    <tr>\n",
       "      <th>16</th>\n",
       "      <td>sydney</td>\n",
       "      <td>data scientists x 2</td>\n",
       "      <td>alloc8 recruitment solutions pty ltd</td>\n",
       "      <td>150000</td>\n",
       "      <td>year</td>\n",
       "      <td>the need for 2 data scientist is paramount and...</td>\n",
       "      <td>the company   alloc8 have been fortunate enoug...</td>\n",
       "    </tr>\n",
       "    <tr>\n",
       "      <th>17</th>\n",
       "      <td>sydney</td>\n",
       "      <td>data analyst   perm role   sydney</td>\n",
       "      <td>infopeople</td>\n",
       "      <td>92500</td>\n",
       "      <td>year</td>\n",
       "      <td>i am looking for a data analyst with at least ...</td>\n",
       "      <td>i am looking for a data analyst with at least ...</td>\n",
       "    </tr>\n",
       "    <tr>\n",
       "      <th>20</th>\n",
       "      <td>sydney</td>\n",
       "      <td>senior data scientist   leadership position</td>\n",
       "      <td>morgan mckinley</td>\n",
       "      <td>170000</td>\n",
       "      <td>year</td>\n",
       "      <td>the time has come to step up and be counted as...</td>\n",
       "      <td>calling all senior data scientists      the ti...</td>\n",
       "    </tr>\n",
       "    <tr>\n",
       "      <th>21</th>\n",
       "      <td>sydney</td>\n",
       "      <td>junior data scientist</td>\n",
       "      <td>correlate resources</td>\n",
       "      <td>75000</td>\n",
       "      <td>year</td>\n",
       "      <td>as a junior data scientist the responsibilitie...</td>\n",
       "      <td>our client is an industry pioneering customer ...</td>\n",
       "    </tr>\n",
       "  </tbody>\n",
       "</table>\n",
       "</div>"
      ],
      "text/plain": [
       "   location                                        title  \\\n",
       "14   sydney                    data scientist  python r    \n",
       "16   sydney                          data scientists x 2   \n",
       "17   sydney            data analyst   perm role   sydney   \n",
       "20   sydney  senior data scientist   leadership position   \n",
       "21   sydney                        junior data scientist   \n",
       "\n",
       "                                 company  salary salary_type  \\\n",
       "14                   correlate resources  110000        year   \n",
       "16  alloc8 recruitment solutions pty ltd  150000        year   \n",
       "17                            infopeople   92500        year   \n",
       "20                       morgan mckinley  170000        year   \n",
       "21                   correlate resources   75000        year   \n",
       "\n",
       "                                              summary  \\\n",
       "14  work within a team of industry leading data sc...   \n",
       "16  the need for 2 data scientist is paramount and...   \n",
       "17  i am looking for a data analyst with at least ...   \n",
       "20  the time has come to step up and be counted as...   \n",
       "21  as a junior data scientist the responsibilitie...   \n",
       "\n",
       "                                          description  \n",
       "14  our client is an industry pioneering customer ...  \n",
       "16  the company   alloc8 have been fortunate enoug...  \n",
       "17  i am looking for a data analyst with at least ...  \n",
       "20  calling all senior data scientists      the ti...  \n",
       "21  our client is an industry pioneering customer ...  "
      ]
     },
     "execution_count": 31,
     "metadata": {},
     "output_type": "execute_result"
    }
   ],
   "source": [
    "jobs.head()"
   ]
  },
  {
   "cell_type": "code",
   "execution_count": 32,
   "metadata": {
    "hidden": true
   },
   "outputs": [
    {
     "data": {
      "text/html": [
       "<div>\n",
       "<style scoped>\n",
       "    .dataframe tbody tr th:only-of-type {\n",
       "        vertical-align: middle;\n",
       "    }\n",
       "\n",
       "    .dataframe tbody tr th {\n",
       "        vertical-align: top;\n",
       "    }\n",
       "\n",
       "    .dataframe thead th {\n",
       "        text-align: right;\n",
       "    }\n",
       "</style>\n",
       "<table border=\"1\" class=\"dataframe\">\n",
       "  <thead>\n",
       "    <tr style=\"text-align: right;\">\n",
       "      <th></th>\n",
       "      <th>location</th>\n",
       "      <th>title</th>\n",
       "      <th>company</th>\n",
       "      <th>salary</th>\n",
       "      <th>salary_type</th>\n",
       "      <th>summary</th>\n",
       "      <th>description</th>\n",
       "    </tr>\n",
       "  </thead>\n",
       "  <tbody>\n",
       "    <tr>\n",
       "      <th>4400</th>\n",
       "      <td>adelaide</td>\n",
       "      <td>sales agronomist  regional</td>\n",
       "      <td>farmers edge</td>\n",
       "      <td>nan</td>\n",
       "      <td>nan</td>\n",
       "      <td>from seed selection to yield data analytics  f...</td>\n",
       "      <td>farmers edge is a global leader in decision ag...</td>\n",
       "    </tr>\n",
       "    <tr>\n",
       "      <th>4401</th>\n",
       "      <td>adelaide</td>\n",
       "      <td>animation supervisor</td>\n",
       "      <td>rising sun pictures  rsp</td>\n",
       "      <td>nan</td>\n",
       "      <td>nan</td>\n",
       "      <td>please review our privacy policy for informati...</td>\n",
       "      <td>reporting directly to cg and vfx supervisors  ...</td>\n",
       "    </tr>\n",
       "    <tr>\n",
       "      <th>4402</th>\n",
       "      <td>adelaide</td>\n",
       "      <td>vfx supervisor</td>\n",
       "      <td>rising sun pictures  rsp</td>\n",
       "      <td>nan</td>\n",
       "      <td>nan</td>\n",
       "      <td>please review our privacy policy for informati...</td>\n",
       "      <td>the vfx supervisor is required to supervise  m...</td>\n",
       "    </tr>\n",
       "    <tr>\n",
       "      <th>4403</th>\n",
       "      <td>adelaide</td>\n",
       "      <td>management accountant</td>\n",
       "      <td>egm partners</td>\n",
       "      <td>nan</td>\n",
       "      <td>nan</td>\n",
       "      <td>work collaboratively with the financial accoun...</td>\n",
       "      <td>we are resruiting a senior management accounta...</td>\n",
       "    </tr>\n",
       "    <tr>\n",
       "      <th>4404</th>\n",
       "      <td>adelaide</td>\n",
       "      <td>cg supervisor</td>\n",
       "      <td>rising sun pictures  rsp</td>\n",
       "      <td>nan</td>\n",
       "      <td>nan</td>\n",
       "      <td>please review our privacy policy for informati...</td>\n",
       "      <td>the cg supervisor will supervise  monitor  dir...</td>\n",
       "    </tr>\n",
       "  </tbody>\n",
       "</table>\n",
       "</div>"
      ],
      "text/plain": [
       "      location                        title                    company salary  \\\n",
       "4400  adelaide  sales agronomist  regional                farmers edge    nan   \n",
       "4401  adelaide         animation supervisor  rising sun pictures  rsp     nan   \n",
       "4402  adelaide               vfx supervisor  rising sun pictures  rsp     nan   \n",
       "4403  adelaide        management accountant               egm partners    nan   \n",
       "4404  adelaide                cg supervisor  rising sun pictures  rsp     nan   \n",
       "\n",
       "     salary_type                                            summary  \\\n",
       "4400         nan  from seed selection to yield data analytics  f...   \n",
       "4401         nan  please review our privacy policy for informati...   \n",
       "4402         nan  please review our privacy policy for informati...   \n",
       "4403         nan  work collaboratively with the financial accoun...   \n",
       "4404         nan  please review our privacy policy for informati...   \n",
       "\n",
       "                                            description  \n",
       "4400  farmers edge is a global leader in decision ag...  \n",
       "4401  reporting directly to cg and vfx supervisors  ...  \n",
       "4402  the vfx supervisor is required to supervise  m...  \n",
       "4403  we are resruiting a senior management accounta...  \n",
       "4404  the cg supervisor will supervise  monitor  dir...  "
      ]
     },
     "execution_count": 32,
     "metadata": {},
     "output_type": "execute_result"
    }
   ],
   "source": [
    "jobs.tail()"
   ]
  },
  {
   "cell_type": "code",
   "execution_count": 33,
   "metadata": {
    "hidden": true
   },
   "outputs": [
    {
     "data": {
      "text/plain": [
       "array(['sydney', 'melbourne', 'brisbane', 'perth', 'adelaide'],\n",
       "      dtype=object)"
      ]
     },
     "execution_count": 33,
     "metadata": {},
     "output_type": "execute_result"
    }
   ],
   "source": [
    "jobs.location.unique()"
   ]
  },
  {
   "cell_type": "markdown",
   "metadata": {
    "hidden": true
   },
   "source": [
    "---\n",
    "All location records have now been renamed to the respective city that the job is located in.\n",
    "\n",
    "---"
   ]
  },
  {
   "cell_type": "code",
   "execution_count": 34,
   "metadata": {
    "hidden": true
   },
   "outputs": [
    {
     "data": {
      "text/plain": [
       "sydney       2087\n",
       "melbourne    1495\n",
       "brisbane      427\n",
       "perth         243\n",
       "adelaide      120\n",
       "Name: location, dtype: int64"
      ]
     },
     "execution_count": 34,
     "metadata": {},
     "output_type": "execute_result"
    }
   ],
   "source": [
    "jobs.location.value_counts()"
   ]
  },
  {
   "cell_type": "markdown",
   "metadata": {
    "hidden": true
   },
   "source": [
    "---\n",
    "Sydney and Melbourne contain the most jobs listings, being the larger cities.\n",
    "\n",
    "---"
   ]
  },
  {
   "cell_type": "markdown",
   "metadata": {
    "hidden": true
   },
   "source": [
    "The data is now clean. I will save the cleaned datframe to a csv file for future use.\n",
    "\n",
    "---"
   ]
  },
  {
   "cell_type": "code",
   "execution_count": 35,
   "metadata": {
    "hidden": true
   },
   "outputs": [],
   "source": [
    "jobs.to_csv('clean_jobs.csv', index=False)"
   ]
  },
  {
   "cell_type": "markdown",
   "metadata": {
    "heading_collapsed": true
   },
   "source": [
    "## Plotting"
   ]
  },
  {
   "cell_type": "markdown",
   "metadata": {
    "hidden": true
   },
   "source": [
    "---\n",
    "Now that the data is clean, I can plot it and analyse it.\n",
    "\n",
    "---"
   ]
  },
  {
   "cell_type": "code",
   "execution_count": 36,
   "metadata": {
    "hidden": true
   },
   "outputs": [
    {
     "data": {
      "text/html": [
       "<div>\n",
       "<style scoped>\n",
       "    .dataframe tbody tr th:only-of-type {\n",
       "        vertical-align: middle;\n",
       "    }\n",
       "\n",
       "    .dataframe tbody tr th {\n",
       "        vertical-align: top;\n",
       "    }\n",
       "\n",
       "    .dataframe thead th {\n",
       "        text-align: right;\n",
       "    }\n",
       "</style>\n",
       "<table border=\"1\" class=\"dataframe\">\n",
       "  <thead>\n",
       "    <tr style=\"text-align: right;\">\n",
       "      <th></th>\n",
       "      <th>location</th>\n",
       "      <th>title</th>\n",
       "      <th>company</th>\n",
       "      <th>salary</th>\n",
       "      <th>salary_type</th>\n",
       "      <th>summary</th>\n",
       "      <th>description</th>\n",
       "    </tr>\n",
       "  </thead>\n",
       "  <tbody>\n",
       "    <tr>\n",
       "      <th>0</th>\n",
       "      <td>sydney</td>\n",
       "      <td>data scientist  python r</td>\n",
       "      <td>correlate resources</td>\n",
       "      <td>110000.0</td>\n",
       "      <td>year</td>\n",
       "      <td>work within a team of industry leading data sc...</td>\n",
       "      <td>our client is an industry pioneering customer ...</td>\n",
       "    </tr>\n",
       "    <tr>\n",
       "      <th>1</th>\n",
       "      <td>sydney</td>\n",
       "      <td>data scientists x 2</td>\n",
       "      <td>alloc8 recruitment solutions pty ltd</td>\n",
       "      <td>150000.0</td>\n",
       "      <td>year</td>\n",
       "      <td>the need for 2 data scientist is paramount and...</td>\n",
       "      <td>the company   alloc8 have been fortunate enoug...</td>\n",
       "    </tr>\n",
       "    <tr>\n",
       "      <th>2</th>\n",
       "      <td>sydney</td>\n",
       "      <td>data analyst   perm role   sydney</td>\n",
       "      <td>infopeople</td>\n",
       "      <td>92500.0</td>\n",
       "      <td>year</td>\n",
       "      <td>i am looking for a data analyst with at least ...</td>\n",
       "      <td>i am looking for a data analyst with at least ...</td>\n",
       "    </tr>\n",
       "    <tr>\n",
       "      <th>3</th>\n",
       "      <td>sydney</td>\n",
       "      <td>senior data scientist   leadership position</td>\n",
       "      <td>morgan mckinley</td>\n",
       "      <td>170000.0</td>\n",
       "      <td>year</td>\n",
       "      <td>the time has come to step up and be counted as...</td>\n",
       "      <td>calling all senior data scientists      the ti...</td>\n",
       "    </tr>\n",
       "    <tr>\n",
       "      <th>4</th>\n",
       "      <td>sydney</td>\n",
       "      <td>junior data scientist</td>\n",
       "      <td>correlate resources</td>\n",
       "      <td>75000.0</td>\n",
       "      <td>year</td>\n",
       "      <td>as a junior data scientist the responsibilitie...</td>\n",
       "      <td>our client is an industry pioneering customer ...</td>\n",
       "    </tr>\n",
       "  </tbody>\n",
       "</table>\n",
       "</div>"
      ],
      "text/plain": [
       "  location                                        title  \\\n",
       "0   sydney                    data scientist  python r    \n",
       "1   sydney                          data scientists x 2   \n",
       "2   sydney            data analyst   perm role   sydney   \n",
       "3   sydney  senior data scientist   leadership position   \n",
       "4   sydney                        junior data scientist   \n",
       "\n",
       "                                company    salary salary_type  \\\n",
       "0                   correlate resources  110000.0        year   \n",
       "1  alloc8 recruitment solutions pty ltd  150000.0        year   \n",
       "2                            infopeople   92500.0        year   \n",
       "3                       morgan mckinley  170000.0        year   \n",
       "4                   correlate resources   75000.0        year   \n",
       "\n",
       "                                             summary  \\\n",
       "0  work within a team of industry leading data sc...   \n",
       "1  the need for 2 data scientist is paramount and...   \n",
       "2  i am looking for a data analyst with at least ...   \n",
       "3  the time has come to step up and be counted as...   \n",
       "4  as a junior data scientist the responsibilitie...   \n",
       "\n",
       "                                         description  \n",
       "0  our client is an industry pioneering customer ...  \n",
       "1  the company   alloc8 have been fortunate enoug...  \n",
       "2  i am looking for a data analyst with at least ...  \n",
       "3  calling all senior data scientists      the ti...  \n",
       "4  our client is an industry pioneering customer ...  "
      ]
     },
     "execution_count": 36,
     "metadata": {},
     "output_type": "execute_result"
    }
   ],
   "source": [
    "df = pd.read_csv('clean_jobs.csv')   # Read in the clean dataframe.\n",
    "df.head()"
   ]
  },
  {
   "cell_type": "markdown",
   "metadata": {
    "hidden": true
   },
   "source": [
    "---\n",
    "For the analysis and first model, I will be using only the data that lists a job's salary.\n",
    "\n",
    "---"
   ]
  },
  {
   "cell_type": "code",
   "execution_count": 37,
   "metadata": {
    "hidden": true
   },
   "outputs": [],
   "source": [
    "df.salary = df.salary.astype(str)"
   ]
  },
  {
   "cell_type": "code",
   "execution_count": 38,
   "metadata": {
    "hidden": true
   },
   "outputs": [
    {
     "data": {
      "text/html": [
       "<div>\n",
       "<style scoped>\n",
       "    .dataframe tbody tr th:only-of-type {\n",
       "        vertical-align: middle;\n",
       "    }\n",
       "\n",
       "    .dataframe tbody tr th {\n",
       "        vertical-align: top;\n",
       "    }\n",
       "\n",
       "    .dataframe thead th {\n",
       "        text-align: right;\n",
       "    }\n",
       "</style>\n",
       "<table border=\"1\" class=\"dataframe\">\n",
       "  <thead>\n",
       "    <tr style=\"text-align: right;\">\n",
       "      <th></th>\n",
       "      <th>location</th>\n",
       "      <th>title</th>\n",
       "      <th>company</th>\n",
       "      <th>salary</th>\n",
       "      <th>salary_type</th>\n",
       "      <th>summary</th>\n",
       "      <th>description</th>\n",
       "    </tr>\n",
       "  </thead>\n",
       "  <tbody>\n",
       "    <tr>\n",
       "      <th>0</th>\n",
       "      <td>sydney</td>\n",
       "      <td>data scientist  python r</td>\n",
       "      <td>correlate resources</td>\n",
       "      <td>110000.0</td>\n",
       "      <td>year</td>\n",
       "      <td>work within a team of industry leading data sc...</td>\n",
       "      <td>our client is an industry pioneering customer ...</td>\n",
       "    </tr>\n",
       "    <tr>\n",
       "      <th>1</th>\n",
       "      <td>sydney</td>\n",
       "      <td>data scientists x 2</td>\n",
       "      <td>alloc8 recruitment solutions pty ltd</td>\n",
       "      <td>150000.0</td>\n",
       "      <td>year</td>\n",
       "      <td>the need for 2 data scientist is paramount and...</td>\n",
       "      <td>the company   alloc8 have been fortunate enoug...</td>\n",
       "    </tr>\n",
       "    <tr>\n",
       "      <th>2</th>\n",
       "      <td>sydney</td>\n",
       "      <td>data analyst   perm role   sydney</td>\n",
       "      <td>infopeople</td>\n",
       "      <td>92500.0</td>\n",
       "      <td>year</td>\n",
       "      <td>i am looking for a data analyst with at least ...</td>\n",
       "      <td>i am looking for a data analyst with at least ...</td>\n",
       "    </tr>\n",
       "    <tr>\n",
       "      <th>3</th>\n",
       "      <td>sydney</td>\n",
       "      <td>senior data scientist   leadership position</td>\n",
       "      <td>morgan mckinley</td>\n",
       "      <td>170000.0</td>\n",
       "      <td>year</td>\n",
       "      <td>the time has come to step up and be counted as...</td>\n",
       "      <td>calling all senior data scientists      the ti...</td>\n",
       "    </tr>\n",
       "    <tr>\n",
       "      <th>4</th>\n",
       "      <td>sydney</td>\n",
       "      <td>junior data scientist</td>\n",
       "      <td>correlate resources</td>\n",
       "      <td>75000.0</td>\n",
       "      <td>year</td>\n",
       "      <td>as a junior data scientist the responsibilitie...</td>\n",
       "      <td>our client is an industry pioneering customer ...</td>\n",
       "    </tr>\n",
       "  </tbody>\n",
       "</table>\n",
       "</div>"
      ],
      "text/plain": [
       "  location                                        title  \\\n",
       "0   sydney                    data scientist  python r    \n",
       "1   sydney                          data scientists x 2   \n",
       "2   sydney            data analyst   perm role   sydney   \n",
       "3   sydney  senior data scientist   leadership position   \n",
       "4   sydney                        junior data scientist   \n",
       "\n",
       "                                company    salary salary_type  \\\n",
       "0                   correlate resources  110000.0        year   \n",
       "1  alloc8 recruitment solutions pty ltd  150000.0        year   \n",
       "2                            infopeople   92500.0        year   \n",
       "3                       morgan mckinley  170000.0        year   \n",
       "4                   correlate resources   75000.0        year   \n",
       "\n",
       "                                             summary  \\\n",
       "0  work within a team of industry leading data sc...   \n",
       "1  the need for 2 data scientist is paramount and...   \n",
       "2  i am looking for a data analyst with at least ...   \n",
       "3  the time has come to step up and be counted as...   \n",
       "4  as a junior data scientist the responsibilitie...   \n",
       "\n",
       "                                         description  \n",
       "0  our client is an industry pioneering customer ...  \n",
       "1  the company   alloc8 have been fortunate enoug...  \n",
       "2  i am looking for a data analyst with at least ...  \n",
       "3  calling all senior data scientists      the ti...  \n",
       "4  our client is an industry pioneering customer ...  "
      ]
     },
     "execution_count": 38,
     "metadata": {},
     "output_type": "execute_result"
    }
   ],
   "source": [
    "salaries = df[df.salary != 'nan']   # Create new dataframe for records listing salaries (not NaNs).\n",
    "salaries.head()"
   ]
  },
  {
   "cell_type": "code",
   "execution_count": 39,
   "metadata": {
    "hidden": true
   },
   "outputs": [
    {
     "data": {
      "text/plain": [
       "(838, 7)"
      ]
     },
     "execution_count": 39,
     "metadata": {},
     "output_type": "execute_result"
    }
   ],
   "source": [
    "salaries.shape"
   ]
  },
  {
   "cell_type": "markdown",
   "metadata": {
    "hidden": true
   },
   "source": [
    "---\n",
    "Only 838 of the more than 4,372 cleaned records contain salary data.\n",
    "\n",
    "---"
   ]
  },
  {
   "cell_type": "code",
   "execution_count": 40,
   "metadata": {
    "hidden": true
   },
   "outputs": [
    {
     "name": "stderr",
     "output_type": "stream",
     "text": [
      "/Applications/anaconda2/envs/py36/lib/python3.6/site-packages/pandas/core/generic.py:3643: SettingWithCopyWarning: \n",
      "A value is trying to be set on a copy of a slice from a DataFrame.\n",
      "Try using .loc[row_indexer,col_indexer] = value instead\n",
      "\n",
      "See the caveats in the documentation: http://pandas.pydata.org/pandas-docs/stable/indexing.html#indexing-view-versus-copy\n",
      "  self[name] = value\n"
     ]
    }
   ],
   "source": [
    "salaries.salary = salaries.salary.astype(float)   # Make salary data float."
   ]
  },
  {
   "cell_type": "code",
   "execution_count": 41,
   "metadata": {
    "hidden": true
   },
   "outputs": [
    {
     "data": {
      "text/plain": [
       "count       838.000000\n",
       "mean     109902.910024\n",
       "std       40701.377116\n",
       "min       18000.000000\n",
       "25%       83811.625000\n",
       "50%      110000.000000\n",
       "75%      130000.000000\n",
       "max      283440.000000\n",
       "Name: salary, dtype: float64"
      ]
     },
     "execution_count": 41,
     "metadata": {},
     "output_type": "execute_result"
    }
   ],
   "source": [
    "salaries.salary.describe()"
   ]
  },
  {
   "cell_type": "markdown",
   "metadata": {
    "hidden": true
   },
   "source": [
    "---\n",
    "Using .describe, I can get a statistical summary of the salary data. It shows that the mean and median are very close together. The max value is more than 3 standard deviations away from the mean. However, it is expected that some senior roles would have large salaries, so these will not be anomalies that need to be removed.\n",
    "\n",
    "---"
   ]
  },
  {
   "cell_type": "code",
   "execution_count": 42,
   "metadata": {
    "hidden": true
   },
   "outputs": [
    {
     "data": {
      "image/png": "[encoded data removed]",
      "text/plain": [
       "<matplotlib.figure.Figure at 0x1a117595c0>"
      ]
     },
     "metadata": {
      "image/png": {
       "height": 385,
       "width": 588
      }
     },
     "output_type": "display_data"
    }
   ],
   "source": [
    "# Create a histogram of salary data.\n",
    "sns.set_style('darkgrid')     # Use seaborn style darkgrid.\n",
    "fig = plt.figure(figsize=(9,5))\n",
    "ax = sns.distplot(salaries.salary, bins=20, kde=False, hist_kws={'color': '#0485d1', 'alpha': 0.7})\n",
    "# Seaborn distribution plot, kde=False to make it a histogram with frequency on the y axis.\n",
    "plt.yticks(fontsize=12)\n",
    "plt.xticks(fontsize=12)\n",
    "plt.ylabel('Frequency', fontsize=20,  labelpad=30)   # labelpad creates a space between the axis and axis label\n",
    "plt.xlabel('Salary', fontsize=20, labelpad=30)\n",
    "plt.suptitle('Histogram of Salaries', fontsize=25)  \n",
    "# Create vertical lines to show median and mean of salary data.\n",
    "plt.axvline(salaries.salary.median(), lw=2.5, ls='dashed', color='black', label='median')\n",
    "plt.axvline(salaries.salary.mean(), lw=2.5, ls='dashed', color='red', label='mean')\n",
    "\n",
    "plt.legend(loc=1, prop={'size': 14})\n",
    "\n",
    "plt.show()"
   ]
  },
  {
   "cell_type": "markdown",
   "metadata": {
    "hidden": true
   },
   "source": [
    "---\n",
    "Plotting a histogram of the salary data shows that the distribution is mostly symetrical with a slight positive skew from the few very high salaries. However, despite this skew, the mean and the median are roughly the same.\n",
    "<br>My model to predict the salaries will be a simple binary model to predict high vs low salaries. Because of this distribution, I can split my data on the mean salary.\n",
    "<br>The mean salary of the jobs that I scraped is around \\$110,000 which is significantly higher than the average Australian salaray of around \\$80,000.\n",
    "\n",
    "---"
   ]
  },
  {
   "cell_type": "code",
   "execution_count": 43,
   "metadata": {
    "hidden": true
   },
   "outputs": [
    {
     "data": {
      "image/png": "[encoded data removed]",
      "text/plain": [
       "<matplotlib.figure.Figure at 0x1a1178c860>"
      ]
     },
     "metadata": {
      "image/png": {
       "height": 396,
       "width": 860
      }
     },
     "output_type": "display_data"
    }
   ],
   "source": [
    "# Create a box plot of salary data.\n",
    "sns.set_style(\"darkgrid\")\n",
    "fig = plt.figure(1, figsize=(15,6))\n",
    "ax = sns.boxplot(data=salaries.salary, orient='h', fliersize=5, \n",
    "                 linewidth=2, notch=False, saturation=0.7, color='#49759c')\n",
    "plt.suptitle('Salaries', fontsize=19)\n",
    "plt.show()"
   ]
  },
  {
   "cell_type": "markdown",
   "metadata": {
    "hidden": true
   },
   "source": [
    "---\n",
    "The boxplot shows that there are a number of outliers. However, as previously stated, I will not be removing these outliers because the presence of very high paying jobs is not anomalous and is to be expected. The outliers are for salaries above \\$200,000. Sorting the dataframe by salary will allow me to investigate these 'outliers'. \n",
    "\n",
    "---"
   ]
  },
  {
   "cell_type": "code",
   "execution_count": 44,
   "metadata": {
    "hidden": true
   },
   "outputs": [
    {
     "data": {
      "text/plain": [
       "year    653\n",
       "day      81\n",
       "hour     75\n",
       "week     29\n",
       "Name: salary_type, dtype: int64"
      ]
     },
     "execution_count": 44,
     "metadata": {},
     "output_type": "execute_result"
    }
   ],
   "source": [
    "salaries.salary_type.value_counts()"
   ]
  },
  {
   "cell_type": "code",
   "execution_count": 45,
   "metadata": {
    "hidden": true
   },
   "outputs": [
    {
     "data": {
      "text/html": [
       "<div>\n",
       "<style scoped>\n",
       "    .dataframe tbody tr th:only-of-type {\n",
       "        vertical-align: middle;\n",
       "    }\n",
       "\n",
       "    .dataframe tbody tr th {\n",
       "        vertical-align: top;\n",
       "    }\n",
       "\n",
       "    .dataframe thead th {\n",
       "        text-align: right;\n",
       "    }\n",
       "</style>\n",
       "<table border=\"1\" class=\"dataframe\">\n",
       "  <thead>\n",
       "    <tr style=\"text-align: right;\">\n",
       "      <th></th>\n",
       "      <th>location</th>\n",
       "      <th>title</th>\n",
       "      <th>company</th>\n",
       "      <th>salary</th>\n",
       "      <th>salary_type</th>\n",
       "      <th>summary</th>\n",
       "      <th>description</th>\n",
       "    </tr>\n",
       "  </thead>\n",
       "  <tbody>\n",
       "    <tr>\n",
       "      <th>749</th>\n",
       "      <td>brisbane</td>\n",
       "      <td>organisational change manager   servicenow   1...</td>\n",
       "      <td>hudson</td>\n",
       "      <td>283440.0</td>\n",
       "      <td>day</td>\n",
       "      <td>provide strategic direction and leadership for...</td>\n",
       "      <td>initial contract until 30 june 2018 with possi...</td>\n",
       "    </tr>\n",
       "    <tr>\n",
       "      <th>20</th>\n",
       "      <td>sydney</td>\n",
       "      <td>small cap equities research analyst   industrials</td>\n",
       "      <td>fulsearch</td>\n",
       "      <td>275000.0</td>\n",
       "      <td>year</td>\n",
       "      <td>proven ability to critically review and analys...</td>\n",
       "      <td>small cap equities research analyst   industri...</td>\n",
       "    </tr>\n",
       "    <tr>\n",
       "      <th>106</th>\n",
       "      <td>sydney</td>\n",
       "      <td>small cap equities research analyst   industrials</td>\n",
       "      <td>fulsearch</td>\n",
       "      <td>275000.0</td>\n",
       "      <td>year</td>\n",
       "      <td>small cap equities research analyst   industri...</td>\n",
       "      <td>small cap equities research analyst   industri...</td>\n",
       "    </tr>\n",
       "    <tr>\n",
       "      <th>619</th>\n",
       "      <td>melbourne</td>\n",
       "      <td>head of big data</td>\n",
       "      <td>fourquarters</td>\n",
       "      <td>275000.0</td>\n",
       "      <td>year</td>\n",
       "      <td>head of big data required to build and manage ...</td>\n",
       "      <td>head of big data required to build and manage ...</td>\n",
       "    </tr>\n",
       "    <tr>\n",
       "      <th>754</th>\n",
       "      <td>sydney</td>\n",
       "      <td>data engineer</td>\n",
       "      <td>hudson</td>\n",
       "      <td>264000.0</td>\n",
       "      <td>day</td>\n",
       "      <td>solid experience structured and unstructured b...</td>\n",
       "      <td>data engineer  6 month contract   1100 per day...</td>\n",
       "    </tr>\n",
       "    <tr>\n",
       "      <th>751</th>\n",
       "      <td>sydney</td>\n",
       "      <td>snr data engineer  ml ai  spark etl elt proces...</td>\n",
       "      <td>silk recruitment</td>\n",
       "      <td>264000.0</td>\n",
       "      <td>day</td>\n",
       "      <td>we are looking for very talented senior data e...</td>\n",
       "      <td>snr data engineer  machine learning ai  spark ...</td>\n",
       "    </tr>\n",
       "    <tr>\n",
       "      <th>25</th>\n",
       "      <td>sydney</td>\n",
       "      <td>head of analytics  banking</td>\n",
       "      <td>algorithmic trading strategies pty ltd</td>\n",
       "      <td>260000.0</td>\n",
       "      <td>year</td>\n",
       "      <td>data science and quant skills  this role would...</td>\n",
       "      <td>outstanding opportunity to be a part of a fina...</td>\n",
       "    </tr>\n",
       "    <tr>\n",
       "      <th>818</th>\n",
       "      <td>brisbane</td>\n",
       "      <td>sap data migration  contract</td>\n",
       "      <td>davidson</td>\n",
       "      <td>230400.0</td>\n",
       "      <td>hour</td>\n",
       "      <td>work with the functional team  data analysts a...</td>\n",
       "      <td>contract through till end of april 2019  large...</td>\n",
       "    </tr>\n",
       "    <tr>\n",
       "      <th>747</th>\n",
       "      <td>brisbane</td>\n",
       "      <td>deployment lead</td>\n",
       "      <td>hudson</td>\n",
       "      <td>228000.0</td>\n",
       "      <td>day</td>\n",
       "      <td>evidence of strong business engagement skills ...</td>\n",
       "      <td>global application deployment contract through...</td>\n",
       "    </tr>\n",
       "    <tr>\n",
       "      <th>716</th>\n",
       "      <td>brisbane</td>\n",
       "      <td>deployment lead</td>\n",
       "      <td>hudson</td>\n",
       "      <td>228000.0</td>\n",
       "      <td>day</td>\n",
       "      <td>good communication and prior experience of dat...</td>\n",
       "      <td>global application deployment contract through...</td>\n",
       "    </tr>\n",
       "    <tr>\n",
       "      <th>240</th>\n",
       "      <td>melbourne</td>\n",
       "      <td>senior marketing and digital analytics special...</td>\n",
       "      <td>fourquarters</td>\n",
       "      <td>220000.0</td>\n",
       "      <td>year</td>\n",
       "      <td>a solid background drawing actionable insights...</td>\n",
       "      <td>senior marketing and digital insights analyst ...</td>\n",
       "    </tr>\n",
       "    <tr>\n",
       "      <th>697</th>\n",
       "      <td>sydney</td>\n",
       "      <td>data analyst sap eam</td>\n",
       "      <td>quay appointments</td>\n",
       "      <td>216000.0</td>\n",
       "      <td>day</td>\n",
       "      <td>data analyst  sap eam  review production syste...</td>\n",
       "      <td>data analyst  sap eam contract upto dec 2018 w...</td>\n",
       "    </tr>\n",
       "    <tr>\n",
       "      <th>793</th>\n",
       "      <td>brisbane</td>\n",
       "      <td>sap business analyst</td>\n",
       "      <td>hudson</td>\n",
       "      <td>211200.0</td>\n",
       "      <td>hour</td>\n",
       "      <td>sap business analyst required for a 6 month co...</td>\n",
       "      <td>sap   fico up to  110 ph   6 month contract   ...</td>\n",
       "    </tr>\n",
       "    <tr>\n",
       "      <th>782</th>\n",
       "      <td>brisbane</td>\n",
       "      <td>data migration specialist</td>\n",
       "      <td>davidson</td>\n",
       "      <td>207360.0</td>\n",
       "      <td>hour</td>\n",
       "      <td>specifically  the data migration specialist is...</td>\n",
       "      <td>contract through till end of july  large govt ...</td>\n",
       "    </tr>\n",
       "    <tr>\n",
       "      <th>814</th>\n",
       "      <td>brisbane</td>\n",
       "      <td>data migration specialist</td>\n",
       "      <td>davidson</td>\n",
       "      <td>207360.0</td>\n",
       "      <td>hour</td>\n",
       "      <td>work with business analysts and other project ...</td>\n",
       "      <td>contract through till end of july  large govt ...</td>\n",
       "    </tr>\n",
       "    <tr>\n",
       "      <th>698</th>\n",
       "      <td>sydney</td>\n",
       "      <td>senior finance business analyst</td>\n",
       "      <td>quay appointments</td>\n",
       "      <td>206400.0</td>\n",
       "      <td>day</td>\n",
       "      <td>senior finance business analyst  responsible f...</td>\n",
       "      <td>location  10 minute walk from central station ...</td>\n",
       "    </tr>\n",
       "    <tr>\n",
       "      <th>712</th>\n",
       "      <td>melbourne</td>\n",
       "      <td>senior business analyst</td>\n",
       "      <td>hydrogen group</td>\n",
       "      <td>204000.0</td>\n",
       "      <td>day</td>\n",
       "      <td>5 years  experience as a business analyst  the...</td>\n",
       "      <td>the senior business analyst is required to sup...</td>\n",
       "    </tr>\n",
       "    <tr>\n",
       "      <th>682</th>\n",
       "      <td>melbourne</td>\n",
       "      <td>data science consultant  iot  blockchain</td>\n",
       "      <td>opus recruitment solutions</td>\n",
       "      <td>204000.0</td>\n",
       "      <td>day</td>\n",
       "      <td>my client  a fast growing consulting firm  spe...</td>\n",
       "      <td>6 month contract  with extension  cutting edge...</td>\n",
       "    </tr>\n",
       "  </tbody>\n",
       "</table>\n",
       "</div>"
      ],
      "text/plain": [
       "      location                                              title  \\\n",
       "749   brisbane  organisational change manager   servicenow   1...   \n",
       "20      sydney  small cap equities research analyst   industrials   \n",
       "106     sydney  small cap equities research analyst   industrials   \n",
       "619  melbourne                                   head of big data   \n",
       "754     sydney                                      data engineer   \n",
       "751     sydney  snr data engineer  ml ai  spark etl elt proces...   \n",
       "25      sydney                         head of analytics  banking   \n",
       "818   brisbane                       sap data migration  contract   \n",
       "747   brisbane                                    deployment lead   \n",
       "716   brisbane                                    deployment lead   \n",
       "240  melbourne  senior marketing and digital analytics special...   \n",
       "697     sydney                               data analyst sap eam   \n",
       "793   brisbane                               sap business analyst   \n",
       "782   brisbane                          data migration specialist   \n",
       "814   brisbane                          data migration specialist   \n",
       "698     sydney                    senior finance business analyst   \n",
       "712  melbourne                            senior business analyst   \n",
       "682  melbourne       data science consultant  iot  blockchain       \n",
       "\n",
       "                                    company    salary salary_type  \\\n",
       "749                                  hudson  283440.0         day   \n",
       "20                                fulsearch  275000.0        year   \n",
       "106                               fulsearch  275000.0        year   \n",
       "619                            fourquarters  275000.0        year   \n",
       "754                                  hudson  264000.0         day   \n",
       "751                        silk recruitment  264000.0         day   \n",
       "25   algorithmic trading strategies pty ltd  260000.0        year   \n",
       "818                                davidson  230400.0        hour   \n",
       "747                                  hudson  228000.0         day   \n",
       "716                                  hudson  228000.0         day   \n",
       "240                            fourquarters  220000.0        year   \n",
       "697                       quay appointments  216000.0         day   \n",
       "793                                  hudson  211200.0        hour   \n",
       "782                                davidson  207360.0        hour   \n",
       "814                                davidson  207360.0        hour   \n",
       "698                       quay appointments  206400.0         day   \n",
       "712                          hydrogen group  204000.0         day   \n",
       "682              opus recruitment solutions  204000.0         day   \n",
       "\n",
       "                                               summary  \\\n",
       "749  provide strategic direction and leadership for...   \n",
       "20   proven ability to critically review and analys...   \n",
       "106  small cap equities research analyst   industri...   \n",
       "619  head of big data required to build and manage ...   \n",
       "754  solid experience structured and unstructured b...   \n",
       "751  we are looking for very talented senior data e...   \n",
       "25   data science and quant skills  this role would...   \n",
       "818  work with the functional team  data analysts a...   \n",
       "747  evidence of strong business engagement skills ...   \n",
       "716  good communication and prior experience of dat...   \n",
       "240  a solid background drawing actionable insights...   \n",
       "697  data analyst  sap eam  review production syste...   \n",
       "793  sap business analyst required for a 6 month co...   \n",
       "782  specifically  the data migration specialist is...   \n",
       "814  work with business analysts and other project ...   \n",
       "698  senior finance business analyst  responsible f...   \n",
       "712  5 years  experience as a business analyst  the...   \n",
       "682  my client  a fast growing consulting firm  spe...   \n",
       "\n",
       "                                           description  \n",
       "749  initial contract until 30 june 2018 with possi...  \n",
       "20   small cap equities research analyst   industri...  \n",
       "106  small cap equities research analyst   industri...  \n",
       "619  head of big data required to build and manage ...  \n",
       "754  data engineer  6 month contract   1100 per day...  \n",
       "751  snr data engineer  machine learning ai  spark ...  \n",
       "25   outstanding opportunity to be a part of a fina...  \n",
       "818  contract through till end of april 2019  large...  \n",
       "747  global application deployment contract through...  \n",
       "716  global application deployment contract through...  \n",
       "240  senior marketing and digital insights analyst ...  \n",
       "697  data analyst  sap eam contract upto dec 2018 w...  \n",
       "793  sap   fico up to  110 ph   6 month contract   ...  \n",
       "782  contract through till end of july  large govt ...  \n",
       "814  contract through till end of july  large govt ...  \n",
       "698  location  10 minute walk from central station ...  \n",
       "712  the senior business analyst is required to sup...  \n",
       "682  6 month contract  with extension  cutting edge...  "
      ]
     },
     "execution_count": 45,
     "metadata": {},
     "output_type": "execute_result"
    }
   ],
   "source": [
    "salaries[salaries.salary>200000].sort_values('salary', ascending=False)  # Sort salaries above 200k (outliers)."
   ]
  },
  {
   "cell_type": "markdown",
   "metadata": {
    "hidden": true
   },
   "source": [
    "---\n",
    "The outliers are all above \\$200,000. Looking at these values, there are quite a few jobs that were on an hourly or daily salary type. It is likely that these are contract jobs which probably have a higher hourly rate than annual salaries. I have already taken into account holidays and included a 4 week holiday period when scaling the non-annual salaries. These salaries would have been higher otherwise.\n",
    "\n",
    "---"
   ]
  },
  {
   "cell_type": "code",
   "execution_count": 46,
   "metadata": {
    "hidden": true
   },
   "outputs": [
    {
     "data": {
      "image/png": "[encoded data removed]",
      "text/plain": [
       "<matplotlib.figure.Figure at 0x1a1202cd68>"
      ]
     },
     "metadata": {
      "image/png": {
       "height": 385,
       "width": 609
      }
     },
     "output_type": "display_data"
    }
   ],
   "source": [
    "# Create a bar chart of mean annual salary per salary type.\n",
    "sns.set_style('whitegrid')\n",
    "fig = plt.figure(1, figsize = (9, 5))\n",
    "colours = ['#0485d1','#7b0323','#3d1c02','#7bb274']\n",
    "ax = sns.barplot(x = \"salary_type\", y = \"salary\", data = salaries, palette=colours, ci = None, estimator=np.mean, \n",
    "                 alpha=0.85)\n",
    "\n",
    "plt.yticks(fontsize=12)\n",
    "plt.xticks(fontsize=12)\n",
    "plt.ylabel('Salary ($)', fontsize=20,  labelpad=30)\n",
    "plt.xlabel('Salary Type', fontsize=20, labelpad=30)\n",
    "plt.suptitle('Mean Annual Salary per Salary Type', fontsize=25)  \n",
    "plt.show()"
   ]
  },
  {
   "cell_type": "markdown",
   "metadata": {
    "hidden": true
   },
   "source": [
    "---\n",
    "Plotting a bar chart of the mean annual salary per salary type shows that daily salary types have the highest annual rate, followed by hourly. Therefore, it is likely that these daily and hourly salaries are for contract jobs. Weekly salary type has by far the lowest mean annual salary of just under \\$40,000 which is well below the mean annual salary for Australia.\n",
    "\n",
    "---"
   ]
  },
  {
   "cell_type": "code",
   "execution_count": 47,
   "metadata": {
    "hidden": true
   },
   "outputs": [
    {
     "data": {
      "text/html": [
       "<div>\n",
       "<style scoped>\n",
       "    .dataframe tbody tr th:only-of-type {\n",
       "        vertical-align: middle;\n",
       "    }\n",
       "\n",
       "    .dataframe tbody tr th {\n",
       "        vertical-align: top;\n",
       "    }\n",
       "\n",
       "    .dataframe thead th {\n",
       "        text-align: right;\n",
       "    }\n",
       "</style>\n",
       "<table border=\"1\" class=\"dataframe\">\n",
       "  <thead>\n",
       "    <tr style=\"text-align: right;\">\n",
       "      <th></th>\n",
       "      <th>location</th>\n",
       "      <th>title</th>\n",
       "      <th>company</th>\n",
       "      <th>salary</th>\n",
       "      <th>salary_type</th>\n",
       "      <th>summary</th>\n",
       "      <th>description</th>\n",
       "    </tr>\n",
       "  </thead>\n",
       "  <tbody>\n",
       "    <tr>\n",
       "      <th>669</th>\n",
       "      <td>sydney</td>\n",
       "      <td>senior finance business analyst</td>\n",
       "      <td>morgan mckinley</td>\n",
       "      <td>25200.0</td>\n",
       "      <td>week</td>\n",
       "      <td>identifying benefits and risks of business cas...</td>\n",
       "      <td>6 month contract for senior finance ba with fm...</td>\n",
       "    </tr>\n",
       "    <tr>\n",
       "      <th>655</th>\n",
       "      <td>sydney</td>\n",
       "      <td>data analyst  human services</td>\n",
       "      <td>ethos beathchapman</td>\n",
       "      <td>26400.0</td>\n",
       "      <td>week</td>\n",
       "      <td>this opportunity would also suit a data analys...</td>\n",
       "      <td>ashfield location 2 positions available  550 s...</td>\n",
       "    </tr>\n",
       "    <tr>\n",
       "      <th>679</th>\n",
       "      <td>sydney</td>\n",
       "      <td>data analyst  human services</td>\n",
       "      <td>ethos beathchapman</td>\n",
       "      <td>26400.0</td>\n",
       "      <td>week</td>\n",
       "      <td>to be successful in this role you must have a ...</td>\n",
       "      <td>ashfield location 2 positions available  550 s...</td>\n",
       "    </tr>\n",
       "    <tr>\n",
       "      <th>654</th>\n",
       "      <td>melbourne</td>\n",
       "      <td>indigenous cadetship   data61 cyber security risk</td>\n",
       "      <td>csiro</td>\n",
       "      <td>28320.0</td>\n",
       "      <td>week</td>\n",
       "      <td>the work will involve mathematics  programming...</td>\n",
       "      <td>improve your professional employment prospects...</td>\n",
       "    </tr>\n",
       "    <tr>\n",
       "      <th>662</th>\n",
       "      <td>sydney</td>\n",
       "      <td>business analyst</td>\n",
       "      <td>interactiveinc recruitment</td>\n",
       "      <td>28800.0</td>\n",
       "      <td>week</td>\n",
       "      <td>business analysis experience  we are looking f...</td>\n",
       "      <td>we are looking for a talented ba to work on a ...</td>\n",
       "    </tr>\n",
       "    <tr>\n",
       "      <th>676</th>\n",
       "      <td>brisbane</td>\n",
       "      <td>2 x business analysts ba consultants</td>\n",
       "      <td>genesis it t pty ltd</td>\n",
       "      <td>30000.0</td>\n",
       "      <td>week</td>\n",
       "      <td>we are looking to hire 2 x business analysts  ...</td>\n",
       "      <td>3 month contract   possible extensions great b...</td>\n",
       "    </tr>\n",
       "    <tr>\n",
       "      <th>678</th>\n",
       "      <td>perth</td>\n",
       "      <td>2 x digital business analysts ba mobility cons...</td>\n",
       "      <td>genesis it t pty ltd</td>\n",
       "      <td>30000.0</td>\n",
       "      <td>week</td>\n",
       "      <td>we are looking to hire 2 x business analysts  ...</td>\n",
       "      <td>3 month contract   possible extensions great p...</td>\n",
       "    </tr>\n",
       "    <tr>\n",
       "      <th>674</th>\n",
       "      <td>melbourne</td>\n",
       "      <td>net developer   tester</td>\n",
       "      <td>profusion group</td>\n",
       "      <td>30720.0</td>\n",
       "      <td>week</td>\n",
       "      <td>working in a dynamic team of multiple front en...</td>\n",
       "      <td>company overview   profusion is working with a...</td>\n",
       "    </tr>\n",
       "    <tr>\n",
       "      <th>657</th>\n",
       "      <td>sydney</td>\n",
       "      <td>business analyst   techone</td>\n",
       "      <td>hays</td>\n",
       "      <td>31200.0</td>\n",
       "      <td>week</td>\n",
       "      <td>experience migrating large scale data from leg...</td>\n",
       "      <td>your new company  large organisation in the pr...</td>\n",
       "    </tr>\n",
       "    <tr>\n",
       "      <th>661</th>\n",
       "      <td>sydney</td>\n",
       "      <td>business analyst   remediation    600 to  700p...</td>\n",
       "      <td>profusion group</td>\n",
       "      <td>31200.0</td>\n",
       "      <td>week</td>\n",
       "      <td>detailed knowledge of business analysis tasks ...</td>\n",
       "      <td>company overview  working for a top tiered fin...</td>\n",
       "    </tr>\n",
       "    <tr>\n",
       "      <th>664</th>\n",
       "      <td>sydney</td>\n",
       "      <td>business analyst   credit debt cards    600 to...</td>\n",
       "      <td>profusion group</td>\n",
       "      <td>31200.0</td>\n",
       "      <td>week</td>\n",
       "      <td>majority of business ba experience  detailed k...</td>\n",
       "      <td>company overview  working for a top tiered fin...</td>\n",
       "    </tr>\n",
       "    <tr>\n",
       "      <th>672</th>\n",
       "      <td>melbourne</td>\n",
       "      <td>technical business analyst   investment solutions</td>\n",
       "      <td>profusion group</td>\n",
       "      <td>32400.0</td>\n",
       "      <td>week</td>\n",
       "      <td>extensive experience as a technical business a...</td>\n",
       "      <td>company overview  growing  customer centric we...</td>\n",
       "    </tr>\n",
       "    <tr>\n",
       "      <th>658</th>\n",
       "      <td>sydney</td>\n",
       "      <td>technical business analyst</td>\n",
       "      <td>hays</td>\n",
       "      <td>32640.0</td>\n",
       "      <td>week</td>\n",
       "      <td>provide business analysis and functional confi...</td>\n",
       "      <td>your new company  our client is a large govern...</td>\n",
       "    </tr>\n",
       "    <tr>\n",
       "      <th>666</th>\n",
       "      <td>sydney</td>\n",
       "      <td>technical business analyst</td>\n",
       "      <td>hays</td>\n",
       "      <td>32640.0</td>\n",
       "      <td>week</td>\n",
       "      <td>our client is a large government organisation ...</td>\n",
       "      <td>your new company  our client is a large govern...</td>\n",
       "    </tr>\n",
       "    <tr>\n",
       "      <th>663</th>\n",
       "      <td>sydney</td>\n",
       "      <td>senior business analyst</td>\n",
       "      <td>morgan mckinley</td>\n",
       "      <td>33600.0</td>\n",
       "      <td>week</td>\n",
       "      <td>ba   senior business analyst opportunities  a ...</td>\n",
       "      <td>high profile program   longevity   multiple op...</td>\n",
       "    </tr>\n",
       "    <tr>\n",
       "      <th>659</th>\n",
       "      <td>sydney</td>\n",
       "      <td>data governance consultant   information manag...</td>\n",
       "      <td>morgan mckinley</td>\n",
       "      <td>33600.0</td>\n",
       "      <td>week</td>\n",
       "      <td>leading organisation are looking for a data go...</td>\n",
       "      <td>are you a data governance guru   contract with...</td>\n",
       "    </tr>\n",
       "    <tr>\n",
       "      <th>656</th>\n",
       "      <td>sydney</td>\n",
       "      <td>business intelligence analyst</td>\n",
       "      <td>morgan mckinley</td>\n",
       "      <td>33600.0</td>\n",
       "      <td>week</td>\n",
       "      <td>business intelligence analyst  data analysis a...</td>\n",
       "      <td>business intelligence analyst  this leading sy...</td>\n",
       "    </tr>\n",
       "    <tr>\n",
       "      <th>670</th>\n",
       "      <td>melbourne</td>\n",
       "      <td>business process analyst  bpmn 2 0    6 12 mon...</td>\n",
       "      <td>fourquarters</td>\n",
       "      <td>34800.0</td>\n",
       "      <td>week</td>\n",
       "      <td>business process analyst  bpmn 2 0    6 12 mon...</td>\n",
       "      <td>business process analyst  bpmn 2 0    6 12 mon...</td>\n",
       "    </tr>\n",
       "    <tr>\n",
       "      <th>681</th>\n",
       "      <td>melbourne</td>\n",
       "      <td>splunk developer</td>\n",
       "      <td>michael page</td>\n",
       "      <td>34800.0</td>\n",
       "      <td>week</td>\n",
       "      <td>experience with splunk technical implementatio...</td>\n",
       "      <td>join one of australia's biggest consulting fir...</td>\n",
       "    </tr>\n",
       "    <tr>\n",
       "      <th>671</th>\n",
       "      <td>melbourne</td>\n",
       "      <td>business analyst   financial services</td>\n",
       "      <td>real time australia</td>\n",
       "      <td>36000.0</td>\n",
       "      <td>week</td>\n",
       "      <td>3   5  years commercial experience as a busine...</td>\n",
       "      <td>enjoy the benefits of working with like minded...</td>\n",
       "    </tr>\n",
       "    <tr>\n",
       "      <th>665</th>\n",
       "      <td>sydney</td>\n",
       "      <td>technical business analyst</td>\n",
       "      <td>ac3</td>\n",
       "      <td>36000.0</td>\n",
       "      <td>week</td>\n",
       "      <td>technical business analyst needed to work with...</td>\n",
       "      <td>6 month initial contract chatswood location  7...</td>\n",
       "    </tr>\n",
       "    <tr>\n",
       "      <th>677</th>\n",
       "      <td>brisbane</td>\n",
       "      <td>senior business analyst   home   motor insurance</td>\n",
       "      <td>profusion group</td>\n",
       "      <td>38400.0</td>\n",
       "      <td>week</td>\n",
       "      <td>4  years 'business' business analyst experienc...</td>\n",
       "      <td>company overview  a tier 1 financial services ...</td>\n",
       "    </tr>\n",
       "    <tr>\n",
       "      <th>667</th>\n",
       "      <td>sydney</td>\n",
       "      <td>senior business analyst   offshoring</td>\n",
       "      <td>profusion group</td>\n",
       "      <td>38400.0</td>\n",
       "      <td>week</td>\n",
       "      <td>senior business analyst with 4  years’ experie...</td>\n",
       "      <td>company overview  a tier 1 australian financia...</td>\n",
       "    </tr>\n",
       "    <tr>\n",
       "      <th>668</th>\n",
       "      <td>sydney</td>\n",
       "      <td>project manager business analyst  6 months</td>\n",
       "      <td>michael page</td>\n",
       "      <td>38400.0</td>\n",
       "      <td>week</td>\n",
       "      <td>business analysis activities   5  years ba exp...</td>\n",
       "      <td>get the chance to utilise both your pm and ba ...</td>\n",
       "    </tr>\n",
       "    <tr>\n",
       "      <th>680</th>\n",
       "      <td>sydney</td>\n",
       "      <td>solution designer</td>\n",
       "      <td>hays</td>\n",
       "      <td>38400.0</td>\n",
       "      <td>week</td>\n",
       "      <td>oracle applications  big data search engine op...</td>\n",
       "      <td>your new company  a job is available at a larg...</td>\n",
       "    </tr>\n",
       "    <tr>\n",
       "      <th>675</th>\n",
       "      <td>melbourne</td>\n",
       "      <td>project manager   contract   financial services</td>\n",
       "      <td>robert half australia</td>\n",
       "      <td>48000.0</td>\n",
       "      <td>week</td>\n",
       "      <td>manage a team of business analysts and smes  p...</td>\n",
       "      <td>project manager to deliver end to end projects...</td>\n",
       "    </tr>\n",
       "    <tr>\n",
       "      <th>653</th>\n",
       "      <td>sydney</td>\n",
       "      <td>data scientist</td>\n",
       "      <td>huxley</td>\n",
       "      <td>49440.0</td>\n",
       "      <td>week</td>\n",
       "      <td>experience working with data engineering teams...</td>\n",
       "      <td>requirements   a minimum of bachelor's degree ...</td>\n",
       "    </tr>\n",
       "    <tr>\n",
       "      <th>673</th>\n",
       "      <td>melbourne</td>\n",
       "      <td>dynamics crm consultant   12 month contract   ...</td>\n",
       "      <td>robert half australia</td>\n",
       "      <td>72000.0</td>\n",
       "      <td>week</td>\n",
       "      <td>excellent business communication and leadershi...</td>\n",
       "      <td>dynamics 365 crm specialist with exceptional c...</td>\n",
       "    </tr>\n",
       "    <tr>\n",
       "      <th>660</th>\n",
       "      <td>melbourne</td>\n",
       "      <td>dynamics crm consultant   12 month contract   ...</td>\n",
       "      <td>robert half australia</td>\n",
       "      <td>72000.0</td>\n",
       "      <td>week</td>\n",
       "      <td>have the ability to integrate data from altern...</td>\n",
       "      <td>dynamics 365 crm specialist with exceptional c...</td>\n",
       "    </tr>\n",
       "  </tbody>\n",
       "</table>\n",
       "</div>"
      ],
      "text/plain": [
       "      location                                              title  \\\n",
       "669     sydney                    senior finance business analyst   \n",
       "655     sydney                      data analyst  human services    \n",
       "679     sydney                      data analyst  human services    \n",
       "654  melbourne  indigenous cadetship   data61 cyber security risk   \n",
       "662     sydney                                   business analyst   \n",
       "676   brisbane               2 x business analysts ba consultants   \n",
       "678      perth  2 x digital business analysts ba mobility cons...   \n",
       "674  melbourne                             net developer   tester   \n",
       "657     sydney                         business analyst   techone   \n",
       "661     sydney  business analyst   remediation    600 to  700p...   \n",
       "664     sydney  business analyst   credit debt cards    600 to...   \n",
       "672  melbourne  technical business analyst   investment solutions   \n",
       "658     sydney                         technical business analyst   \n",
       "666     sydney                         technical business analyst   \n",
       "663     sydney                            senior business analyst   \n",
       "659     sydney  data governance consultant   information manag...   \n",
       "656     sydney                      business intelligence analyst   \n",
       "670  melbourne  business process analyst  bpmn 2 0    6 12 mon...   \n",
       "681  melbourne                                   splunk developer   \n",
       "671  melbourne              business analyst   financial services   \n",
       "665     sydney                         technical business analyst   \n",
       "677   brisbane   senior business analyst   home   motor insurance   \n",
       "667     sydney               senior business analyst   offshoring   \n",
       "668     sydney        project manager business analyst  6 months    \n",
       "680     sydney                                  solution designer   \n",
       "675  melbourne    project manager   contract   financial services   \n",
       "653     sydney                                     data scientist   \n",
       "673  melbourne  dynamics crm consultant   12 month contract   ...   \n",
       "660  melbourne  dynamics crm consultant   12 month contract   ...   \n",
       "\n",
       "                        company   salary salary_type  \\\n",
       "669             morgan mckinley  25200.0        week   \n",
       "655          ethos beathchapman  26400.0        week   \n",
       "679          ethos beathchapman  26400.0        week   \n",
       "654                       csiro  28320.0        week   \n",
       "662  interactiveinc recruitment  28800.0        week   \n",
       "676        genesis it t pty ltd  30000.0        week   \n",
       "678        genesis it t pty ltd  30000.0        week   \n",
       "674             profusion group  30720.0        week   \n",
       "657                        hays  31200.0        week   \n",
       "661             profusion group  31200.0        week   \n",
       "664             profusion group  31200.0        week   \n",
       "672             profusion group  32400.0        week   \n",
       "658                        hays  32640.0        week   \n",
       "666                        hays  32640.0        week   \n",
       "663             morgan mckinley  33600.0        week   \n",
       "659             morgan mckinley  33600.0        week   \n",
       "656             morgan mckinley  33600.0        week   \n",
       "670                fourquarters  34800.0        week   \n",
       "681                michael page  34800.0        week   \n",
       "671         real time australia  36000.0        week   \n",
       "665                         ac3  36000.0        week   \n",
       "677             profusion group  38400.0        week   \n",
       "667             profusion group  38400.0        week   \n",
       "668                michael page  38400.0        week   \n",
       "680                        hays  38400.0        week   \n",
       "675       robert half australia  48000.0        week   \n",
       "653                      huxley  49440.0        week   \n",
       "673       robert half australia  72000.0        week   \n",
       "660       robert half australia  72000.0        week   \n",
       "\n",
       "                                               summary  \\\n",
       "669  identifying benefits and risks of business cas...   \n",
       "655  this opportunity would also suit a data analys...   \n",
       "679  to be successful in this role you must have a ...   \n",
       "654  the work will involve mathematics  programming...   \n",
       "662  business analysis experience  we are looking f...   \n",
       "676  we are looking to hire 2 x business analysts  ...   \n",
       "678  we are looking to hire 2 x business analysts  ...   \n",
       "674  working in a dynamic team of multiple front en...   \n",
       "657  experience migrating large scale data from leg...   \n",
       "661  detailed knowledge of business analysis tasks ...   \n",
       "664  majority of business ba experience  detailed k...   \n",
       "672  extensive experience as a technical business a...   \n",
       "658  provide business analysis and functional confi...   \n",
       "666  our client is a large government organisation ...   \n",
       "663  ba   senior business analyst opportunities  a ...   \n",
       "659  leading organisation are looking for a data go...   \n",
       "656  business intelligence analyst  data analysis a...   \n",
       "670  business process analyst  bpmn 2 0    6 12 mon...   \n",
       "681  experience with splunk technical implementatio...   \n",
       "671  3   5  years commercial experience as a busine...   \n",
       "665  technical business analyst needed to work with...   \n",
       "677  4  years 'business' business analyst experienc...   \n",
       "667  senior business analyst with 4  years’ experie...   \n",
       "668  business analysis activities   5  years ba exp...   \n",
       "680  oracle applications  big data search engine op...   \n",
       "675  manage a team of business analysts and smes  p...   \n",
       "653  experience working with data engineering teams...   \n",
       "673  excellent business communication and leadershi...   \n",
       "660  have the ability to integrate data from altern...   \n",
       "\n",
       "                                           description  \n",
       "669  6 month contract for senior finance ba with fm...  \n",
       "655  ashfield location 2 positions available  550 s...  \n",
       "679  ashfield location 2 positions available  550 s...  \n",
       "654  improve your professional employment prospects...  \n",
       "662  we are looking for a talented ba to work on a ...  \n",
       "676  3 month contract   possible extensions great b...  \n",
       "678  3 month contract   possible extensions great p...  \n",
       "674  company overview   profusion is working with a...  \n",
       "657  your new company  large organisation in the pr...  \n",
       "661  company overview  working for a top tiered fin...  \n",
       "664  company overview  working for a top tiered fin...  \n",
       "672  company overview  growing  customer centric we...  \n",
       "658  your new company  our client is a large govern...  \n",
       "666  your new company  our client is a large govern...  \n",
       "663  high profile program   longevity   multiple op...  \n",
       "659  are you a data governance guru   contract with...  \n",
       "656  business intelligence analyst  this leading sy...  \n",
       "670  business process analyst  bpmn 2 0    6 12 mon...  \n",
       "681  join one of australia's biggest consulting fir...  \n",
       "671  enjoy the benefits of working with like minded...  \n",
       "665  6 month initial contract chatswood location  7...  \n",
       "677  company overview  a tier 1 financial services ...  \n",
       "667  company overview  a tier 1 australian financia...  \n",
       "668  get the chance to utilise both your pm and ba ...  \n",
       "680  your new company  a job is available at a larg...  \n",
       "675  project manager to deliver end to end projects...  \n",
       "653  requirements   a minimum of bachelor's degree ...  \n",
       "673  dynamics 365 crm specialist with exceptional c...  \n",
       "660  dynamics 365 crm specialist with exceptional c...  "
      ]
     },
     "execution_count": 47,
     "metadata": {},
     "output_type": "execute_result"
    }
   ],
   "source": [
    "salaries[salaries.salary_type == 'week'].sort_values('salary', ascending=True)"
   ]
  },
  {
   "cell_type": "markdown",
   "metadata": {
    "hidden": true
   },
   "source": [
    "---\n",
    "Looking at the jobs with weekly salary type, there are a number of senior roles. This suggests that these listings are for part-time jobs as senior business analysts and finance analysts would not have an annual salary that is less than half the national average salary.\n",
    "\n",
    "---"
   ]
  },
  {
   "cell_type": "code",
   "execution_count": 48,
   "metadata": {
    "hidden": true
   },
   "outputs": [
    {
     "data": {
      "image/png": "[encoded data removed]",
      "text/plain": [
       "<matplotlib.figure.Figure at 0x1a12ca3dd8>"
      ]
     },
     "metadata": {
      "image/png": {
       "height": 385,
       "width": 609
      }
     },
     "output_type": "display_data"
    }
   ],
   "source": [
    "# Create a bar chart of mean annual salary per city.\n",
    "sns.set_style('whitegrid')\n",
    "fig = plt.figure(1, figsize = (9, 5))\n",
    "colours = ['#00035b','#580f41','#137e6d','#fac205','#fd3c06']\n",
    "ax = sns.barplot(x = \"location\", y = \"salary\", data = salaries, palette=colours, ci = None, estimator = np.mean,\n",
    "                 alpha=0.85)\n",
    "\n",
    "plt.yticks(fontsize=12)\n",
    "plt.xticks(fontsize=12)\n",
    "plt.ylabel('Salary ($)', fontsize=20,  labelpad=30)\n",
    "plt.xlabel('Location', fontsize=20, labelpad=30)\n",
    "plt.suptitle('Mean Salary per City', fontsize=25)  \n",
    "plt.show()"
   ]
  },
  {
   "cell_type": "markdown",
   "metadata": {
    "hidden": true
   },
   "source": [
    "---\n",
    "Plotting a bar chart of mean salary for each location shows that Brisbane has the highest mean salary, whereas Perth has the lowest.\n",
    "\n",
    "---"
   ]
  },
  {
   "cell_type": "code",
   "execution_count": 49,
   "metadata": {
    "hidden": true
   },
   "outputs": [
    {
     "data": {
      "image/png": "[encoded data removed]",
      "text/plain": [
       "<matplotlib.figure.Figure at 0x1a12d12908>"
      ]
     },
     "metadata": {
      "image/png": {
       "height": 385,
       "width": 609
      }
     },
     "output_type": "display_data"
    }
   ],
   "source": [
    "#Create a bar chart of median annual salary per city.\n",
    "sns.set_style('whitegrid')\n",
    "fig = plt.figure(1, figsize = (9, 5))\n",
    "colours = ['#00035b','#580f41','#137e6d','#fac205','#fd3c06']\n",
    "ax = sns.barplot(x = \"location\", y = \"salary\", data = salaries, palette=colours, ci = None, estimator=np.median, \n",
    "                 alpha=0.85)\n",
    "\n",
    "plt.yticks(fontsize=12)\n",
    "plt.xticks(fontsize=12)\n",
    "plt.ylabel('Salary($)', fontsize=20,  labelpad=30)\n",
    "plt.xlabel('Location', fontsize=20, labelpad=30)\n",
    "plt.suptitle('Median Salary per City', fontsize=25)  \n",
    "plt.show()"
   ]
  },
  {
   "cell_type": "markdown",
   "metadata": {
    "hidden": true
   },
   "source": [
    "---\n",
    "Plotting the medians shows similar results except Adelaide is now lower than Perth.\n",
    "\n",
    "---"
   ]
  },
  {
   "cell_type": "markdown",
   "metadata": {
    "hidden": true
   },
   "source": [
    "I will now groupby location and salary type to see the proportion of each salary type per city.\n",
    "\n",
    "---"
   ]
  },
  {
   "cell_type": "code",
   "execution_count": 50,
   "metadata": {
    "hidden": true
   },
   "outputs": [],
   "source": [
    "city_sal_type = salaries.groupby(['location', 'salary_type']).count()   # Groupby location and salary_type, aggregation is count."
   ]
  },
  {
   "cell_type": "code",
   "execution_count": 51,
   "metadata": {
    "hidden": true
   },
   "outputs": [
    {
     "data": {
      "text/html": [
       "<div>\n",
       "<style scoped>\n",
       "    .dataframe tbody tr th:only-of-type {\n",
       "        vertical-align: middle;\n",
       "    }\n",
       "\n",
       "    .dataframe tbody tr th {\n",
       "        vertical-align: top;\n",
       "    }\n",
       "\n",
       "    .dataframe thead th {\n",
       "        text-align: right;\n",
       "    }\n",
       "</style>\n",
       "<table border=\"1\" class=\"dataframe\">\n",
       "  <thead>\n",
       "    <tr style=\"text-align: right;\">\n",
       "      <th></th>\n",
       "      <th></th>\n",
       "      <th>title</th>\n",
       "      <th>company</th>\n",
       "      <th>salary</th>\n",
       "      <th>summary</th>\n",
       "      <th>description</th>\n",
       "    </tr>\n",
       "    <tr>\n",
       "      <th>location</th>\n",
       "      <th>salary_type</th>\n",
       "      <th></th>\n",
       "      <th></th>\n",
       "      <th></th>\n",
       "      <th></th>\n",
       "      <th></th>\n",
       "    </tr>\n",
       "  </thead>\n",
       "  <tbody>\n",
       "    <tr>\n",
       "      <th rowspan=\"2\" valign=\"top\">adelaide</th>\n",
       "      <th>hour</th>\n",
       "      <td>4</td>\n",
       "      <td>4</td>\n",
       "      <td>4</td>\n",
       "      <td>4</td>\n",
       "      <td>4</td>\n",
       "    </tr>\n",
       "    <tr>\n",
       "      <th>year</th>\n",
       "      <td>8</td>\n",
       "      <td>8</td>\n",
       "      <td>8</td>\n",
       "      <td>8</td>\n",
       "      <td>8</td>\n",
       "    </tr>\n",
       "    <tr>\n",
       "      <th rowspan=\"4\" valign=\"top\">brisbane</th>\n",
       "      <th>day</th>\n",
       "      <td>9</td>\n",
       "      <td>9</td>\n",
       "      <td>9</td>\n",
       "      <td>9</td>\n",
       "      <td>9</td>\n",
       "    </tr>\n",
       "    <tr>\n",
       "      <th>hour</th>\n",
       "      <td>29</td>\n",
       "      <td>29</td>\n",
       "      <td>29</td>\n",
       "      <td>29</td>\n",
       "      <td>29</td>\n",
       "    </tr>\n",
       "    <tr>\n",
       "      <th>week</th>\n",
       "      <td>2</td>\n",
       "      <td>2</td>\n",
       "      <td>2</td>\n",
       "      <td>2</td>\n",
       "      <td>2</td>\n",
       "    </tr>\n",
       "    <tr>\n",
       "      <th>year</th>\n",
       "      <td>55</td>\n",
       "      <td>55</td>\n",
       "      <td>55</td>\n",
       "      <td>55</td>\n",
       "      <td>55</td>\n",
       "    </tr>\n",
       "    <tr>\n",
       "      <th rowspan=\"4\" valign=\"top\">melbourne</th>\n",
       "      <th>day</th>\n",
       "      <td>29</td>\n",
       "      <td>29</td>\n",
       "      <td>29</td>\n",
       "      <td>29</td>\n",
       "      <td>29</td>\n",
       "    </tr>\n",
       "    <tr>\n",
       "      <th>hour</th>\n",
       "      <td>13</td>\n",
       "      <td>13</td>\n",
       "      <td>13</td>\n",
       "      <td>13</td>\n",
       "      <td>13</td>\n",
       "    </tr>\n",
       "    <tr>\n",
       "      <th>week</th>\n",
       "      <td>9</td>\n",
       "      <td>9</td>\n",
       "      <td>9</td>\n",
       "      <td>9</td>\n",
       "      <td>9</td>\n",
       "    </tr>\n",
       "    <tr>\n",
       "      <th>year</th>\n",
       "      <td>245</td>\n",
       "      <td>245</td>\n",
       "      <td>245</td>\n",
       "      <td>245</td>\n",
       "      <td>245</td>\n",
       "    </tr>\n",
       "    <tr>\n",
       "      <th rowspan=\"4\" valign=\"top\">perth</th>\n",
       "      <th>day</th>\n",
       "      <td>1</td>\n",
       "      <td>1</td>\n",
       "      <td>1</td>\n",
       "      <td>1</td>\n",
       "      <td>1</td>\n",
       "    </tr>\n",
       "    <tr>\n",
       "      <th>hour</th>\n",
       "      <td>3</td>\n",
       "      <td>3</td>\n",
       "      <td>3</td>\n",
       "      <td>3</td>\n",
       "      <td>3</td>\n",
       "    </tr>\n",
       "    <tr>\n",
       "      <th>week</th>\n",
       "      <td>1</td>\n",
       "      <td>1</td>\n",
       "      <td>1</td>\n",
       "      <td>1</td>\n",
       "      <td>1</td>\n",
       "    </tr>\n",
       "    <tr>\n",
       "      <th>year</th>\n",
       "      <td>30</td>\n",
       "      <td>30</td>\n",
       "      <td>30</td>\n",
       "      <td>30</td>\n",
       "      <td>30</td>\n",
       "    </tr>\n",
       "    <tr>\n",
       "      <th rowspan=\"4\" valign=\"top\">sydney</th>\n",
       "      <th>day</th>\n",
       "      <td>42</td>\n",
       "      <td>42</td>\n",
       "      <td>42</td>\n",
       "      <td>42</td>\n",
       "      <td>42</td>\n",
       "    </tr>\n",
       "    <tr>\n",
       "      <th>hour</th>\n",
       "      <td>26</td>\n",
       "      <td>26</td>\n",
       "      <td>26</td>\n",
       "      <td>26</td>\n",
       "      <td>26</td>\n",
       "    </tr>\n",
       "    <tr>\n",
       "      <th>week</th>\n",
       "      <td>17</td>\n",
       "      <td>17</td>\n",
       "      <td>17</td>\n",
       "      <td>17</td>\n",
       "      <td>17</td>\n",
       "    </tr>\n",
       "    <tr>\n",
       "      <th>year</th>\n",
       "      <td>315</td>\n",
       "      <td>315</td>\n",
       "      <td>315</td>\n",
       "      <td>315</td>\n",
       "      <td>315</td>\n",
       "    </tr>\n",
       "  </tbody>\n",
       "</table>\n",
       "</div>"
      ],
      "text/plain": [
       "                       title  company  salary  summary  description\n",
       "location  salary_type                                              \n",
       "adelaide  hour             4        4       4        4            4\n",
       "          year             8        8       8        8            8\n",
       "brisbane  day              9        9       9        9            9\n",
       "          hour            29       29      29       29           29\n",
       "          week             2        2       2        2            2\n",
       "          year            55       55      55       55           55\n",
       "melbourne day             29       29      29       29           29\n",
       "          hour            13       13      13       13           13\n",
       "          week             9        9       9        9            9\n",
       "          year           245      245     245      245          245\n",
       "perth     day              1        1       1        1            1\n",
       "          hour             3        3       3        3            3\n",
       "          week             1        1       1        1            1\n",
       "          year            30       30      30       30           30\n",
       "sydney    day             42       42      42       42           42\n",
       "          hour            26       26      26       26           26\n",
       "          week            17       17      17       17           17\n",
       "          year           315      315     315      315          315"
      ]
     },
     "execution_count": 51,
     "metadata": {},
     "output_type": "execute_result"
    }
   ],
   "source": [
    "city_sal_type   # View groupby."
   ]
  },
  {
   "cell_type": "code",
   "execution_count": 52,
   "metadata": {
    "hidden": true
   },
   "outputs": [],
   "source": [
    "city_sal_type['count'] = city_sal_type['title']   # All columns list same count so add another column called count."
   ]
  },
  {
   "cell_type": "code",
   "execution_count": 53,
   "metadata": {
    "hidden": true
   },
   "outputs": [],
   "source": [
    "city_sal_type.drop(['title', 'company', 'salary', 'summary', 'description'], axis=1, inplace=True)  # Remove all other columns"
   ]
  },
  {
   "cell_type": "code",
   "execution_count": 66,
   "metadata": {
    "hidden": true
   },
   "outputs": [
    {
     "data": {
      "image/png": "[encoded data removed]",
      "text/plain": [
       "<matplotlib.figure.Figure at 0x105658518>"
      ]
     },
     "metadata": {
      "image/png": {
       "height": 510,
       "width": 1039
      }
     },
     "output_type": "display_data"
    }
   ],
   "source": [
    "# Create a bar chart to show counts of salary type per city.\n",
    "sns.set_style('darkgrid')\n",
    "city_sal_type.unstack().plot(kind='bar', figsize=(17,7), color = ['#06470c', '#35063e', '#a83c09', '#607c8e'],\n",
    "                             alpha=0.85, width=0.85)\n",
    "plt.yticks(fontsize=15)\n",
    "plt.xticks(fontsize=15, rotation=0)    # Rotate x-axis labels to be horizontal.\n",
    "plt.suptitle('Salary Type per City', fontsize=25)\n",
    "plt.ylabel('Number of Jobs', fontsize=20,  labelpad=30)\n",
    "plt.xlabel('Location', fontsize=20, labelpad=30)\n",
    "plt.legend(loc=2, prop={'size': 14}, labels=['day', 'hour', 'week', 'year']) # Create labels for the legend.\n",
    "plt.show()"
   ]
  },
  {
   "cell_type": "markdown",
   "metadata": {
    "hidden": true
   },
   "source": [
    "---\n",
    "The previous plots of mean and median annual salary per city shows that Brisbane has the highest mean annual salary but not the highest median. Plotting the mean annual salary per salary type showed that daily and hourly rates have the highest annual mean salary. The above plot of salary type per city shows that Brisbane has a high proportion of jobs with daily and hourly salary types. This explains why Brisbane had the highest mean annual salary but not the highest median annual salary.\n",
    "\n",
    "---"
   ]
  },
  {
   "cell_type": "markdown",
   "metadata": {
    "hidden": true
   },
   "source": [
    "I have now finished the EDA. I can now move onto modelling the data. The first model will predict salary."
   ]
  },
  {
   "cell_type": "markdown",
   "metadata": {
    "hidden": true
   },
   "source": [
    "[End of EDA (2). See file(3) for Modelling Part 1.]"
   ]
  }
 ],
 "metadata": {
  "kernelspec": {
   "display_name": "Python 3",
   "language": "python",
   "name": "python3"
  },
  "language_info": {
   "codemirror_mode": {
    "name": "ipython",
    "version": 3
   },
   "file_extension": ".py",
   "mimetype": "text/x-python",
   "name": "python",
   "nbconvert_exporter": "python",
   "pygments_lexer": "ipython3",
   "version": "3.6.4"
  }
 },
 "nbformat": 4,
 "nbformat_minor": 2
}
