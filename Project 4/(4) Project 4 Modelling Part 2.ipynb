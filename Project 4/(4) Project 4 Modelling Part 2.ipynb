{
 "cells": [
  {
   "cell_type": "markdown",
   "metadata": {},
   "source": [
    "# (4) Project 4 Modelling Part 2"
   ]
  },
  {
   "cell_type": "markdown",
   "metadata": {},
   "source": [
    "---\n",
    "For part 2, I will create a model to predict whether a job is a data scientist or business analyst. Therefore, as with part 1, it will be another model to predict a binary target: 1 for data scientist and 0 for business analyst.\n",
    "\n",
    "---"
   ]
  },
  {
   "cell_type": "code",
   "execution_count": 1,
   "metadata": {},
   "outputs": [],
   "source": [
    "import pandas as pd\n",
    "import numpy as np\n",
    "import matplotlib as mpl\n",
    "import matplotlib.pyplot as plt\n",
    "import seaborn as sns\n",
    "from sklearn.feature_extraction.text import CountVectorizer\n",
    "from sklearn.model_selection import train_test_split\n",
    "from sklearn.model_selection import cross_val_score\n",
    "from sklearn.tree import DecisionTreeClassifier\n",
    "from sklearn.linear_model import LogisticRegression\n",
    "from sklearn.neighbors import KNeighborsClassifier\n",
    "from sklearn.metrics import classification_report, confusion_matrix, accuracy_score\n",
    "\n",
    "\n",
    "\n",
    "%matplotlib inline\n",
    "%config InlineBackend.figure_format = 'retina'"
   ]
  },
  {
   "cell_type": "markdown",
   "metadata": {},
   "source": [
    "---\n",
    "In part 1 I made a model to predict high vs low salaries. I was then able to use this model to predict high or low salaries for the jobs that did not list a salary. I will now read in the csv file that contains salary data on all job listings that I scraped.\n",
    "\n",
    "---"
   ]
  },
  {
   "cell_type": "code",
   "execution_count": 2,
   "metadata": {},
   "outputs": [],
   "source": [
    "df = pd.read_csv('all_salary.csv')"
   ]
  },
  {
   "cell_type": "code",
   "execution_count": 3,
   "metadata": {},
   "outputs": [
    {
     "data": {
      "text/html": [
       "<div>\n",
       "<style scoped>\n",
       "    .dataframe tbody tr th:only-of-type {\n",
       "        vertical-align: middle;\n",
       "    }\n",
       "\n",
       "    .dataframe tbody tr th {\n",
       "        vertical-align: top;\n",
       "    }\n",
       "\n",
       "    .dataframe thead th {\n",
       "        text-align: right;\n",
       "    }\n",
       "</style>\n",
       "<table border=\"1\" class=\"dataframe\">\n",
       "  <thead>\n",
       "    <tr style=\"text-align: right;\">\n",
       "      <th></th>\n",
       "      <th>location</th>\n",
       "      <th>title</th>\n",
       "      <th>company</th>\n",
       "      <th>summary</th>\n",
       "      <th>description</th>\n",
       "      <th>sal_above_mean</th>\n",
       "    </tr>\n",
       "  </thead>\n",
       "  <tbody>\n",
       "    <tr>\n",
       "      <th>0</th>\n",
       "      <td>sydney</td>\n",
       "      <td>data scientist  python r</td>\n",
       "      <td>correlate resources</td>\n",
       "      <td>work within a team of industry leading data sc...</td>\n",
       "      <td>our client is an industry pioneering customer ...</td>\n",
       "      <td>1.0</td>\n",
       "    </tr>\n",
       "    <tr>\n",
       "      <th>1</th>\n",
       "      <td>sydney</td>\n",
       "      <td>data scientists x 2</td>\n",
       "      <td>alloc8 recruitment solutions pty ltd</td>\n",
       "      <td>the need for 2 data scientist is paramount and...</td>\n",
       "      <td>the company   alloc8 have been fortunate enoug...</td>\n",
       "      <td>1.0</td>\n",
       "    </tr>\n",
       "    <tr>\n",
       "      <th>2</th>\n",
       "      <td>sydney</td>\n",
       "      <td>data analyst   perm role   sydney</td>\n",
       "      <td>infopeople</td>\n",
       "      <td>i am looking for a data analyst with at least ...</td>\n",
       "      <td>i am looking for a data analyst with at least ...</td>\n",
       "      <td>0.0</td>\n",
       "    </tr>\n",
       "    <tr>\n",
       "      <th>3</th>\n",
       "      <td>sydney</td>\n",
       "      <td>senior data scientist   leadership position</td>\n",
       "      <td>morgan mckinley</td>\n",
       "      <td>the time has come to step up and be counted as...</td>\n",
       "      <td>calling all senior data scientists      the ti...</td>\n",
       "      <td>1.0</td>\n",
       "    </tr>\n",
       "    <tr>\n",
       "      <th>4</th>\n",
       "      <td>sydney</td>\n",
       "      <td>junior data scientist</td>\n",
       "      <td>correlate resources</td>\n",
       "      <td>as a junior data scientist the responsibilitie...</td>\n",
       "      <td>our client is an industry pioneering customer ...</td>\n",
       "      <td>0.0</td>\n",
       "    </tr>\n",
       "  </tbody>\n",
       "</table>\n",
       "</div>"
      ],
      "text/plain": [
       "  location                                        title  \\\n",
       "0   sydney                    data scientist  python r    \n",
       "1   sydney                          data scientists x 2   \n",
       "2   sydney            data analyst   perm role   sydney   \n",
       "3   sydney  senior data scientist   leadership position   \n",
       "4   sydney                        junior data scientist   \n",
       "\n",
       "                                company  \\\n",
       "0                   correlate resources   \n",
       "1  alloc8 recruitment solutions pty ltd   \n",
       "2                            infopeople   \n",
       "3                       morgan mckinley   \n",
       "4                   correlate resources   \n",
       "\n",
       "                                             summary  \\\n",
       "0  work within a team of industry leading data sc...   \n",
       "1  the need for 2 data scientist is paramount and...   \n",
       "2  i am looking for a data analyst with at least ...   \n",
       "3  the time has come to step up and be counted as...   \n",
       "4  as a junior data scientist the responsibilitie...   \n",
       "\n",
       "                                         description  sal_above_mean  \n",
       "0  our client is an industry pioneering customer ...             1.0  \n",
       "1  the company   alloc8 have been fortunate enoug...             1.0  \n",
       "2  i am looking for a data analyst with at least ...             0.0  \n",
       "3  calling all senior data scientists      the ti...             1.0  \n",
       "4  our client is an industry pioneering customer ...             0.0  "
      ]
     },
     "execution_count": 3,
     "metadata": {},
     "output_type": "execute_result"
    }
   ],
   "source": [
    "df.head()"
   ]
  },
  {
   "cell_type": "code",
   "execution_count": 4,
   "metadata": {},
   "outputs": [
    {
     "data": {
      "text/plain": [
       "(4372, 6)"
      ]
     },
     "execution_count": 4,
     "metadata": {},
     "output_type": "execute_result"
    }
   ],
   "source": [
    "df.shape"
   ]
  },
  {
   "cell_type": "markdown",
   "metadata": {},
   "source": [
    "---\n",
    "I need to subset my data so that I only have jobs that are either data scientist or business analyst. First I need to rename many of the job title records so that title with 'data scientist' in the title will be renamed to just 'data scientist'. I will also do this for business analyst.\n",
    "\n",
    "---"
   ]
  },
  {
   "cell_type": "code",
   "execution_count": 5,
   "metadata": {},
   "outputs": [],
   "source": [
    "df['title'] = df['title'].map(lambda x: 'data scientist' if 'data scientist' in x else x)\n",
    "# Rename job titles to data scientist if the title contains data scientist."
   ]
  },
  {
   "cell_type": "code",
   "execution_count": 6,
   "metadata": {},
   "outputs": [],
   "source": [
    "df['title'] = df['title'].map(lambda x: 'business analyst' if 'business analyst' in x else x)\n",
    "# Rename job titles to business analyst if the title contains business analyst."
   ]
  },
  {
   "cell_type": "code",
   "execution_count": 7,
   "metadata": {
    "scrolled": true
   },
   "outputs": [
    {
     "data": {
      "text/plain": [
       "business analyst      842\n",
       "data scientist        133\n",
       "data analyst           77\n",
       "analyst                30\n",
       "commercial analyst     23\n",
       "Name: title, dtype: int64"
      ]
     },
     "execution_count": 7,
     "metadata": {},
     "output_type": "execute_result"
    }
   ],
   "source": [
    "df.title.value_counts().head()"
   ]
  },
  {
   "cell_type": "markdown",
   "metadata": {},
   "source": [
    "---\n",
    "I now have 842 business analysts and 133 data scientists. Now I can subset the data to create a dataframe that only contains business analyst and data scientist jobs.\n",
    "\n",
    "---"
   ]
  },
  {
   "cell_type": "code",
   "execution_count": 8,
   "metadata": {},
   "outputs": [],
   "source": [
    "df2 = df[(df.title == 'data scientist') | (df.title == 'business analyst')]\n",
    "# Create new dataframe with only data scientists and business analysts."
   ]
  },
  {
   "cell_type": "code",
   "execution_count": 9,
   "metadata": {},
   "outputs": [
    {
     "data": {
      "text/plain": [
       "(975, 6)"
      ]
     },
     "execution_count": 9,
     "metadata": {},
     "output_type": "execute_result"
    }
   ],
   "source": [
    "df2.shape"
   ]
  },
  {
   "cell_type": "code",
   "execution_count": 10,
   "metadata": {},
   "outputs": [
    {
     "name": "stderr",
     "output_type": "stream",
     "text": [
      "/Applications/anaconda2/envs/py36/lib/python3.6/site-packages/ipykernel_launcher.py:1: SettingWithCopyWarning: \n",
      "A value is trying to be set on a copy of a slice from a DataFrame.\n",
      "Try using .loc[row_indexer,col_indexer] = value instead\n",
      "\n",
      "See the caveats in the documentation: http://pandas.pydata.org/pandas-docs/stable/indexing.html#indexing-view-versus-copy\n",
      "  \"\"\"Entry point for launching an IPython kernel.\n"
     ]
    }
   ],
   "source": [
    "df2['title'] = df2['title'].map(lambda x: 1 if 'data scientist' in x else 0)\n",
    "# Now classify data scientist as 1 and business analyst as 0."
   ]
  },
  {
   "cell_type": "code",
   "execution_count": 11,
   "metadata": {},
   "outputs": [
    {
     "data": {
      "text/plain": [
       "0    842\n",
       "1    133\n",
       "Name: title, dtype: int64"
      ]
     },
     "execution_count": 11,
     "metadata": {},
     "output_type": "execute_result"
    }
   ],
   "source": [
    "df2.title.value_counts()"
   ]
  },
  {
   "cell_type": "code",
   "execution_count": 12,
   "metadata": {},
   "outputs": [
    {
     "data": {
      "text/html": [
       "<div>\n",
       "<style scoped>\n",
       "    .dataframe tbody tr th:only-of-type {\n",
       "        vertical-align: middle;\n",
       "    }\n",
       "\n",
       "    .dataframe tbody tr th {\n",
       "        vertical-align: top;\n",
       "    }\n",
       "\n",
       "    .dataframe thead th {\n",
       "        text-align: right;\n",
       "    }\n",
       "</style>\n",
       "<table border=\"1\" class=\"dataframe\">\n",
       "  <thead>\n",
       "    <tr style=\"text-align: right;\">\n",
       "      <th></th>\n",
       "      <th>location</th>\n",
       "      <th>title</th>\n",
       "      <th>company</th>\n",
       "      <th>summary</th>\n",
       "      <th>description</th>\n",
       "      <th>sal_above_mean</th>\n",
       "    </tr>\n",
       "  </thead>\n",
       "  <tbody>\n",
       "    <tr>\n",
       "      <th>0</th>\n",
       "      <td>sydney</td>\n",
       "      <td>1</td>\n",
       "      <td>correlate resources</td>\n",
       "      <td>work within a team of industry leading data sc...</td>\n",
       "      <td>our client is an industry pioneering customer ...</td>\n",
       "      <td>1.0</td>\n",
       "    </tr>\n",
       "    <tr>\n",
       "      <th>1</th>\n",
       "      <td>sydney</td>\n",
       "      <td>1</td>\n",
       "      <td>alloc8 recruitment solutions pty ltd</td>\n",
       "      <td>the need for 2 data scientist is paramount and...</td>\n",
       "      <td>the company   alloc8 have been fortunate enoug...</td>\n",
       "      <td>1.0</td>\n",
       "    </tr>\n",
       "    <tr>\n",
       "      <th>3</th>\n",
       "      <td>sydney</td>\n",
       "      <td>1</td>\n",
       "      <td>morgan mckinley</td>\n",
       "      <td>the time has come to step up and be counted as...</td>\n",
       "      <td>calling all senior data scientists      the ti...</td>\n",
       "      <td>1.0</td>\n",
       "    </tr>\n",
       "    <tr>\n",
       "      <th>4</th>\n",
       "      <td>sydney</td>\n",
       "      <td>1</td>\n",
       "      <td>correlate resources</td>\n",
       "      <td>as a junior data scientist the responsibilitie...</td>\n",
       "      <td>our client is an industry pioneering customer ...</td>\n",
       "      <td>0.0</td>\n",
       "    </tr>\n",
       "    <tr>\n",
       "      <th>9</th>\n",
       "      <td>sydney</td>\n",
       "      <td>1</td>\n",
       "      <td>genesis it t pty ltd</td>\n",
       "      <td>our client seeks an experienced data scientist...</td>\n",
       "      <td>our client seeks an experienced data scientist...</td>\n",
       "      <td>1.0</td>\n",
       "    </tr>\n",
       "  </tbody>\n",
       "</table>\n",
       "</div>"
      ],
      "text/plain": [
       "  location  title                               company  \\\n",
       "0   sydney      1                   correlate resources   \n",
       "1   sydney      1  alloc8 recruitment solutions pty ltd   \n",
       "3   sydney      1                       morgan mckinley   \n",
       "4   sydney      1                   correlate resources   \n",
       "9   sydney      1                  genesis it t pty ltd   \n",
       "\n",
       "                                             summary  \\\n",
       "0  work within a team of industry leading data sc...   \n",
       "1  the need for 2 data scientist is paramount and...   \n",
       "3  the time has come to step up and be counted as...   \n",
       "4  as a junior data scientist the responsibilitie...   \n",
       "9  our client seeks an experienced data scientist...   \n",
       "\n",
       "                                         description  sal_above_mean  \n",
       "0  our client is an industry pioneering customer ...             1.0  \n",
       "1  the company   alloc8 have been fortunate enoug...             1.0  \n",
       "3  calling all senior data scientists      the ti...             1.0  \n",
       "4  our client is an industry pioneering customer ...             0.0  \n",
       "9  our client seeks an experienced data scientist...             1.0  "
      ]
     },
     "execution_count": 12,
     "metadata": {},
     "output_type": "execute_result"
    }
   ],
   "source": [
    "df2.head()"
   ]
  },
  {
   "cell_type": "markdown",
   "metadata": {},
   "source": [
    "---\n",
    "I have split my data into just data scientists and business analysts, and binarised the job title. As with part 1, I will use natural language processing to create features from the words in the summary and description. Again, I will be looking at the ratio of ngrams that appear in data scientist summaries and descriptions to the ngrams that appear in business analyst summaries and descriptions.\n",
    "\n",
    "---"
   ]
  },
  {
   "cell_type": "markdown",
   "metadata": {
    "heading_collapsed": true
   },
   "source": [
    "## NLP"
   ]
  },
  {
   "cell_type": "markdown",
   "metadata": {
    "hidden": true
   },
   "source": [
    "---\n",
    "I will start by splitting the data into X (summary and description) and y (title).\n",
    "\n",
    "---"
   ]
  },
  {
   "cell_type": "code",
   "execution_count": 13,
   "metadata": {
    "hidden": true
   },
   "outputs": [
    {
     "data": {
      "text/plain": [
       "(975, 2)"
      ]
     },
     "execution_count": 13,
     "metadata": {},
     "output_type": "execute_result"
    }
   ],
   "source": [
    "X_title = df2[['summary', 'description']]\n",
    "X_title.shape"
   ]
  },
  {
   "cell_type": "code",
   "execution_count": 14,
   "metadata": {
    "hidden": true
   },
   "outputs": [
    {
     "data": {
      "text/plain": [
       "(975, 1)"
      ]
     },
     "execution_count": 14,
     "metadata": {},
     "output_type": "execute_result"
    }
   ],
   "source": [
    "y_title = df2[['title']]\n",
    "y_title.shape"
   ]
  },
  {
   "cell_type": "markdown",
   "metadata": {
    "heading_collapsed": true,
    "hidden": true
   },
   "source": [
    "### Summary"
   ]
  },
  {
   "cell_type": "markdown",
   "metadata": {
    "hidden": true
   },
   "source": [
    "---\n",
    "Now I need to create a count vectorizer to count ngrams within the summary. As with part 1, I will be using an ngram range of 1 to 3 words. I will limit the count vectorizer to ngrams that appear in at least 2.5% of the records.\n",
    "\n",
    "---"
   ]
  },
  {
   "cell_type": "code",
   "execution_count": 15,
   "metadata": {
    "hidden": true
   },
   "outputs": [
    {
     "data": {
      "text/plain": [
       "CountVectorizer(analyzer='word', binary=False, decode_error='strict',\n",
       "        dtype=<class 'numpy.int64'>, encoding='utf-8', input='content',\n",
       "        lowercase=True, max_df=1.0, max_features=None, min_df=0.025,\n",
       "        ngram_range=(1, 3), preprocessor=None, stop_words='english',\n",
       "        strip_accents=None, token_pattern='(?u)\\\\b\\\\w\\\\w+\\\\b',\n",
       "        tokenizer=None, vocabulary=None)"
      ]
     },
     "execution_count": 15,
     "metadata": {},
     "output_type": "execute_result"
    }
   ],
   "source": [
    "cvec = CountVectorizer(stop_words='english', ngram_range=(1, 3), min_df=0.025, analyzer='word')\n",
    "cvec.fit(X_title['summary'])"
   ]
  },
  {
   "cell_type": "code",
   "execution_count": 16,
   "metadata": {
    "hidden": true
   },
   "outputs": [],
   "source": [
    "summary_words = pd.DataFrame(cvec.transform(X_title['summary']).todense(), columns=cvec.get_feature_names())"
   ]
  },
  {
   "cell_type": "code",
   "execution_count": 17,
   "metadata": {
    "hidden": true
   },
   "outputs": [
    {
     "data": {
      "text/plain": [
       "(975, 114)"
      ]
     },
     "execution_count": 17,
     "metadata": {},
     "output_type": "execute_result"
    }
   ],
   "source": [
    "summary_words.shape"
   ]
  },
  {
   "cell_type": "code",
   "execution_count": 18,
   "metadata": {
    "hidden": true
   },
   "outputs": [
    {
     "data": {
      "text/html": [
       "<div>\n",
       "<style scoped>\n",
       "    .dataframe tbody tr th:only-of-type {\n",
       "        vertical-align: middle;\n",
       "    }\n",
       "\n",
       "    .dataframe tbody tr th {\n",
       "        vertical-align: top;\n",
       "    }\n",
       "\n",
       "    .dataframe thead th {\n",
       "        text-align: right;\n",
       "    }\n",
       "</style>\n",
       "<table border=\"1\" class=\"dataframe\">\n",
       "  <thead>\n",
       "    <tr style=\"text-align: right;\">\n",
       "      <th></th>\n",
       "      <th>ability</th>\n",
       "      <th>agile</th>\n",
       "      <th>analyse</th>\n",
       "      <th>analysis</th>\n",
       "      <th>analyst</th>\n",
       "      <th>analyst experience</th>\n",
       "      <th>analyst join</th>\n",
       "      <th>analyst role</th>\n",
       "      <th>analysts</th>\n",
       "      <th>analytics</th>\n",
       "      <th>...</th>\n",
       "      <th>technical business analyst</th>\n",
       "      <th>technology</th>\n",
       "      <th>understanding</th>\n",
       "      <th>work</th>\n",
       "      <th>working</th>\n",
       "      <th>working business</th>\n",
       "      <th>years</th>\n",
       "      <th>years experience</th>\n",
       "      <th>years experience business</th>\n",
       "      <th>title</th>\n",
       "    </tr>\n",
       "  </thead>\n",
       "  <tbody>\n",
       "    <tr>\n",
       "      <th>0</th>\n",
       "      <td>0.0</td>\n",
       "      <td>0.0</td>\n",
       "      <td>0.0</td>\n",
       "      <td>0.0</td>\n",
       "      <td>0.0</td>\n",
       "      <td>0.0</td>\n",
       "      <td>0.0</td>\n",
       "      <td>0.0</td>\n",
       "      <td>0.0</td>\n",
       "      <td>0.0</td>\n",
       "      <td>...</td>\n",
       "      <td>0.0</td>\n",
       "      <td>0.0</td>\n",
       "      <td>0.0</td>\n",
       "      <td>1.0</td>\n",
       "      <td>0.0</td>\n",
       "      <td>0.0</td>\n",
       "      <td>0.0</td>\n",
       "      <td>0.0</td>\n",
       "      <td>0.0</td>\n",
       "      <td>1.0</td>\n",
       "    </tr>\n",
       "    <tr>\n",
       "      <th>1</th>\n",
       "      <td>0.0</td>\n",
       "      <td>0.0</td>\n",
       "      <td>0.0</td>\n",
       "      <td>0.0</td>\n",
       "      <td>0.0</td>\n",
       "      <td>0.0</td>\n",
       "      <td>0.0</td>\n",
       "      <td>0.0</td>\n",
       "      <td>0.0</td>\n",
       "      <td>0.0</td>\n",
       "      <td>...</td>\n",
       "      <td>0.0</td>\n",
       "      <td>0.0</td>\n",
       "      <td>0.0</td>\n",
       "      <td>0.0</td>\n",
       "      <td>0.0</td>\n",
       "      <td>0.0</td>\n",
       "      <td>0.0</td>\n",
       "      <td>0.0</td>\n",
       "      <td>0.0</td>\n",
       "      <td>1.0</td>\n",
       "    </tr>\n",
       "    <tr>\n",
       "      <th>2</th>\n",
       "      <td>0.0</td>\n",
       "      <td>0.0</td>\n",
       "      <td>0.0</td>\n",
       "      <td>0.0</td>\n",
       "      <td>0.0</td>\n",
       "      <td>0.0</td>\n",
       "      <td>0.0</td>\n",
       "      <td>0.0</td>\n",
       "      <td>0.0</td>\n",
       "      <td>0.0</td>\n",
       "      <td>...</td>\n",
       "      <td>0.0</td>\n",
       "      <td>0.0</td>\n",
       "      <td>0.0</td>\n",
       "      <td>0.0</td>\n",
       "      <td>0.0</td>\n",
       "      <td>0.0</td>\n",
       "      <td>0.0</td>\n",
       "      <td>0.0</td>\n",
       "      <td>0.0</td>\n",
       "      <td>NaN</td>\n",
       "    </tr>\n",
       "    <tr>\n",
       "      <th>3</th>\n",
       "      <td>0.0</td>\n",
       "      <td>0.0</td>\n",
       "      <td>0.0</td>\n",
       "      <td>0.0</td>\n",
       "      <td>0.0</td>\n",
       "      <td>0.0</td>\n",
       "      <td>0.0</td>\n",
       "      <td>0.0</td>\n",
       "      <td>0.0</td>\n",
       "      <td>1.0</td>\n",
       "      <td>...</td>\n",
       "      <td>0.0</td>\n",
       "      <td>0.0</td>\n",
       "      <td>0.0</td>\n",
       "      <td>0.0</td>\n",
       "      <td>0.0</td>\n",
       "      <td>0.0</td>\n",
       "      <td>0.0</td>\n",
       "      <td>0.0</td>\n",
       "      <td>0.0</td>\n",
       "      <td>1.0</td>\n",
       "    </tr>\n",
       "    <tr>\n",
       "      <th>4</th>\n",
       "      <td>0.0</td>\n",
       "      <td>0.0</td>\n",
       "      <td>0.0</td>\n",
       "      <td>0.0</td>\n",
       "      <td>0.0</td>\n",
       "      <td>0.0</td>\n",
       "      <td>0.0</td>\n",
       "      <td>0.0</td>\n",
       "      <td>0.0</td>\n",
       "      <td>0.0</td>\n",
       "      <td>...</td>\n",
       "      <td>0.0</td>\n",
       "      <td>0.0</td>\n",
       "      <td>0.0</td>\n",
       "      <td>0.0</td>\n",
       "      <td>0.0</td>\n",
       "      <td>0.0</td>\n",
       "      <td>0.0</td>\n",
       "      <td>0.0</td>\n",
       "      <td>0.0</td>\n",
       "      <td>1.0</td>\n",
       "    </tr>\n",
       "  </tbody>\n",
       "</table>\n",
       "<p>5 rows × 115 columns</p>\n",
       "</div>"
      ],
      "text/plain": [
       "   ability  agile  analyse  analysis  analyst  analyst experience  \\\n",
       "0      0.0    0.0      0.0       0.0      0.0                 0.0   \n",
       "1      0.0    0.0      0.0       0.0      0.0                 0.0   \n",
       "2      0.0    0.0      0.0       0.0      0.0                 0.0   \n",
       "3      0.0    0.0      0.0       0.0      0.0                 0.0   \n",
       "4      0.0    0.0      0.0       0.0      0.0                 0.0   \n",
       "\n",
       "   analyst join  analyst role  analysts  analytics  ...    \\\n",
       "0           0.0           0.0       0.0        0.0  ...     \n",
       "1           0.0           0.0       0.0        0.0  ...     \n",
       "2           0.0           0.0       0.0        0.0  ...     \n",
       "3           0.0           0.0       0.0        1.0  ...     \n",
       "4           0.0           0.0       0.0        0.0  ...     \n",
       "\n",
       "   technical business analyst  technology  understanding  work  working  \\\n",
       "0                         0.0         0.0            0.0   1.0      0.0   \n",
       "1                         0.0         0.0            0.0   0.0      0.0   \n",
       "2                         0.0         0.0            0.0   0.0      0.0   \n",
       "3                         0.0         0.0            0.0   0.0      0.0   \n",
       "4                         0.0         0.0            0.0   0.0      0.0   \n",
       "\n",
       "   working business  years  years experience  years experience business  title  \n",
       "0               0.0    0.0               0.0                        0.0    1.0  \n",
       "1               0.0    0.0               0.0                        0.0    1.0  \n",
       "2               0.0    0.0               0.0                        0.0    NaN  \n",
       "3               0.0    0.0               0.0                        0.0    1.0  \n",
       "4               0.0    0.0               0.0                        0.0    1.0  \n",
       "\n",
       "[5 rows x 115 columns]"
      ]
     },
     "execution_count": 18,
     "metadata": {},
     "output_type": "execute_result"
    }
   ],
   "source": [
    "summary_words = pd.concat([summary_words, y_title], axis=1)\n",
    "summary_words.head()"
   ]
  },
  {
   "cell_type": "code",
   "execution_count": 19,
   "metadata": {
    "hidden": true
   },
   "outputs": [
    {
     "name": "stdout",
     "output_type": "stream",
     "text": [
      "Word count for 0 (business analyst):\n",
      "\n",
      "business                        232.0\n",
      "data                            176.0\n",
      "analyst                         136.0\n",
      "business analyst                124.0\n",
      "experience                       69.0\n",
      "analysis                         33.0\n",
      "requirements                     24.0\n",
      "role                             24.0\n",
      "senior                           23.0\n",
      "looking                          23.0\n",
      "experience business              22.0\n",
      "years                            22.0\n",
      "experience business analyst      20.0\n",
      "projects                         20.0\n",
      "technical                        19.0\n",
      "team                             19.0\n",
      "process                          17.0\n",
      "analytics                        16.0\n",
      "client                           16.0\n",
      "experienced                      16.0\n",
      "working                          16.0\n",
      "work                             16.0\n",
      "systems                          14.0\n",
      "leading                          14.0\n",
      "skills                           14.0\n",
      "senior business analyst          14.0\n",
      "senior business                  14.0\n",
      "strong                           13.0\n",
      "business analysis                13.0\n",
      "join                             13.0\n",
      "                                ...  \n",
      "insights                          5.0\n",
      "modelling                         5.0\n",
      "including                         5.0\n",
      "digital                           5.0\n",
      "design                            5.0\n",
      "experienced business analyst      4.0\n",
      "technology                        4.0\n",
      "services                          4.0\n",
      "business analyst experience       4.0\n",
      "large                             4.0\n",
      "experienced business              4.0\n",
      "commercial                        4.0\n",
      "analyse                           4.0\n",
      "business analysts                 3.0\n",
      "industry                          3.0\n",
      "new                               3.0\n",
      "sydney                            3.0\n",
      "big data                          3.0\n",
      "develop                           3.0\n",
      "excellent                         3.0\n",
      "proven                            2.0\n",
      "business processes                2.0\n",
      "highly                            2.0\n",
      "company                           2.0\n",
      "ability                           1.0\n",
      "government                        1.0\n",
      "migration                         1.0\n",
      "previous                          1.0\n",
      "understanding                     1.0\n",
      "title                             0.0\n",
      "Length: 115, dtype: float64\n",
      "\n",
      "\n",
      "Word count for 1 (data scientist):\n",
      "\n",
      "title                          133.0\n",
      "business                        83.0\n",
      "analyst                         42.0\n",
      "data                            39.0\n",
      "business analyst                37.0\n",
      "experience                      16.0\n",
      "analysis                        11.0\n",
      "looking                          9.0\n",
      "technical                        8.0\n",
      "data scientist                   7.0\n",
      "requirements                     7.0\n",
      "scientist                        7.0\n",
      "industry                         7.0\n",
      "analytics                        6.0\n",
      "experienced                      6.0\n",
      "technical business analyst       6.0\n",
      "senior                           6.0\n",
      "experience business              6.0\n",
      "technical business               6.0\n",
      "strong                           5.0\n",
      "skills                           5.0\n",
      "seeking                          5.0\n",
      "role                             5.0\n",
      "process                          5.0\n",
      "key                              4.0\n",
      "experience business analyst      4.0\n",
      "understanding                    4.0\n",
      "working                          4.0\n",
      "financial                        4.0\n",
      "excellent                        4.0\n",
      "                               ...  \n",
      "analyst join                     1.0\n",
      "based                            1.0\n",
      "analysts                         1.0\n",
      "years experience business        1.0\n",
      "complex                          1.0\n",
      "required                         1.0\n",
      "data analysis                    1.0\n",
      "highly                           1.0\n",
      "extensive                        1.0\n",
      "large                            1.0\n",
      "management                       1.0\n",
      "migration                        1.0\n",
      "digital                          1.0\n",
      "data analytics                   1.0\n",
      "ability                          1.0\n",
      "customer                         1.0\n",
      "quality                          1.0\n",
      "contract                         1.0\n",
      "including                        1.0\n",
      "provide                          0.0\n",
      "project                          0.0\n",
      "services                         0.0\n",
      "background                       0.0\n",
      "business analyst role            0.0\n",
      "analyst role                     0.0\n",
      "business analysts                0.0\n",
      "functional                       0.0\n",
      "government                       0.0\n",
      "agile                            0.0\n",
      "previous                         0.0\n",
      "Length: 115, dtype: float64\n"
     ]
    }
   ],
   "source": [
    "summary_count_business = summary_words[summary_words['title'] == 0].sum()\n",
    "print ('Word count for 0 (business analyst):\\n')\n",
    "print (summary_count_business.sort_values(ascending = False))\n",
    "\n",
    "print ('\\n')\n",
    "\n",
    "summary_count_data = summary_words[summary_words['title'] == 1].sum()\n",
    "print ('Word count for 1 (data scientist):\\n')\n",
    "print (summary_count_data.sort_values(ascending = False))"
   ]
  },
  {
   "cell_type": "code",
   "execution_count": 20,
   "metadata": {
    "hidden": true
   },
   "outputs": [
    {
     "data": {
      "text/plain": [
       "title                                inf\n",
       "understanding                   4.000000\n",
       "industry                        2.333333\n",
       "company                         1.500000\n",
       "excellent                       1.333333\n",
       "proven                          1.000000\n",
       "develop                         1.000000\n",
       "migration                       1.000000\n",
       "ability                         1.000000\n",
       "technology                      0.750000\n",
       "seeking                         0.714286\n",
       "new                             0.666667\n",
       "key                             0.666667\n",
       "technical business analyst      0.600000\n",
       "modelling                       0.600000\n",
       "scientist                       0.583333\n",
       "data scientist                  0.583333\n",
       "business requirements           0.571429\n",
       "financial                       0.571429\n",
       "technical business              0.545455\n",
       "knowledge                       0.500000\n",
       "highly                          0.500000\n",
       "experienced business analyst    0.500000\n",
       "experienced business            0.500000\n",
       "commercial                      0.500000\n",
       "business processes              0.500000\n",
       "business analyst experience     0.500000\n",
       "technical                       0.421053\n",
       "working business                0.400000\n",
       "design                          0.400000\n",
       "                                  ...   \n",
       "work                            0.187500\n",
       "mapping                         0.181818\n",
       "quality                         0.166667\n",
       "complex                         0.166667\n",
       "contract                        0.166667\n",
       "years experience business       0.166667\n",
       "join                            0.153846\n",
       "data analysis                   0.142857\n",
       "big                             0.142857\n",
       "customer                        0.125000\n",
       "business analyst join           0.125000\n",
       "data analytics                  0.125000\n",
       "analyst join                    0.125000\n",
       "team                            0.105263\n",
       "extensive                       0.100000\n",
       "management                      0.090909\n",
       "years experience                0.090909\n",
       "solutions                       0.090909\n",
       "years                           0.090909\n",
       "services                        0.000000\n",
       "background                      0.000000\n",
       "functional                      0.000000\n",
       "provide                         0.000000\n",
       "analyst role                    0.000000\n",
       "business analyst role           0.000000\n",
       "business analysts               0.000000\n",
       "previous                        0.000000\n",
       "project                         0.000000\n",
       "agile                           0.000000\n",
       "government                      0.000000\n",
       "Name: ratio, Length: 115, dtype: float64"
      ]
     },
     "execution_count": 20,
     "metadata": {},
     "output_type": "execute_result"
    }
   ],
   "source": [
    "summary_count_compare = pd.DataFrame([summary_count_business, summary_count_data]).T\n",
    "summary_count_compare[\"ratio\"] = summary_count_compare[1]/summary_count_compare[0]\n",
    "summary_count_compare.ratio.sort_values(ascending=False)"
   ]
  },
  {
   "cell_type": "markdown",
   "metadata": {
    "hidden": true
   },
   "source": [
    "---\n",
    "As with part 1, I will only be picking specfic ngrams that have some relevance to the job. Ngrams with a high ratio are more associated with data scientist jobs whereas ngrams with a low ratio are associated with business analyst roles.\n",
    "\n",
    "---"
   ]
  },
  {
   "cell_type": "markdown",
   "metadata": {
    "hidden": true
   },
   "source": [
    "I will use ngrams with a ratio above 1 for data science summary (understanding, industry, excellent, proven, develop, migration, ability).\n",
    "<br>Ngrams below 0.1 are business analyst summaries (management, years experience, solutions, years, services, background, functional, analyst role, business analysts, project, agile, government).\n",
    "<br><br>The summary data suggests that roles asking for understanding and ability are more likely to be data scientist jobs. However, business analyst jobs seem to ask more for experience and roles in management and services.\n",
    "\n",
    "---"
   ]
  },
  {
   "cell_type": "markdown",
   "metadata": {
    "heading_collapsed": true,
    "hidden": true
   },
   "source": [
    "### Description"
   ]
  },
  {
   "cell_type": "code",
   "execution_count": 21,
   "metadata": {
    "hidden": true
   },
   "outputs": [
    {
     "data": {
      "text/plain": [
       "CountVectorizer(analyzer='word', binary=False, decode_error='strict',\n",
       "        dtype=<class 'numpy.int64'>, encoding='utf-8', input='content',\n",
       "        lowercase=True, max_df=0.75, max_features=None, min_df=0.15,\n",
       "        ngram_range=(1, 3), preprocessor=None, stop_words='english',\n",
       "        strip_accents=None, token_pattern='(?u)\\\\b\\\\w\\\\w+\\\\b',\n",
       "        tokenizer=None, vocabulary=None)"
      ]
     },
     "execution_count": 21,
     "metadata": {},
     "output_type": "execute_result"
    }
   ],
   "source": [
    "# Now create a count vectorizer for description. Description contains a lot more words to limit vectorizer to ngrams in at least 15% of dataframe and at most 75% of dataframe.\n",
    "cvec = CountVectorizer(stop_words='english', ngram_range=(1, 3), min_df=0.15, max_df=0.75, analyzer='word')\n",
    "cvec.fit(X_title['description'])"
   ]
  },
  {
   "cell_type": "code",
   "execution_count": 22,
   "metadata": {
    "hidden": true
   },
   "outputs": [],
   "source": [
    "description_words = pd.DataFrame(cvec.transform(X_title['description']).todense(), columns=cvec.get_feature_names())"
   ]
  },
  {
   "cell_type": "code",
   "execution_count": 23,
   "metadata": {
    "hidden": true
   },
   "outputs": [
    {
     "data": {
      "text/plain": [
       "(975, 503)"
      ]
     },
     "execution_count": 23,
     "metadata": {},
     "output_type": "execute_result"
    }
   ],
   "source": [
    "description_words.shape"
   ]
  },
  {
   "cell_type": "code",
   "execution_count": 24,
   "metadata": {
    "hidden": true
   },
   "outputs": [
    {
     "data": {
      "text/html": [
       "<div>\n",
       "<style scoped>\n",
       "    .dataframe tbody tr th:only-of-type {\n",
       "        vertical-align: middle;\n",
       "    }\n",
       "\n",
       "    .dataframe tbody tr th {\n",
       "        vertical-align: top;\n",
       "    }\n",
       "\n",
       "    .dataframe thead th {\n",
       "        text-align: right;\n",
       "    }\n",
       "</style>\n",
       "<table border=\"1\" class=\"dataframe\">\n",
       "  <thead>\n",
       "    <tr style=\"text-align: right;\">\n",
       "      <th></th>\n",
       "      <th>10</th>\n",
       "      <th>11</th>\n",
       "      <th>12</th>\n",
       "      <th>12 hours</th>\n",
       "      <th>12 hours ago</th>\n",
       "      <th>14</th>\n",
       "      <th>14 hours</th>\n",
       "      <th>14 hours ago</th>\n",
       "      <th>15</th>\n",
       "      <th>17</th>\n",
       "      <th>...</th>\n",
       "      <th>window document location</th>\n",
       "      <th>window ia</th>\n",
       "      <th>window ia var</th>\n",
       "      <th>work</th>\n",
       "      <th>working</th>\n",
       "      <th>workshops</th>\n",
       "      <th>written</th>\n",
       "      <th>years</th>\n",
       "      <th>years experience</th>\n",
       "      <th>title</th>\n",
       "    </tr>\n",
       "  </thead>\n",
       "  <tbody>\n",
       "    <tr>\n",
       "      <th>0</th>\n",
       "      <td>1.0</td>\n",
       "      <td>0.0</td>\n",
       "      <td>1.0</td>\n",
       "      <td>1.0</td>\n",
       "      <td>1.0</td>\n",
       "      <td>0.0</td>\n",
       "      <td>0.0</td>\n",
       "      <td>0.0</td>\n",
       "      <td>0.0</td>\n",
       "      <td>0.0</td>\n",
       "      <td>...</td>\n",
       "      <td>1.0</td>\n",
       "      <td>1.0</td>\n",
       "      <td>1.0</td>\n",
       "      <td>1.0</td>\n",
       "      <td>2.0</td>\n",
       "      <td>0.0</td>\n",
       "      <td>0.0</td>\n",
       "      <td>0.0</td>\n",
       "      <td>0.0</td>\n",
       "      <td>1.0</td>\n",
       "    </tr>\n",
       "    <tr>\n",
       "      <th>1</th>\n",
       "      <td>0.0</td>\n",
       "      <td>0.0</td>\n",
       "      <td>1.0</td>\n",
       "      <td>1.0</td>\n",
       "      <td>1.0</td>\n",
       "      <td>1.0</td>\n",
       "      <td>1.0</td>\n",
       "      <td>1.0</td>\n",
       "      <td>0.0</td>\n",
       "      <td>0.0</td>\n",
       "      <td>...</td>\n",
       "      <td>1.0</td>\n",
       "      <td>1.0</td>\n",
       "      <td>1.0</td>\n",
       "      <td>2.0</td>\n",
       "      <td>2.0</td>\n",
       "      <td>0.0</td>\n",
       "      <td>0.0</td>\n",
       "      <td>0.0</td>\n",
       "      <td>0.0</td>\n",
       "      <td>1.0</td>\n",
       "    </tr>\n",
       "    <tr>\n",
       "      <th>2</th>\n",
       "      <td>0.0</td>\n",
       "      <td>0.0</td>\n",
       "      <td>1.0</td>\n",
       "      <td>1.0</td>\n",
       "      <td>1.0</td>\n",
       "      <td>1.0</td>\n",
       "      <td>1.0</td>\n",
       "      <td>1.0</td>\n",
       "      <td>2.0</td>\n",
       "      <td>0.0</td>\n",
       "      <td>...</td>\n",
       "      <td>1.0</td>\n",
       "      <td>1.0</td>\n",
       "      <td>1.0</td>\n",
       "      <td>0.0</td>\n",
       "      <td>2.0</td>\n",
       "      <td>0.0</td>\n",
       "      <td>0.0</td>\n",
       "      <td>0.0</td>\n",
       "      <td>0.0</td>\n",
       "      <td>NaN</td>\n",
       "    </tr>\n",
       "    <tr>\n",
       "      <th>3</th>\n",
       "      <td>3.0</td>\n",
       "      <td>0.0</td>\n",
       "      <td>1.0</td>\n",
       "      <td>1.0</td>\n",
       "      <td>1.0</td>\n",
       "      <td>1.0</td>\n",
       "      <td>1.0</td>\n",
       "      <td>1.0</td>\n",
       "      <td>0.0</td>\n",
       "      <td>0.0</td>\n",
       "      <td>...</td>\n",
       "      <td>1.0</td>\n",
       "      <td>1.0</td>\n",
       "      <td>1.0</td>\n",
       "      <td>1.0</td>\n",
       "      <td>1.0</td>\n",
       "      <td>0.0</td>\n",
       "      <td>0.0</td>\n",
       "      <td>0.0</td>\n",
       "      <td>0.0</td>\n",
       "      <td>1.0</td>\n",
       "    </tr>\n",
       "    <tr>\n",
       "      <th>4</th>\n",
       "      <td>0.0</td>\n",
       "      <td>0.0</td>\n",
       "      <td>1.0</td>\n",
       "      <td>1.0</td>\n",
       "      <td>1.0</td>\n",
       "      <td>0.0</td>\n",
       "      <td>0.0</td>\n",
       "      <td>0.0</td>\n",
       "      <td>0.0</td>\n",
       "      <td>0.0</td>\n",
       "      <td>...</td>\n",
       "      <td>1.0</td>\n",
       "      <td>1.0</td>\n",
       "      <td>1.0</td>\n",
       "      <td>0.0</td>\n",
       "      <td>0.0</td>\n",
       "      <td>0.0</td>\n",
       "      <td>0.0</td>\n",
       "      <td>1.0</td>\n",
       "      <td>1.0</td>\n",
       "      <td>1.0</td>\n",
       "    </tr>\n",
       "  </tbody>\n",
       "</table>\n",
       "<p>5 rows × 504 columns</p>\n",
       "</div>"
      ],
      "text/plain": [
       "    10   11   12  12 hours  12 hours ago   14  14 hours  14 hours ago   15  \\\n",
       "0  1.0  0.0  1.0       1.0           1.0  0.0       0.0           0.0  0.0   \n",
       "1  0.0  0.0  1.0       1.0           1.0  1.0       1.0           1.0  0.0   \n",
       "2  0.0  0.0  1.0       1.0           1.0  1.0       1.0           1.0  2.0   \n",
       "3  3.0  0.0  1.0       1.0           1.0  1.0       1.0           1.0  0.0   \n",
       "4  0.0  0.0  1.0       1.0           1.0  0.0       0.0           0.0  0.0   \n",
       "\n",
       "    17  ...    window document location  window ia  window ia var  work  \\\n",
       "0  0.0  ...                         1.0        1.0            1.0   1.0   \n",
       "1  0.0  ...                         1.0        1.0            1.0   2.0   \n",
       "2  0.0  ...                         1.0        1.0            1.0   0.0   \n",
       "3  0.0  ...                         1.0        1.0            1.0   1.0   \n",
       "4  0.0  ...                         1.0        1.0            1.0   0.0   \n",
       "\n",
       "   working  workshops  written  years  years experience  title  \n",
       "0      2.0        0.0      0.0    0.0               0.0    1.0  \n",
       "1      2.0        0.0      0.0    0.0               0.0    1.0  \n",
       "2      2.0        0.0      0.0    0.0               0.0    NaN  \n",
       "3      1.0        0.0      0.0    0.0               0.0    1.0  \n",
       "4      0.0        0.0      0.0    1.0               1.0    1.0  \n",
       "\n",
       "[5 rows x 504 columns]"
      ]
     },
     "execution_count": 24,
     "metadata": {},
     "output_type": "execute_result"
    }
   ],
   "source": [
    "description_words = pd.concat([description_words, y_title], axis=1)\n",
    "description_words.head()"
   ]
  },
  {
   "cell_type": "code",
   "execution_count": 25,
   "metadata": {
    "hidden": true
   },
   "outputs": [
    {
     "name": "stdout",
     "output_type": "stream",
     "text": [
      "Word count for 0 (business analyst):\n",
      "\n",
      "nsw                        656.0\n",
      "sydney                     643.0\n",
      "sydney nsw                 530.0\n",
      "document                   344.0\n",
      "work                       336.0\n",
      "hours                      328.0\n",
      "melbourne                  325.0\n",
      "hours ago                  323.0\n",
      "requirements               319.0\n",
      "vic                        299.0\n",
      "team                       281.0\n",
      "working                    279.0\n",
      "analysis                   276.0\n",
      "melbourne vic              276.0\n",
      "technical                  261.0\n",
      "project                    255.0\n",
      "recjoblink                 255.0\n",
      "var                        229.0\n",
      "senior                     221.0\n",
      "ia                         216.0\n",
      "management                 207.0\n",
      "strong                     205.0\n",
      "value                      202.0\n",
      "ago business               201.0\n",
      "development                196.0\n",
      "ago business analyst       192.0\n",
      "days ago easily            187.0\n",
      "process                    172.0\n",
      "projects                   171.0\n",
      "australia                  169.0\n",
      "                           ...  \n",
      "11                          31.0\n",
      "performance                 31.0\n",
      "au day ago                  31.0\n",
      "au day                      31.0\n",
      "page au day                 30.0\n",
      "analyst junior              29.0\n",
      "developing                  29.0\n",
      "essential                   29.0\n",
      "description                 29.0\n",
      "analyst financial           28.0\n",
      "business analyst huxley     28.0\n",
      "18                          28.0\n",
      "exciting                    28.0\n",
      "analyst huxley supply       28.0\n",
      "analyst huxley              28.0\n",
      "18 hours ago                27.0\n",
      "18 hours                    27.0\n",
      "15                          26.0\n",
      "cv                          26.0\n",
      "like senior                 26.0\n",
      "gathering                   26.0\n",
      "initiatives                 26.0\n",
      "jobs like senior            26.0\n",
      "resume                      25.0\n",
      "number                      25.0\n",
      "workshops                   23.0\n",
      "government                  22.0\n",
      "click                       22.0\n",
      "strategic                   21.0\n",
      "title                        0.0\n",
      "Length: 504, dtype: float64\n",
      "\n",
      "\n",
      "Word count for 1 (data scientist):\n",
      "\n",
      "title                      133.0\n",
      "nsw                        118.0\n",
      "melbourne                  116.0\n",
      "sydney                     107.0\n",
      "vic                        105.0\n",
      "melbourne vic               95.0\n",
      "technical                   84.0\n",
      "document                    80.0\n",
      "analysis                    80.0\n",
      "requirements                80.0\n",
      "senior                      77.0\n",
      "recjoblink                  75.0\n",
      "sydney nsw                  74.0\n",
      "team                        73.0\n",
      "page                        69.0\n",
      "michael page                67.0\n",
      "michael                     67.0\n",
      "days ago easily             66.0\n",
      "ago business                66.0\n",
      "work                        64.0\n",
      "ago business analyst        64.0\n",
      "working                     62.0\n",
      "30                          60.0\n",
      "australia                   59.0\n",
      "strong                      59.0\n",
      "30 days                     59.0\n",
      "30 days ago                 59.0\n",
      "var                         59.0\n",
      "financial                   56.0\n",
      "analytics                   55.0\n",
      "                           ...  \n",
      "district nsw                 6.0\n",
      "sydney central               6.0\n",
      "sydney central business      6.0\n",
      "business district nsw        6.0\n",
      "executive                    5.0\n",
      "page au day                  5.0\n",
      "specialist                   5.0\n",
      "jobs sydney nsw              5.0\n",
      "au day                       5.0\n",
      "au day ago                   5.0\n",
      "mid                          5.0\n",
      "mid level                    4.0\n",
      "sydney nsw jobs              4.0\n",
      "recruitment sydney nsw       4.0\n",
      "business analyst sql         4.0\n",
      "11                           3.0\n",
      "nsw paxus                    3.0\n",
      "sydney nsw paxus             3.0\n",
      "paxus sydney nsw             3.0\n",
      "paxus sydney                 3.0\n",
      "nsw paxus australia          3.0\n",
      "analysts                     3.0\n",
      "australia sydney nsw         2.0\n",
      "australia sydney             2.0\n",
      "analyst junior               2.0\n",
      "business analyst huxley      1.0\n",
      "analyst huxley supply        1.0\n",
      "executive sydney nsw         1.0\n",
      "executive sydney             1.0\n",
      "analyst huxley               1.0\n",
      "Length: 504, dtype: float64\n"
     ]
    }
   ],
   "source": [
    "description_count_business = description_words[description_words['title'] == 0].sum()\n",
    "print ('Word count for 0 (business analyst):\\n')\n",
    "print (description_count_business.sort_values(ascending = False))\n",
    "\n",
    "print ('\\n')\n",
    "\n",
    "description_count_data = description_words[description_words['title'] == 1].sum()\n",
    "print ('Word count for 1 (data scientist):\\n')\n",
    "print (description_count_data.sort_values(ascending = False))"
   ]
  },
  {
   "cell_type": "code",
   "execution_count": 26,
   "metadata": {
    "hidden": true
   },
   "outputs": [
    {
     "data": {
      "text/plain": [
       "title                           inf\n",
       "sap                        1.066667\n",
       "strategic                  1.047619\n",
       "click                      0.909091\n",
       "lead                       0.882353\n",
       "insights                   0.804348\n",
       "advanced                   0.714286\n",
       "government                 0.636364\n",
       "days ago business          0.621622\n",
       "engagement                 0.606061\n",
       "need                       0.577778\n",
       "highly                     0.576271\n",
       "key                        0.567010\n",
       "ba                         0.564103\n",
       "resume                     0.560000\n",
       "modelling                  0.553846\n",
       "10                         0.540541\n",
       "cv                         0.538462\n",
       "include                    0.533333\n",
       "techniques                 0.521739\n",
       "developing                 0.517241\n",
       "page                       0.511111\n",
       "analytics                  0.509259\n",
       "michael page               0.503759\n",
       "initiatives                0.500000\n",
       "page au                    0.500000\n",
       "michael page au            0.500000\n",
       "applications               0.500000\n",
       "gathering                  0.500000\n",
       "michael                    0.492647\n",
       "                             ...   \n",
       "sydney nsw 12              0.112676\n",
       "12 hours                   0.108108\n",
       "12 hours ago               0.108108\n",
       "chain sydney nsw           0.103896\n",
       "supply chain sydney        0.102564\n",
       "chain sydney               0.102564\n",
       "huxley supply chain        0.101266\n",
       "huxley supply              0.101266\n",
       "sydney nsw jobs            0.100000\n",
       "district nsw               0.098361\n",
       "business district nsw      0.098361\n",
       "sydney central business    0.098361\n",
       "sydney central             0.098361\n",
       "sydney nsw paxus           0.096774\n",
       "nsw paxus                  0.096774\n",
       "nsw paxus australia        0.096774\n",
       "11                         0.096774\n",
       "executive                  0.096154\n",
       "recruitment sydney nsw     0.095238\n",
       "paxus sydney nsw           0.088235\n",
       "paxus sydney               0.088235\n",
       "analysts                   0.083333\n",
       "analyst junior             0.068966\n",
       "australia sydney           0.055556\n",
       "australia sydney nsw       0.055556\n",
       "analyst huxley             0.035714\n",
       "analyst huxley supply      0.035714\n",
       "business analyst huxley    0.035714\n",
       "executive sydney           0.027778\n",
       "executive sydney nsw       0.027778\n",
       "Name: ratio, Length: 504, dtype: float64"
      ]
     },
     "execution_count": 26,
     "metadata": {},
     "output_type": "execute_result"
    }
   ],
   "source": [
    "#creating as dataframe, using method \".T\" to transpose columns with index.\n",
    "description_count_compare = pd.DataFrame([description_count_business, description_count_data]).T\n",
    "#creating a \"ratio\" column to determine frequency of words associated with above median jobs vs. below median jobs\n",
    "description_count_compare[\"ratio\"] = description_count_compare[1]/description_count_compare[0]\n",
    "description_count_compare.ratio.sort_values(ascending=False)"
   ]
  },
  {
   "cell_type": "markdown",
   "metadata": {
    "hidden": true
   },
   "source": [
    "---\n",
    "The description count vectorizer produces a lot of ngrams that are irrelevant to whether the role is a data scientist or business analyst and contain many company names and locations. I will just be using words that have some relevance to the role itself. The range of the ratio is also quite low so it is possible that, when it comes to modelling, the description may not be a good feature to distinguish between data scientist jobs and business analyst jobs.\n",
    "\n",
    "---"
   ]
  },
  {
   "cell_type": "markdown",
   "metadata": {
    "hidden": true
   },
   "source": [
    "Ngrams above 0.55 are data scientist descriptions (sap, strategic, lead, insights, advanced, government, engagement, modelling).\n",
    "<br>Ngrams below 0.1 are business analyst descriptions (executive, analysts, analyst junior).\n",
    "<br><br>The description data suggests that roles requiring insights, modelling, and softwares like sap are more likely to be data scientist jobs. Business analyst descriptions ask more for analysts.\n",
    "\n",
    "---"
   ]
  },
  {
   "cell_type": "markdown",
   "metadata": {
    "heading_collapsed": true
   },
   "source": [
    "## Features"
   ]
  },
  {
   "cell_type": "markdown",
   "metadata": {
    "hidden": true
   },
   "source": [
    "---\n",
    "Now that I have chosen ngrams from the summary and description, I can create binary features.\n",
    "\n",
    "---"
   ]
  },
  {
   "cell_type": "markdown",
   "metadata": {
    "heading_collapsed": true,
    "hidden": true
   },
   "source": [
    "### Summary"
   ]
  },
  {
   "cell_type": "code",
   "execution_count": 27,
   "metadata": {
    "hidden": true
   },
   "outputs": [
    {
     "name": "stderr",
     "output_type": "stream",
     "text": [
      "/Applications/anaconda2/envs/py36/lib/python3.6/site-packages/ipykernel_launcher.py:1: SettingWithCopyWarning: \n",
      "A value is trying to be set on a copy of a slice from a DataFrame.\n",
      "Try using .loc[row_indexer,col_indexer] = value instead\n",
      "\n",
      "See the caveats in the documentation: http://pandas.pydata.org/pandas-docs/stable/indexing.html#indexing-view-versus-copy\n",
      "  \"\"\"Entry point for launching an IPython kernel.\n",
      "/Applications/anaconda2/envs/py36/lib/python3.6/site-packages/ipykernel_launcher.py:8: DeprecationWarning: \n",
      ".ix is deprecated. Please use\n",
      ".loc for label based indexing or\n",
      ".iloc for positional indexing\n",
      "\n",
      "See the documentation here:\n",
      "http://pandas.pydata.org/pandas-docs/stable/indexing.html#ix-indexer-is-deprecated\n",
      "  \n",
      "/Applications/anaconda2/envs/py36/lib/python3.6/site-packages/pandas/core/indexing.py:537: SettingWithCopyWarning: \n",
      "A value is trying to be set on a copy of a slice from a DataFrame.\n",
      "Try using .loc[row_indexer,col_indexer] = value instead\n",
      "\n",
      "See the caveats in the documentation: http://pandas.pydata.org/pandas-docs/stable/indexing.html#indexing-view-versus-copy\n",
      "  self.obj[item] = s\n",
      "/Applications/anaconda2/envs/py36/lib/python3.6/site-packages/ipykernel_launcher.py:11: SettingWithCopyWarning: \n",
      "A value is trying to be set on a copy of a slice from a DataFrame.\n",
      "Try using .loc[row_indexer,col_indexer] = value instead\n",
      "\n",
      "See the caveats in the documentation: http://pandas.pydata.org/pandas-docs/stable/indexing.html#indexing-view-versus-copy\n",
      "  # This is added back by InteractiveShellApp.init_path()\n"
     ]
    },
    {
     "data": {
      "text/html": [
       "<div>\n",
       "<style scoped>\n",
       "    .dataframe tbody tr th:only-of-type {\n",
       "        vertical-align: middle;\n",
       "    }\n",
       "\n",
       "    .dataframe tbody tr th {\n",
       "        vertical-align: top;\n",
       "    }\n",
       "\n",
       "    .dataframe thead th {\n",
       "        text-align: right;\n",
       "    }\n",
       "</style>\n",
       "<table border=\"1\" class=\"dataframe\">\n",
       "  <thead>\n",
       "    <tr style=\"text-align: right;\">\n",
       "      <th></th>\n",
       "      <th>location</th>\n",
       "      <th>title</th>\n",
       "      <th>company</th>\n",
       "      <th>summary</th>\n",
       "      <th>description</th>\n",
       "      <th>sal_above_mean</th>\n",
       "      <th>data_summary</th>\n",
       "      <th>business_summary</th>\n",
       "    </tr>\n",
       "  </thead>\n",
       "  <tbody>\n",
       "    <tr>\n",
       "      <th>0</th>\n",
       "      <td>sydney</td>\n",
       "      <td>1</td>\n",
       "      <td>correlate resources</td>\n",
       "      <td>work within a team of industry leading data sc...</td>\n",
       "      <td>our client is an industry pioneering customer ...</td>\n",
       "      <td>1.0</td>\n",
       "      <td>1</td>\n",
       "      <td>0</td>\n",
       "    </tr>\n",
       "    <tr>\n",
       "      <th>1</th>\n",
       "      <td>sydney</td>\n",
       "      <td>1</td>\n",
       "      <td>alloc8 recruitment solutions pty ltd</td>\n",
       "      <td>the need for 2 data scientist is paramount and...</td>\n",
       "      <td>the company   alloc8 have been fortunate enoug...</td>\n",
       "      <td>1.0</td>\n",
       "      <td>0</td>\n",
       "      <td>0</td>\n",
       "    </tr>\n",
       "    <tr>\n",
       "      <th>3</th>\n",
       "      <td>sydney</td>\n",
       "      <td>1</td>\n",
       "      <td>morgan mckinley</td>\n",
       "      <td>the time has come to step up and be counted as...</td>\n",
       "      <td>calling all senior data scientists      the ti...</td>\n",
       "      <td>1.0</td>\n",
       "      <td>0</td>\n",
       "      <td>0</td>\n",
       "    </tr>\n",
       "    <tr>\n",
       "      <th>4</th>\n",
       "      <td>sydney</td>\n",
       "      <td>1</td>\n",
       "      <td>correlate resources</td>\n",
       "      <td>as a junior data scientist the responsibilitie...</td>\n",
       "      <td>our client is an industry pioneering customer ...</td>\n",
       "      <td>0.0</td>\n",
       "      <td>0</td>\n",
       "      <td>0</td>\n",
       "    </tr>\n",
       "    <tr>\n",
       "      <th>9</th>\n",
       "      <td>sydney</td>\n",
       "      <td>1</td>\n",
       "      <td>genesis it t pty ltd</td>\n",
       "      <td>our client seeks an experienced data scientist...</td>\n",
       "      <td>our client seeks an experienced data scientist...</td>\n",
       "      <td>1.0</td>\n",
       "      <td>0</td>\n",
       "      <td>0</td>\n",
       "    </tr>\n",
       "    <tr>\n",
       "      <th>11</th>\n",
       "      <td>sydney</td>\n",
       "      <td>1</td>\n",
       "      <td>7 recruitment</td>\n",
       "      <td>big data  data mining  machine learning  ai  g...</td>\n",
       "      <td>we are currently working with an organisation ...</td>\n",
       "      <td>1.0</td>\n",
       "      <td>0</td>\n",
       "      <td>0</td>\n",
       "    </tr>\n",
       "    <tr>\n",
       "      <th>13</th>\n",
       "      <td>sydney</td>\n",
       "      <td>1</td>\n",
       "      <td>morgan mckinley</td>\n",
       "      <td>my client  a well established australian insti...</td>\n",
       "      <td>utilise your data science skill set across a v...</td>\n",
       "      <td>1.0</td>\n",
       "      <td>0</td>\n",
       "      <td>0</td>\n",
       "    </tr>\n",
       "    <tr>\n",
       "      <th>14</th>\n",
       "      <td>sydney</td>\n",
       "      <td>1</td>\n",
       "      <td>nakama</td>\n",
       "      <td>data extraction   old  new  limited and huge d...</td>\n",
       "      <td>mature data science practice rapidly expanding...</td>\n",
       "      <td>1.0</td>\n",
       "      <td>1</td>\n",
       "      <td>0</td>\n",
       "    </tr>\n",
       "    <tr>\n",
       "      <th>15</th>\n",
       "      <td>sydney</td>\n",
       "      <td>1</td>\n",
       "      <td>salt recruitment</td>\n",
       "      <td>data modelling  client engagement  statistical...</td>\n",
       "      <td>technology  permanent  sydney  au 100000 00   ...</td>\n",
       "      <td>1.0</td>\n",
       "      <td>0</td>\n",
       "      <td>0</td>\n",
       "    </tr>\n",
       "    <tr>\n",
       "      <th>37</th>\n",
       "      <td>melbourne</td>\n",
       "      <td>1</td>\n",
       "      <td>rmit university</td>\n",
       "      <td>data scientist  analytics   insights  pd   new...</td>\n",
       "      <td>job no  564003  work type  full time   fixed t...</td>\n",
       "      <td>0.0</td>\n",
       "      <td>1</td>\n",
       "      <td>0</td>\n",
       "    </tr>\n",
       "  </tbody>\n",
       "</table>\n",
       "</div>"
      ],
      "text/plain": [
       "     location  title                               company  \\\n",
       "0      sydney      1                   correlate resources   \n",
       "1      sydney      1  alloc8 recruitment solutions pty ltd   \n",
       "3      sydney      1                       morgan mckinley   \n",
       "4      sydney      1                   correlate resources   \n",
       "9      sydney      1                  genesis it t pty ltd   \n",
       "11     sydney      1                         7 recruitment   \n",
       "13     sydney      1                       morgan mckinley   \n",
       "14     sydney      1                                nakama   \n",
       "15     sydney      1                      salt recruitment   \n",
       "37  melbourne      1                       rmit university   \n",
       "\n",
       "                                              summary  \\\n",
       "0   work within a team of industry leading data sc...   \n",
       "1   the need for 2 data scientist is paramount and...   \n",
       "3   the time has come to step up and be counted as...   \n",
       "4   as a junior data scientist the responsibilitie...   \n",
       "9   our client seeks an experienced data scientist...   \n",
       "11  big data  data mining  machine learning  ai  g...   \n",
       "13  my client  a well established australian insti...   \n",
       "14  data extraction   old  new  limited and huge d...   \n",
       "15  data modelling  client engagement  statistical...   \n",
       "37  data scientist  analytics   insights  pd   new...   \n",
       "\n",
       "                                          description  sal_above_mean  \\\n",
       "0   our client is an industry pioneering customer ...             1.0   \n",
       "1   the company   alloc8 have been fortunate enoug...             1.0   \n",
       "3   calling all senior data scientists      the ti...             1.0   \n",
       "4   our client is an industry pioneering customer ...             0.0   \n",
       "9   our client seeks an experienced data scientist...             1.0   \n",
       "11  we are currently working with an organisation ...             1.0   \n",
       "13  utilise your data science skill set across a v...             1.0   \n",
       "14  mature data science practice rapidly expanding...             1.0   \n",
       "15  technology  permanent  sydney  au 100000 00   ...             1.0   \n",
       "37  job no  564003  work type  full time   fixed t...             0.0   \n",
       "\n",
       "    data_summary  business_summary  \n",
       "0              1                 0  \n",
       "1              0                 0  \n",
       "3              0                 0  \n",
       "4              0                 0  \n",
       "9              0                 0  \n",
       "11             0                 0  \n",
       "13             0                 0  \n",
       "14             1                 0  \n",
       "15             0                 0  \n",
       "37             1                 0  "
      ]
     },
     "execution_count": 27,
     "metadata": {},
     "output_type": "execute_result"
    }
   ],
   "source": [
    "df2['data_summary'] = 0                         # Create data scientist summary column, set to 0.\n",
    "df2.ix[(df2.summary.str.contains('understanding') |\n",
    "           df2.summary.str.contains('industry') |\n",
    "           df2.summary.str.contains('excellent') |\n",
    "           df2.summary.str.contains('proven') |\n",
    "           df2.summary.str.contains('develop')|\n",
    "           df2.summary.str.contains('migration')|\n",
    "           df2.summary.str.contains('ability')), 'data_summary'] = 1   # Set to 1 if any of these words appear in the summary.   \n",
    "\n",
    "\n",
    "df2['business_summary'] = 0                         # Create analyst summary column, set to 0.\n",
    "df2.ix[(df2.summary.str.contains('management') |\n",
    "           df2.summary.str.contains('years experience') |\n",
    "           df2.summary.str.contains('solutions') |\n",
    "           df2.summary.str.contains('years') |\n",
    "           df2.summary.str.contains('services') |\n",
    "           df2.summary.str.contains('background') |\n",
    "           df2.summary.str.contains('functional') |\n",
    "           df2.summary.str.contains('analyst role') |\n",
    "           df2.summary.str.contains('business analysts') |\n",
    "           df2.summary.str.contains('project') |\n",
    "           df2.summary.str.contains('agile') |\n",
    "           df2.summary.str.contains('government')), 'business_summary'] = 1   # Set to 1 if any of these words appear in the summary.\n",
    "df2.head(10)"
   ]
  },
  {
   "cell_type": "markdown",
   "metadata": {
    "heading_collapsed": true,
    "hidden": true
   },
   "source": [
    "### Description"
   ]
  },
  {
   "cell_type": "code",
   "execution_count": 28,
   "metadata": {
    "hidden": true
   },
   "outputs": [
    {
     "name": "stderr",
     "output_type": "stream",
     "text": [
      "/Applications/anaconda2/envs/py36/lib/python3.6/site-packages/ipykernel_launcher.py:1: SettingWithCopyWarning: \n",
      "A value is trying to be set on a copy of a slice from a DataFrame.\n",
      "Try using .loc[row_indexer,col_indexer] = value instead\n",
      "\n",
      "See the caveats in the documentation: http://pandas.pydata.org/pandas-docs/stable/indexing.html#indexing-view-versus-copy\n",
      "  \"\"\"Entry point for launching an IPython kernel.\n",
      "/Applications/anaconda2/envs/py36/lib/python3.6/site-packages/pandas/core/indexing.py:537: SettingWithCopyWarning: \n",
      "A value is trying to be set on a copy of a slice from a DataFrame.\n",
      "Try using .loc[row_indexer,col_indexer] = value instead\n",
      "\n",
      "See the caveats in the documentation: http://pandas.pydata.org/pandas-docs/stable/indexing.html#indexing-view-versus-copy\n",
      "  self.obj[item] = s\n",
      "/Applications/anaconda2/envs/py36/lib/python3.6/site-packages/ipykernel_launcher.py:12: SettingWithCopyWarning: \n",
      "A value is trying to be set on a copy of a slice from a DataFrame.\n",
      "Try using .loc[row_indexer,col_indexer] = value instead\n",
      "\n",
      "See the caveats in the documentation: http://pandas.pydata.org/pandas-docs/stable/indexing.html#indexing-view-versus-copy\n",
      "  if sys.path[0] == '':\n"
     ]
    },
    {
     "data": {
      "text/html": [
       "<div>\n",
       "<style scoped>\n",
       "    .dataframe tbody tr th:only-of-type {\n",
       "        vertical-align: middle;\n",
       "    }\n",
       "\n",
       "    .dataframe tbody tr th {\n",
       "        vertical-align: top;\n",
       "    }\n",
       "\n",
       "    .dataframe thead th {\n",
       "        text-align: right;\n",
       "    }\n",
       "</style>\n",
       "<table border=\"1\" class=\"dataframe\">\n",
       "  <thead>\n",
       "    <tr style=\"text-align: right;\">\n",
       "      <th></th>\n",
       "      <th>location</th>\n",
       "      <th>title</th>\n",
       "      <th>company</th>\n",
       "      <th>summary</th>\n",
       "      <th>description</th>\n",
       "      <th>sal_above_mean</th>\n",
       "      <th>data_summary</th>\n",
       "      <th>business_summary</th>\n",
       "      <th>data_description</th>\n",
       "      <th>business_description</th>\n",
       "    </tr>\n",
       "  </thead>\n",
       "  <tbody>\n",
       "    <tr>\n",
       "      <th>0</th>\n",
       "      <td>sydney</td>\n",
       "      <td>1</td>\n",
       "      <td>correlate resources</td>\n",
       "      <td>work within a team of industry leading data sc...</td>\n",
       "      <td>our client is an industry pioneering customer ...</td>\n",
       "      <td>1.0</td>\n",
       "      <td>1</td>\n",
       "      <td>0</td>\n",
       "      <td>1</td>\n",
       "      <td>0</td>\n",
       "    </tr>\n",
       "    <tr>\n",
       "      <th>1</th>\n",
       "      <td>sydney</td>\n",
       "      <td>1</td>\n",
       "      <td>alloc8 recruitment solutions pty ltd</td>\n",
       "      <td>the need for 2 data scientist is paramount and...</td>\n",
       "      <td>the company   alloc8 have been fortunate enoug...</td>\n",
       "      <td>1.0</td>\n",
       "      <td>0</td>\n",
       "      <td>0</td>\n",
       "      <td>1</td>\n",
       "      <td>0</td>\n",
       "    </tr>\n",
       "    <tr>\n",
       "      <th>3</th>\n",
       "      <td>sydney</td>\n",
       "      <td>1</td>\n",
       "      <td>morgan mckinley</td>\n",
       "      <td>the time has come to step up and be counted as...</td>\n",
       "      <td>calling all senior data scientists      the ti...</td>\n",
       "      <td>1.0</td>\n",
       "      <td>0</td>\n",
       "      <td>0</td>\n",
       "      <td>1</td>\n",
       "      <td>1</td>\n",
       "    </tr>\n",
       "    <tr>\n",
       "      <th>4</th>\n",
       "      <td>sydney</td>\n",
       "      <td>1</td>\n",
       "      <td>correlate resources</td>\n",
       "      <td>as a junior data scientist the responsibilitie...</td>\n",
       "      <td>our client is an industry pioneering customer ...</td>\n",
       "      <td>0.0</td>\n",
       "      <td>0</td>\n",
       "      <td>0</td>\n",
       "      <td>1</td>\n",
       "      <td>0</td>\n",
       "    </tr>\n",
       "    <tr>\n",
       "      <th>9</th>\n",
       "      <td>sydney</td>\n",
       "      <td>1</td>\n",
       "      <td>genesis it t pty ltd</td>\n",
       "      <td>our client seeks an experienced data scientist...</td>\n",
       "      <td>our client seeks an experienced data scientist...</td>\n",
       "      <td>1.0</td>\n",
       "      <td>0</td>\n",
       "      <td>0</td>\n",
       "      <td>1</td>\n",
       "      <td>0</td>\n",
       "    </tr>\n",
       "    <tr>\n",
       "      <th>11</th>\n",
       "      <td>sydney</td>\n",
       "      <td>1</td>\n",
       "      <td>7 recruitment</td>\n",
       "      <td>big data  data mining  machine learning  ai  g...</td>\n",
       "      <td>we are currently working with an organisation ...</td>\n",
       "      <td>1.0</td>\n",
       "      <td>0</td>\n",
       "      <td>0</td>\n",
       "      <td>1</td>\n",
       "      <td>0</td>\n",
       "    </tr>\n",
       "    <tr>\n",
       "      <th>13</th>\n",
       "      <td>sydney</td>\n",
       "      <td>1</td>\n",
       "      <td>morgan mckinley</td>\n",
       "      <td>my client  a well established australian insti...</td>\n",
       "      <td>utilise your data science skill set across a v...</td>\n",
       "      <td>1.0</td>\n",
       "      <td>0</td>\n",
       "      <td>0</td>\n",
       "      <td>1</td>\n",
       "      <td>0</td>\n",
       "    </tr>\n",
       "    <tr>\n",
       "      <th>14</th>\n",
       "      <td>sydney</td>\n",
       "      <td>1</td>\n",
       "      <td>nakama</td>\n",
       "      <td>data extraction   old  new  limited and huge d...</td>\n",
       "      <td>mature data science practice rapidly expanding...</td>\n",
       "      <td>1.0</td>\n",
       "      <td>1</td>\n",
       "      <td>0</td>\n",
       "      <td>1</td>\n",
       "      <td>0</td>\n",
       "    </tr>\n",
       "    <tr>\n",
       "      <th>15</th>\n",
       "      <td>sydney</td>\n",
       "      <td>1</td>\n",
       "      <td>salt recruitment</td>\n",
       "      <td>data modelling  client engagement  statistical...</td>\n",
       "      <td>technology  permanent  sydney  au 100000 00   ...</td>\n",
       "      <td>1.0</td>\n",
       "      <td>0</td>\n",
       "      <td>0</td>\n",
       "      <td>1</td>\n",
       "      <td>0</td>\n",
       "    </tr>\n",
       "    <tr>\n",
       "      <th>37</th>\n",
       "      <td>melbourne</td>\n",
       "      <td>1</td>\n",
       "      <td>rmit university</td>\n",
       "      <td>data scientist  analytics   insights  pd   new...</td>\n",
       "      <td>job no  564003  work type  full time   fixed t...</td>\n",
       "      <td>0.0</td>\n",
       "      <td>1</td>\n",
       "      <td>0</td>\n",
       "      <td>1</td>\n",
       "      <td>0</td>\n",
       "    </tr>\n",
       "  </tbody>\n",
       "</table>\n",
       "</div>"
      ],
      "text/plain": [
       "     location  title                               company  \\\n",
       "0      sydney      1                   correlate resources   \n",
       "1      sydney      1  alloc8 recruitment solutions pty ltd   \n",
       "3      sydney      1                       morgan mckinley   \n",
       "4      sydney      1                   correlate resources   \n",
       "9      sydney      1                  genesis it t pty ltd   \n",
       "11     sydney      1                         7 recruitment   \n",
       "13     sydney      1                       morgan mckinley   \n",
       "14     sydney      1                                nakama   \n",
       "15     sydney      1                      salt recruitment   \n",
       "37  melbourne      1                       rmit university   \n",
       "\n",
       "                                              summary  \\\n",
       "0   work within a team of industry leading data sc...   \n",
       "1   the need for 2 data scientist is paramount and...   \n",
       "3   the time has come to step up and be counted as...   \n",
       "4   as a junior data scientist the responsibilitie...   \n",
       "9   our client seeks an experienced data scientist...   \n",
       "11  big data  data mining  machine learning  ai  g...   \n",
       "13  my client  a well established australian insti...   \n",
       "14  data extraction   old  new  limited and huge d...   \n",
       "15  data modelling  client engagement  statistical...   \n",
       "37  data scientist  analytics   insights  pd   new...   \n",
       "\n",
       "                                          description  sal_above_mean  \\\n",
       "0   our client is an industry pioneering customer ...             1.0   \n",
       "1   the company   alloc8 have been fortunate enoug...             1.0   \n",
       "3   calling all senior data scientists      the ti...             1.0   \n",
       "4   our client is an industry pioneering customer ...             0.0   \n",
       "9   our client seeks an experienced data scientist...             1.0   \n",
       "11  we are currently working with an organisation ...             1.0   \n",
       "13  utilise your data science skill set across a v...             1.0   \n",
       "14  mature data science practice rapidly expanding...             1.0   \n",
       "15  technology  permanent  sydney  au 100000 00   ...             1.0   \n",
       "37  job no  564003  work type  full time   fixed t...             0.0   \n",
       "\n",
       "    data_summary  business_summary  data_description  business_description  \n",
       "0              1                 0                 1                     0  \n",
       "1              0                 0                 1                     0  \n",
       "3              0                 0                 1                     1  \n",
       "4              0                 0                 1                     0  \n",
       "9              0                 0                 1                     0  \n",
       "11             0                 0                 1                     0  \n",
       "13             0                 0                 1                     0  \n",
       "14             1                 0                 1                     0  \n",
       "15             0                 0                 1                     0  \n",
       "37             1                 0                 1                     0  "
      ]
     },
     "execution_count": 28,
     "metadata": {},
     "output_type": "execute_result"
    }
   ],
   "source": [
    "df2['data_description'] = 0\n",
    "df2.ix[(df2.description.str.contains('sap') |\n",
    "           df2.description.str.contains('strategic') |\n",
    "           df2.description.str.contains('lead') |\n",
    "           df2.description.str.contains('insights') |\n",
    "           df2.description.str.contains('advanced') |\n",
    "           df2.description.str.contains('government') |\n",
    "           df2.description.str.contains('engagement') |\n",
    "           df2.description.str.contains('modelling')), 'data_description'] = 1\n",
    "\n",
    "\n",
    "df2['business_description'] = 0\n",
    "df2.ix[(df2.description.str.contains('executive') |\n",
    "           df2.description.str.contains('analysts') |\n",
    "           df2.description.str.contains('analyst junior')), 'business_description'] = 1\n",
    "df2.head(10)"
   ]
  },
  {
   "cell_type": "markdown",
   "metadata": {
    "heading_collapsed": true,
    "hidden": true
   },
   "source": [
    "### Other Columns"
   ]
  },
  {
   "cell_type": "markdown",
   "metadata": {
    "hidden": true
   },
   "source": [
    "---\n",
    "I have created the NLP binary features from the summary and description. Now I need to sort out the other columns so that I have a completely numeric and binary dataframe to feed into the model.\n",
    "\n",
    "---"
   ]
  },
  {
   "cell_type": "code",
   "execution_count": 29,
   "metadata": {
    "hidden": true
   },
   "outputs": [],
   "source": [
    "cities = pd.get_dummies(df2.location)       # Create dummy variables from location.\n",
    "df2 = pd.concat([df2, cities], axis=1)      # Concatonate to main dataframe."
   ]
  },
  {
   "cell_type": "code",
   "execution_count": 30,
   "metadata": {
    "hidden": true
   },
   "outputs": [],
   "source": [
    "df2.drop(['location', 'company', 'summary', 'description'], axis=1, inplace=True)\n",
    "# Drop other non-numeric columns."
   ]
  },
  {
   "cell_type": "code",
   "execution_count": 31,
   "metadata": {
    "hidden": true
   },
   "outputs": [
    {
     "data": {
      "text/html": [
       "<div>\n",
       "<style scoped>\n",
       "    .dataframe tbody tr th:only-of-type {\n",
       "        vertical-align: middle;\n",
       "    }\n",
       "\n",
       "    .dataframe tbody tr th {\n",
       "        vertical-align: top;\n",
       "    }\n",
       "\n",
       "    .dataframe thead th {\n",
       "        text-align: right;\n",
       "    }\n",
       "</style>\n",
       "<table border=\"1\" class=\"dataframe\">\n",
       "  <thead>\n",
       "    <tr style=\"text-align: right;\">\n",
       "      <th></th>\n",
       "      <th>title</th>\n",
       "      <th>sal_above_mean</th>\n",
       "      <th>data_summary</th>\n",
       "      <th>business_summary</th>\n",
       "      <th>data_description</th>\n",
       "      <th>business_description</th>\n",
       "      <th>adelaide</th>\n",
       "      <th>brisbane</th>\n",
       "      <th>melbourne</th>\n",
       "      <th>perth</th>\n",
       "      <th>sydney</th>\n",
       "    </tr>\n",
       "  </thead>\n",
       "  <tbody>\n",
       "    <tr>\n",
       "      <th>0</th>\n",
       "      <td>1</td>\n",
       "      <td>1.0</td>\n",
       "      <td>1</td>\n",
       "      <td>0</td>\n",
       "      <td>1</td>\n",
       "      <td>0</td>\n",
       "      <td>0</td>\n",
       "      <td>0</td>\n",
       "      <td>0</td>\n",
       "      <td>0</td>\n",
       "      <td>1</td>\n",
       "    </tr>\n",
       "    <tr>\n",
       "      <th>1</th>\n",
       "      <td>1</td>\n",
       "      <td>1.0</td>\n",
       "      <td>0</td>\n",
       "      <td>0</td>\n",
       "      <td>1</td>\n",
       "      <td>0</td>\n",
       "      <td>0</td>\n",
       "      <td>0</td>\n",
       "      <td>0</td>\n",
       "      <td>0</td>\n",
       "      <td>1</td>\n",
       "    </tr>\n",
       "    <tr>\n",
       "      <th>3</th>\n",
       "      <td>1</td>\n",
       "      <td>1.0</td>\n",
       "      <td>0</td>\n",
       "      <td>0</td>\n",
       "      <td>1</td>\n",
       "      <td>1</td>\n",
       "      <td>0</td>\n",
       "      <td>0</td>\n",
       "      <td>0</td>\n",
       "      <td>0</td>\n",
       "      <td>1</td>\n",
       "    </tr>\n",
       "    <tr>\n",
       "      <th>4</th>\n",
       "      <td>1</td>\n",
       "      <td>0.0</td>\n",
       "      <td>0</td>\n",
       "      <td>0</td>\n",
       "      <td>1</td>\n",
       "      <td>0</td>\n",
       "      <td>0</td>\n",
       "      <td>0</td>\n",
       "      <td>0</td>\n",
       "      <td>0</td>\n",
       "      <td>1</td>\n",
       "    </tr>\n",
       "    <tr>\n",
       "      <th>9</th>\n",
       "      <td>1</td>\n",
       "      <td>1.0</td>\n",
       "      <td>0</td>\n",
       "      <td>0</td>\n",
       "      <td>1</td>\n",
       "      <td>0</td>\n",
       "      <td>0</td>\n",
       "      <td>0</td>\n",
       "      <td>0</td>\n",
       "      <td>0</td>\n",
       "      <td>1</td>\n",
       "    </tr>\n",
       "  </tbody>\n",
       "</table>\n",
       "</div>"
      ],
      "text/plain": [
       "   title  sal_above_mean  data_summary  business_summary  data_description  \\\n",
       "0      1             1.0             1                 0                 1   \n",
       "1      1             1.0             0                 0                 1   \n",
       "3      1             1.0             0                 0                 1   \n",
       "4      1             0.0             0                 0                 1   \n",
       "9      1             1.0             0                 0                 1   \n",
       "\n",
       "   business_description  adelaide  brisbane  melbourne  perth  sydney  \n",
       "0                     0         0         0          0      0       1  \n",
       "1                     0         0         0          0      0       1  \n",
       "3                     1         0         0          0      0       1  \n",
       "4                     0         0         0          0      0       1  \n",
       "9                     0         0         0          0      0       1  "
      ]
     },
     "execution_count": 31,
     "metadata": {},
     "output_type": "execute_result"
    }
   ],
   "source": [
    "df2.head()"
   ]
  },
  {
   "cell_type": "code",
   "execution_count": 32,
   "metadata": {
    "hidden": true
   },
   "outputs": [
    {
     "data": {
      "text/plain": [
       "(975, 11)"
      ]
     },
     "execution_count": 32,
     "metadata": {},
     "output_type": "execute_result"
    }
   ],
   "source": [
    "df2.shape"
   ]
  },
  {
   "cell_type": "markdown",
   "metadata": {
    "heading_collapsed": true
   },
   "source": [
    "## Modelling"
   ]
  },
  {
   "cell_type": "markdown",
   "metadata": {
    "hidden": true
   },
   "source": [
    "---\n",
    "Now that I have my features I can create my model to predict if a job will be a data scientist or business analyst. I will initially try a decision tree, but I may try other classifier models if it does not perform well.\n",
    "\n",
    "---"
   ]
  },
  {
   "cell_type": "markdown",
   "metadata": {
    "heading_collapsed": true,
    "hidden": true
   },
   "source": [
    "### Decision Tree"
   ]
  },
  {
   "cell_type": "code",
   "execution_count": 33,
   "metadata": {
    "hidden": true
   },
   "outputs": [
    {
     "data": {
      "text/plain": [
       "title    0.86359\n",
       "dtype: float64"
      ]
     },
     "execution_count": 33,
     "metadata": {},
     "output_type": "execute_result"
    }
   ],
   "source": [
    "# Check baseline accuracy.\n",
    "baseline_acc = 1 - y_title.mean()\n",
    "baseline_acc"
   ]
  },
  {
   "cell_type": "markdown",
   "metadata": {
    "hidden": true
   },
   "source": [
    "---\n",
    "The baseline accurracy is high, 86%. This is due to the class imbalance whereby most of the records are business analysts rather than data scientists.\n",
    "\n",
    "---"
   ]
  },
  {
   "cell_type": "code",
   "execution_count": 34,
   "metadata": {
    "hidden": true
   },
   "outputs": [
    {
     "data": {
      "text/plain": [
       "(975, 10)"
      ]
     },
     "execution_count": 34,
     "metadata": {},
     "output_type": "execute_result"
    }
   ],
   "source": [
    "# Create X variable of predictors.\n",
    "X_title = df2.iloc[::, 1::]\n",
    "X_title.shape"
   ]
  },
  {
   "cell_type": "code",
   "execution_count": 35,
   "metadata": {
    "hidden": true
   },
   "outputs": [
    {
     "data": {
      "text/plain": [
       "(975,)"
      ]
     },
     "execution_count": 35,
     "metadata": {},
     "output_type": "execute_result"
    }
   ],
   "source": [
    "# Create y variable of target.\n",
    "y_title = df2.iloc[::, 0]\n",
    "y_title.shape"
   ]
  },
  {
   "cell_type": "code",
   "execution_count": 36,
   "metadata": {
    "hidden": true
   },
   "outputs": [],
   "source": [
    "# Train / test split, 75:25 split, stratify on y_title to ensure roughly equal proportions of data scientists and business analysts in both training and testing data. \n",
    "X_train, X_test, y_train, y_test = train_test_split(X_title, y_title, test_size=0.25, stratify=y_title, random_state=34)"
   ]
  },
  {
   "cell_type": "code",
   "execution_count": 37,
   "metadata": {
    "hidden": true
   },
   "outputs": [
    {
     "name": "stdout",
     "output_type": "stream",
     "text": [
      "X_train shape: (731, 10)\n",
      "y_train shape: (731,)\n",
      "X_test shape: (244, 10)\n",
      "y_test shape: (244,)\n"
     ]
    }
   ],
   "source": [
    "print('X_train shape:', X_train.shape)\n",
    "print('y_train shape:', y_train.shape)\n",
    "print('X_test shape:', X_test.shape)\n",
    "print('y_test shape:', y_test.shape)"
   ]
  },
  {
   "cell_type": "code",
   "execution_count": 38,
   "metadata": {
    "hidden": true,
    "scrolled": true
   },
   "outputs": [
    {
     "data": {
      "text/plain": [
       "0    211\n",
       "1     33\n",
       "Name: title, dtype: int64"
      ]
     },
     "execution_count": 38,
     "metadata": {},
     "output_type": "execute_result"
    }
   ],
   "source": [
    "y_test.value_counts()"
   ]
  },
  {
   "cell_type": "markdown",
   "metadata": {
    "hidden": true
   },
   "source": [
    "---\n",
    "I will create multiple decision trees of different depths to see which one performs best.\n",
    "\n",
    "---"
   ]
  },
  {
   "cell_type": "code",
   "execution_count": 39,
   "metadata": {
    "hidden": true
   },
   "outputs": [],
   "source": [
    "# Create decision trees.\n",
    "dtr1 = DecisionTreeClassifier(max_depth=1)\n",
    "dtr2 = DecisionTreeClassifier(max_depth=2)\n",
    "dtr3 = DecisionTreeClassifier(max_depth=3)\n",
    "dtrN = DecisionTreeClassifier(max_depth=None)"
   ]
  },
  {
   "cell_type": "code",
   "execution_count": 40,
   "metadata": {
    "hidden": true
   },
   "outputs": [
    {
     "data": {
      "text/plain": [
       "DecisionTreeClassifier(class_weight=None, criterion='gini', max_depth=None,\n",
       "            max_features=None, max_leaf_nodes=None,\n",
       "            min_impurity_decrease=0.0, min_impurity_split=None,\n",
       "            min_samples_leaf=1, min_samples_split=2,\n",
       "            min_weight_fraction_leaf=0.0, presort=False, random_state=None,\n",
       "            splitter='best')"
      ]
     },
     "execution_count": 40,
     "metadata": {},
     "output_type": "execute_result"
    }
   ],
   "source": [
    "# Fit trees to training data.\n",
    "dtr1.fit(X_train, y_train)\n",
    "dtr2.fit(X_train, y_train)\n",
    "dtr3.fit(X_train, y_train)\n",
    "dtrN.fit(X_train, y_train)"
   ]
  },
  {
   "cell_type": "code",
   "execution_count": 41,
   "metadata": {
    "hidden": true
   },
   "outputs": [
    {
     "name": "stdout",
     "output_type": "stream",
     "text": [
      "0.8632010943912448\n",
      "0.8632010943912448\n",
      "0.8632010943912448\n",
      "0.8741450068399452\n"
     ]
    }
   ],
   "source": [
    "# Training scores.\n",
    "print(dtr1.score(X_train, y_train))\n",
    "print(dtr2.score(X_train, y_train))\n",
    "print(dtr3.score(X_train, y_train))\n",
    "print(dtrN.score(X_train, y_train))"
   ]
  },
  {
   "cell_type": "markdown",
   "metadata": {
    "hidden": true
   },
   "source": [
    "---\n",
    "All test scores are roughly the same, only just above the baseline. The tree that has no maximum depth has the best training score of 0.877.\n",
    "\n",
    "---"
   ]
  },
  {
   "cell_type": "code",
   "execution_count": 42,
   "metadata": {
    "hidden": true
   },
   "outputs": [
    {
     "name": "stdout",
     "output_type": "stream",
     "text": [
      "(array([0.86394558, 0.8630137 , 0.8630137 , 0.8630137 , 0.8630137 ]), 0.8632000745503682)\n",
      "(array([0.86394558, 0.8630137 , 0.8630137 , 0.8630137 , 0.8630137 ]), 0.8632000745503682)\n",
      "(array([0.86394558, 0.8630137 , 0.8630137 , 0.8630137 , 0.8630137 ]), 0.8632000745503682)\n",
      "(array([0.83673469, 0.8630137 , 0.84246575, 0.86986301, 0.85616438]), 0.8536483086385239)\n"
     ]
    }
   ],
   "source": [
    "# Check cross validation scores - 5 folds.\n",
    "dtr1_scores = cross_val_score(dtr1, X_train, y_train, cv=5)\n",
    "dtr2_scores = cross_val_score(dtr2, X_train, y_train, cv=5)\n",
    "dtr3_scores = cross_val_score(dtr3, X_train, y_train, cv=5)\n",
    "dtrN_scores = cross_val_score(dtrN, X_train, y_train, cv=5)\n",
    "\n",
    "print((dtr1_scores, np.mean(dtr1_scores)))\n",
    "print((dtr2_scores, np.mean(dtr2_scores)))\n",
    "print((dtr3_scores, np.mean(dtr3_scores)))\n",
    "print((dtrN_scores, np.mean(dtrN_scores)))"
   ]
  },
  {
   "cell_type": "markdown",
   "metadata": {
    "hidden": true
   },
   "source": [
    "---\n",
    "When cross-validating the training data, the model performs consistently across all folds.\n",
    "\n",
    "---"
   ]
  },
  {
   "cell_type": "code",
   "execution_count": 43,
   "metadata": {
    "hidden": true
   },
   "outputs": [
    {
     "name": "stdout",
     "output_type": "stream",
     "text": [
      "0.8647540983606558\n",
      "0.8647540983606558\n",
      "0.8647540983606558\n",
      "0.8770491803278688\n"
     ]
    }
   ],
   "source": [
    "# Training scores.\n",
    "print(dtr1.score(X_test, y_test))\n",
    "print(dtr2.score(X_test, y_test))\n",
    "print(dtr3.score(X_test, y_test))\n",
    "print(dtrN.score(X_test, y_test))"
   ]
  },
  {
   "cell_type": "markdown",
   "metadata": {
    "hidden": true
   },
   "source": [
    "---\n",
    "The test scores are very close to the training scores. Again, the tree without a maximum depth performs the best.\n",
    "\n",
    "---"
   ]
  },
  {
   "cell_type": "code",
   "execution_count": 44,
   "metadata": {
    "hidden": true
   },
   "outputs": [
    {
     "name": "stdout",
     "output_type": "stream",
     "text": [
      "[[208   3]\n",
      " [ 27   6]]\n",
      "\n",
      "\n",
      "                  precision    recall  f1-score   support\n",
      "\n",
      "business analyst       0.89      0.99      0.93       211\n",
      "  data scientist       0.67      0.18      0.29        33\n",
      "\n",
      "     avg / total       0.86      0.88      0.85       244\n",
      "\n"
     ]
    }
   ],
   "source": [
    "print (confusion_matrix(y_test, dtrN.predict(X_test)))    # True (-ve),  False (+ve)\n",
    "                                                          # False (-ve), True (+ve)\n",
    "print('\\n')    \n",
    "print(classification_report(y_test, dtrN.predict(X_test), target_names=['business analyst', 'data scientist'])) "
   ]
  },
  {
   "cell_type": "markdown",
   "metadata": {
    "hidden": true
   },
   "source": [
    "---\n",
    "Looking at the confusion matrix reveals that only around 20% of the data scientist jobs are being predicted correctly. In other words, there are a lot more false negatives than true positives, so the model is struggling to distinguish between business analyst and data scientist. The high accuracy score of the model is due to the large class imbalance between business analysts and data scientists.\n",
    "\n",
    "---"
   ]
  },
  {
   "cell_type": "markdown",
   "metadata": {
    "hidden": true
   },
   "source": [
    "I will try using logistic regression and KNN to see if they are able to perform any better.\n",
    "\n",
    "---"
   ]
  },
  {
   "cell_type": "markdown",
   "metadata": {
    "heading_collapsed": true,
    "hidden": true
   },
   "source": [
    "### Logistic Regression"
   ]
  },
  {
   "cell_type": "code",
   "execution_count": 45,
   "metadata": {
    "hidden": true
   },
   "outputs": [],
   "source": [
    "# Create logistic regression model and fit it to training data.\n",
    "logreg = LogisticRegression()\n",
    "model = logreg.fit(X_train, y_train)"
   ]
  },
  {
   "cell_type": "code",
   "execution_count": 46,
   "metadata": {
    "hidden": true
   },
   "outputs": [
    {
     "data": {
      "text/plain": [
       "0.8673050615595075"
      ]
     },
     "execution_count": 46,
     "metadata": {},
     "output_type": "execute_result"
    }
   ],
   "source": [
    "# Training score.\n",
    "model.score(X_train, y_train)"
   ]
  },
  {
   "cell_type": "code",
   "execution_count": 47,
   "metadata": {
    "hidden": true
   },
   "outputs": [
    {
     "data": {
      "text/plain": [
       "0.860655737704918"
      ]
     },
     "execution_count": 47,
     "metadata": {},
     "output_type": "execute_result"
    }
   ],
   "source": [
    "# Testing score.\n",
    "model.score(X_test, y_test)"
   ]
  },
  {
   "cell_type": "markdown",
   "metadata": {
    "hidden": true
   },
   "source": [
    "---\n",
    "As with the decision trees, the logistic regression is getting accuracy scores of roughly the baseline.\n",
    "\n",
    "---"
   ]
  },
  {
   "cell_type": "code",
   "execution_count": 48,
   "metadata": {
    "hidden": true
   },
   "outputs": [
    {
     "name": "stdout",
     "output_type": "stream",
     "text": [
      "[[210   1]\n",
      " [ 33   0]]\n",
      "\n",
      "\n",
      "                  precision    recall  f1-score   support\n",
      "\n",
      "business analyst       0.86      1.00      0.93       211\n",
      "  data scientist       0.00      0.00      0.00        33\n",
      "\n",
      "     avg / total       0.75      0.86      0.80       244\n",
      "\n"
     ]
    }
   ],
   "source": [
    "print (confusion_matrix(y_test, model.predict(X_test)))    # True (-ve),  False (+ve)\n",
    "                                                           # False (-ve), True (+ve)\n",
    "print('\\n')    \n",
    "print(classification_report(y_test, model.predict(X_test), target_names=['business analyst', 'data scientist'])) "
   ]
  },
  {
   "cell_type": "markdown",
   "metadata": {
    "hidden": true
   },
   "source": [
    "---\n",
    "The confusion matrix reveals that logistic regression is performing much worse than the decision tree. It is not able to correctly predict any data scientists. It has only predicted 1 data scientist and this is a false positive. Everything else has been classified as a business analyst.\n",
    "\n",
    "---"
   ]
  },
  {
   "cell_type": "code",
   "execution_count": 49,
   "metadata": {
    "hidden": true
   },
   "outputs": [
    {
     "data": {
      "text/plain": [
       "array([0, 0, 0, 0, 0, 0, 0, 0, 0, 0, 0, 0, 0, 0, 0, 0, 0, 0, 0, 0, 0, 0,\n",
       "       0, 0, 0, 0, 0, 0, 0, 0, 0, 0, 0, 0, 0, 0, 0, 0, 0, 0, 0, 0, 0, 0,\n",
       "       0, 0, 0, 0, 0, 0, 0, 0, 0, 0, 0, 0, 0, 0, 0, 0, 0, 0, 0, 0, 0, 0,\n",
       "       0, 0, 0, 0, 0, 0, 0, 0, 0, 0, 0, 0, 0, 0, 0, 0, 0, 0, 0, 0, 0, 0,\n",
       "       0, 0, 0, 0, 0, 0, 0, 0, 0, 0, 0, 0, 0, 0, 0, 0, 0, 0, 0, 0, 0, 0,\n",
       "       0, 0, 0, 0, 0, 0, 0, 0, 0, 0, 0, 0, 0, 0, 0, 0, 0, 0, 0, 0, 0, 0,\n",
       "       0, 0, 0, 0, 0, 0, 0, 0, 0, 0, 0, 0, 0, 0, 0, 0, 0, 0, 0, 0, 0, 0,\n",
       "       0, 0, 0, 0, 0, 0, 0, 0, 0, 0, 0, 0, 0, 0, 0, 1, 0, 0, 0, 0, 0, 0,\n",
       "       0, 0, 0, 0, 0, 0, 0, 0, 0, 0, 0, 0, 0, 0, 0, 0, 0, 0, 0, 0, 0, 0,\n",
       "       0, 0, 0, 0, 0, 0, 0, 0, 0, 0, 0, 0, 0, 0, 0, 0, 0, 0, 0, 0, 0, 0,\n",
       "       0, 0, 0, 0, 0, 0, 0, 0, 0, 0, 0, 0, 0, 0, 0, 0, 0, 0, 0, 0, 0, 0,\n",
       "       0, 0])"
      ]
     },
     "execution_count": 49,
     "metadata": {},
     "output_type": "execute_result"
    }
   ],
   "source": [
    "model.predict(X_test)"
   ]
  },
  {
   "cell_type": "markdown",
   "metadata": {
    "hidden": true
   },
   "source": [
    "---\n",
    "As seen in the confusion matrix, the model is only predicting a single data scientist. The confusion matrix revealed this to be a false positive. I will now try KNN.\n",
    "\n",
    "---"
   ]
  },
  {
   "cell_type": "markdown",
   "metadata": {
    "heading_collapsed": true,
    "hidden": true
   },
   "source": [
    "### KNN"
   ]
  },
  {
   "cell_type": "code",
   "execution_count": 50,
   "metadata": {
    "hidden": true
   },
   "outputs": [],
   "source": [
    "# Create KNN model, 9-nearest neighbours.\n",
    "knn = KNeighborsClassifier(n_neighbors=9, weights='uniform')"
   ]
  },
  {
   "cell_type": "code",
   "execution_count": 51,
   "metadata": {
    "hidden": true
   },
   "outputs": [
    {
     "data": {
      "text/plain": [
       "KNeighborsClassifier(algorithm='auto', leaf_size=30, metric='minkowski',\n",
       "           metric_params=None, n_jobs=1, n_neighbors=9, p=2,\n",
       "           weights='uniform')"
      ]
     },
     "execution_count": 51,
     "metadata": {},
     "output_type": "execute_result"
    }
   ],
   "source": [
    "# Fit to training data.\n",
    "knn.fit(X_train, y_train)"
   ]
  },
  {
   "cell_type": "code",
   "execution_count": 52,
   "metadata": {
    "hidden": true
   },
   "outputs": [
    {
     "data": {
      "text/plain": [
       "0.86593707250342"
      ]
     },
     "execution_count": 52,
     "metadata": {},
     "output_type": "execute_result"
    }
   ],
   "source": [
    "# Training score.\n",
    "knn.score(X_train, y_train)"
   ]
  },
  {
   "cell_type": "code",
   "execution_count": 53,
   "metadata": {
    "hidden": true
   },
   "outputs": [
    {
     "data": {
      "text/plain": [
       "0.8729508196721312"
      ]
     },
     "execution_count": 53,
     "metadata": {},
     "output_type": "execute_result"
    }
   ],
   "source": [
    "# Testing score.\n",
    "knn.score(X_test, y_test)"
   ]
  },
  {
   "cell_type": "markdown",
   "metadata": {
    "hidden": true
   },
   "source": [
    "---\n",
    "As with the decision trees and logistic regression, the scores for KNN are roughly baseline. I will need to check the confusion matrix to get a better understanding of how the model is performing.\n",
    "\n",
    "---"
   ]
  },
  {
   "cell_type": "code",
   "execution_count": 54,
   "metadata": {
    "hidden": true
   },
   "outputs": [
    {
     "name": "stdout",
     "output_type": "stream",
     "text": [
      "[[206   5]\n",
      " [ 26   7]]\n",
      "\n",
      "\n",
      "                  precision    recall  f1-score   support\n",
      "\n",
      "business analyst       0.89      0.98      0.93       211\n",
      "  data scientist       0.58      0.21      0.31        33\n",
      "\n",
      "     avg / total       0.85      0.87      0.85       244\n",
      "\n"
     ]
    }
   ],
   "source": [
    "print (confusion_matrix(y_test, knn.predict(X_test)))      # True (-ve),  False (+ve)\n",
    "                                                           # False (-ve), True (+ve)\n",
    "print('\\n')    \n",
    "print(classification_report(y_test, knn.predict(X_test), target_names=['business analyst', 'data scientist']))"
   ]
  },
  {
   "cell_type": "markdown",
   "metadata": {
    "hidden": true
   },
   "source": [
    "---\n",
    "The KNN model has correctly predicted 1 more data scientist than the decision tree. However, there are also more false positives. Therefore, I would conclude that the decision tree has performed the best on this data. Despite this, I am still not happy with the results of the model as it is still unable to distinguish between data scientists and business analysts. As all models are producing similar results, I have concluded that the data that I have scraped, in particular the summaries and descriptions, are not good predictors of job title. The features were not accurately able to distinguish between the two types of job. I believe more data would be required to produce a model that could perform better than the baseline.\n",
    "\n",
    "---"
   ]
  }
 ],
 "metadata": {
  "kernelspec": {
   "display_name": "Python 3",
   "language": "python",
   "name": "python3"
  },
  "language_info": {
   "codemirror_mode": {
    "name": "ipython",
    "version": 3
   },
   "file_extension": ".py",
   "mimetype": "text/x-python",
   "name": "python",
   "nbconvert_exporter": "python",
   "pygments_lexer": "ipython3",
   "version": "3.6.4"
  }
 },
 "nbformat": 4,
 "nbformat_minor": 2
}
